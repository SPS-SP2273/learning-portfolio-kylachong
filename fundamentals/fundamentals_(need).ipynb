{
 "cells": [
  {
   "attachments": {},
   "cell_type": "markdown",
   "id": "123456",
   "metadata": {},
   "source": [
    "<div style=\"text-align:left;font-size:2em\"><span style=\"font-weight:bolder;font-size:1.25em\">SP2273 | Learning Portfolio</span><br><br><span style=\"font-weight:bold;color:darkred\">Fundamentals (Need)</span></div>"
   ]
  },
  {
   "attachments": {},
   "cell_type": "markdown",
   "id": "905856ec",
   "metadata": {},
   "source": [
    "# What to expect in this chapter"
   ]
  },
  {
   "cell_type": "markdown",
   "id": "37ec6371-f3ae-403c-8705-e07d0911a19e",
   "metadata": {},
   "source": [
    "By the end of this chapter, you will understand the absolute fundamentals of Python's syntax. These include how Python uses indentation (spaces, tabs) to identify blocks of code, how to use the dot(`.`) and how to extend Python's abilities by importing packages. Tips will be shared on what to remember (or not) so that you know what to watch out for."
   ]
  },
  {
   "attachments": {},
   "cell_type": "markdown",
   "id": "2866bed3",
   "metadata": {},
   "source": [
    "# Functions"
   ]
  },
  {
   "cell_type": "code",
   "execution_count": 2,
   "id": "b6f4ced8-7e42-48ce-81ee-a5ed6e5a4394",
   "metadata": {},
   "outputs": [
    {
     "name": "stdout",
     "output_type": "stream",
     "text": [
      "Hello world!\n"
     ]
    }
   ],
   "source": [
    "print('Hello world!')"
   ]
  },
  {
   "cell_type": "markdown",
   "id": "bc03e9c2-6656-460c-aa97-f225226f4659",
   "metadata": {},
   "source": [
    "As seen above, you should see the words `Hello World!` as the output.\n",
    "\n",
    "Allow me to highlight a few things in this command.\n",
    "\n",
    "- `print()` is a <font color='orange'>function</font>.\n",
    "  You can think of a function as ‘something’ that does a specific task. In this case, the    `print()` function accepts the “Hello world” <font color='orange'>argument</font> and\n",
    "   prints it to the screen.\n",
    "\n",
    "- Parentheses, `()`, **always** follow a function.\n",
    "  We use these parentheses to pass arguments to the function. Most functions expect   arguments; the parentheses are left empty for those functions that don’t require an   argument (e.g. `exit()`).\n",
    "  \n",
    "- `print()` is a core (in-built) function of Python.\n",
    "  We can also define our own functions. This is an extremely powerful feature, which we   will explore later.\n",
    "  \n",
    "- The above is an example of what we call <font color='orange'>code</font>; instructions written using a syntax that a programming language understands.\n",
    "\n",
    "**Remember**:\n",
    "\n",
    "- A function is 'something' that executes a specific task.\n",
    "- A function may or may not accept arguments.\n",
    "- We can define our own functions."
   ]
  },
  {
   "attachments": {},
   "cell_type": "markdown",
   "id": "e5bc04ac",
   "metadata": {},
   "source": [
    "# Python is interpreted"
   ]
  },
  {
   "cell_type": "markdown",
   "id": "aa86cf61-9827-446d-a2b3-ea8ce9558b8e",
   "metadata": {},
   "source": [
    "What we refer to as 'Python' is really the Python <font color='orange'>interpreter</font>.\n",
    "\n",
    "An interpreter works **sequentially, one command at a time**. So, for example, the following has two commands."
   ]
  },
  {
   "cell_type": "code",
   "execution_count": 3,
   "id": "60ea0607-8c6e-4362-9025-97a45214c235",
   "metadata": {},
   "outputs": [
    {
     "name": "stdout",
     "output_type": "stream",
     "text": [
      "Hello World\n",
      "Hello World again\n"
     ]
    }
   ],
   "source": [
    "print('Hello World')\n",
    "print('Hello World again')"
   ]
  },
  {
   "cell_type": "markdown",
   "id": "9e9ccd34-2539-4cc6-866c-667169099e5e",
   "metadata": {},
   "source": [
    "The interpreter stops and complains if there is an error in the command it is currently executing."
   ]
  },
  {
   "attachments": {},
   "cell_type": "markdown",
   "id": "e08ab8d9",
   "metadata": {},
   "source": [
    "# Python is sensitive."
   ]
  },
  {
   "cell_type": "markdown",
   "id": "0f21be6a-4ebe-4d20-8e3d-cdb3cac439d7",
   "metadata": {},
   "source": [
    "Python is case-sensitive, so `Print()` is different from `print()`.\n",
    "\n",
    "This means,"
   ]
  },
  {
   "cell_type": "code",
   "execution_count": 4,
   "id": "2a5fcde3-0834-45ab-8b9e-dc68598ba471",
   "metadata": {},
   "outputs": [
    {
     "name": "stdout",
     "output_type": "stream",
     "text": [
      "Hello World\n"
     ]
    },
    {
     "ename": "NameError",
     "evalue": "name 'Print' is not defined",
     "output_type": "error",
     "traceback": [
      "\u001b[0;31m---------------------------------------------------------------------------\u001b[0m",
      "\u001b[0;31mNameError\u001b[0m                                 Traceback (most recent call last)",
      "Cell \u001b[0;32mIn[4], line 2\u001b[0m\n\u001b[1;32m      1\u001b[0m \u001b[38;5;28mprint\u001b[39m(\u001b[38;5;124m'\u001b[39m\u001b[38;5;124mHello World\u001b[39m\u001b[38;5;124m'\u001b[39m)      \u001b[38;5;66;03m# This WILL work\u001b[39;00m\n\u001b[0;32m----> 2\u001b[0m \u001b[43mPrint\u001b[49m(\u001b[38;5;124m'\u001b[39m\u001b[38;5;124mHello World\u001b[39m\u001b[38;5;124m'\u001b[39m)      \u001b[38;5;66;03m# This will NOT work\u001b[39;00m\n",
      "\u001b[0;31mNameError\u001b[0m: name 'Print' is not defined"
     ]
    }
   ],
   "source": [
    "print('Hello World')      # This WILL work\n",
    "Print('Hello World')      # This will NOT work"
   ]
  },
  {
   "cell_type": "markdown",
   "id": "cd3bd19f-d148-4cb5-918c-6319e61f5faf",
   "metadata": {},
   "source": [
    "**Remember**: Python is case-sensitive."
   ]
  },
  {
   "attachments": {},
   "cell_type": "markdown",
   "id": "5beb780e",
   "metadata": {},
   "source": [
    "# Comments"
   ]
  },
  {
   "cell_type": "markdown",
   "id": "2276fb3a-221a-47b4-a3d2-e99d6dec82ba",
   "metadata": {},
   "source": [
    "You will notice that I wrote additional information (e.g. *WILL work or will NOT work*) in the above code by inserting a `#`. These are called <font color='orange'>comments</font>.\n",
    "\n",
    "- Python ignores all comments.\n",
    "- Anything between the `#` and the end of the line constitutes the comment.\n",
    "\n",
    "Here is another example of writing comments."
   ]
  },
  {
   "cell_type": "code",
   "execution_count": 5,
   "id": "3e74dbef-f0e5-4980-a7ec-385051c41bb8",
   "metadata": {},
   "outputs": [
    {
     "name": "stdout",
     "output_type": "stream",
     "text": [
      "One\n",
      "Three\n"
     ]
    }
   ],
   "source": [
    "# This is a comment\n",
    "print('One')              # This is a comment.\n",
    "# print('Two')            # The interpreter ignores this line.\n",
    "print('Three')            # This is\n",
    "                          # also a way to\n",
    "                          # write comments"
   ]
  },
  {
   "cell_type": "markdown",
   "id": "e259cf0b-e8e2-427a-a9e0-d61011ecbd2e",
   "metadata": {},
   "source": [
    "It is important to note that comments are for you and me (i.e., humans). However, you must use them carefully; unnecessary comments create clutter and hinder code readability. For instance, the following comment is redundant."
   ]
  },
  {
   "cell_type": "code",
   "execution_count": 6,
   "id": "d4ec10ca-59e2-42da-b88a-f4eab7301217",
   "metadata": {},
   "outputs": [
    {
     "name": "stdout",
     "output_type": "stream",
     "text": [
      "Hello world\n"
     ]
    }
   ],
   "source": [
    "print(\"Hello world\" )     # Printing \"Hello World.\""
   ]
  },
  {
   "cell_type": "markdown",
   "id": "f5c2160a-f927-4ec5-b9ed-c463c3f79f57",
   "metadata": {},
   "source": [
    "Unless you possess an infallible memory, you will definitely forget what the code is meant to do in a day or two (or faster). So, write comments to help your future self understand the **purpose** of the code. You will develop a knack for writing good comments as you gain more experience. For the moment:\n",
    "\n",
    "**Remember**: Use comments to emphasize the purpose of the code."
   ]
  },
  {
   "attachments": {},
   "cell_type": "markdown",
   "id": "dedcca3b",
   "metadata": {},
   "source": [
    "# = is not the same as =="
   ]
  },
  {
   "cell_type": "markdown",
   "id": "eab7e415-7649-4609-ad65-2952ff26bacc",
   "metadata": {},
   "source": [
    "You often see `=` and `==` used in programming. These mean two very different things."
   ]
  },
  {
   "cell_type": "markdown",
   "id": "7d083055-d039-4be1-9682-d15628ea8d35",
   "metadata": {},
   "source": [
    "- `=` is used to **set** something equal."
   ]
  },
  {
   "cell_type": "code",
   "execution_count": 7,
   "id": "b6d38301-7e69-41a2-ba11-bb53789f0635",
   "metadata": {},
   "outputs": [],
   "source": [
    "name = 'Batman'   # Make name carry 'Batman'"
   ]
  },
  {
   "cell_type": "markdown",
   "id": "3e50932f-3a50-4f1b-9df9-c98db4873bb9",
   "metadata": {},
   "source": [
    "- `==` is used to **check** if something is equal (i.e., asking a question)."
   ]
  },
  {
   "cell_type": "code",
   "execution_count": 8,
   "id": "07c2eb30-23ca-4109-bdf6-ee768e354575",
   "metadata": {},
   "outputs": [
    {
     "data": {
      "text/plain": [
       "True"
      ]
     },
     "execution_count": 8,
     "metadata": {},
     "output_type": "execute_result"
    }
   ],
   "source": [
    "name == 'Batman'  # Tell me if name is equal to 'Batman'?\n",
    "                  # Answer:  True or False"
   ]
  },
  {
   "cell_type": "markdown",
   "id": "9c851186-6250-4b12-bfc6-a1097e1f8f18",
   "metadata": {},
   "source": [
    "**Remember**:\n",
    "\n",
    "- `=` is **not** the same as `==`.\n",
    "- `=` assigns a value and\n",
    "- `==` asks a question."
   ]
  },
  {
   "attachments": {},
   "cell_type": "markdown",
   "id": "60d561d1",
   "metadata": {},
   "source": [
    "# Use if to make decisions"
   ]
  },
  {
   "cell_type": "markdown",
   "id": "f99c6ed2-2590-4275-a35e-ede9237d2d53",
   "metadata": {},
   "source": [
    "Making decisions based on data is a cornerstone of life and programming. We accomplish this with the `if` statement. Specifically, `if` can be used to branch the flow of the program. Here is an example."
   ]
  },
  {
   "cell_type": "code",
   "execution_count": 9,
   "id": "b93085a4-c1ef-4a8e-b25f-dac7a8d57e13",
   "metadata": {},
   "outputs": [
    {
     "name": "stdout",
     "output_type": "stream",
     "text": [
      "Hello Batman!\n"
     ]
    }
   ],
   "source": [
    "name = 'Batman'\n",
    "\n",
    "if name == 'Batman':\n",
    "    print('Hello Batman!')\n",
    "else:\n",
    "    print('Hello World!')"
   ]
  },
  {
   "cell_type": "markdown",
   "id": "01fe1c55-3fb5-4d22-8138-b6a188cc3e08",
   "metadata": {},
   "source": [
    "A typical `if` statement asks a question (i.e., tests a condition) and has something to do if the answer is `True` (printing *Hello Batman!*) and something else (printing *Hello World!*) if it is not. **Notice** the use of `:` and <font color='orange'>indentations</font> (spaces or tabs) to define what to do if the answer is `True` and what to do if the answer is `False`.\n",
    "\n",
    "**Remember**:\n",
    "\n",
    "You can use `if` to make decisions."
   ]
  },
  {
   "attachments": {},
   "cell_type": "markdown",
   "id": "251f2685",
   "metadata": {},
   "source": [
    "# Indentations (spaces) are sooo IMPORTANT!"
   ]
  },
  {
   "cell_type": "markdown",
   "id": "09d67925-4dbd-4e52-9fd9-1cf7a043c7a4",
   "metadata": {},
   "source": [
    "With Python, this code **will** work:"
   ]
  },
  {
   "cell_type": "code",
   "execution_count": 1,
   "id": "dab20c39-eb41-48fa-8254-41d846665da7",
   "metadata": {},
   "outputs": [
    {
     "name": "stdout",
     "output_type": "stream",
     "text": [
      "10\n"
     ]
    }
   ],
   "source": [
    "x = 10\n",
    "print(x)"
   ]
  },
  {
   "cell_type": "markdown",
   "id": "baa32482-73fe-4bf6-995c-1171baba55f9",
   "metadata": {},
   "source": [
    "However, the following will **not** work:"
   ]
  },
  {
   "cell_type": "code",
   "execution_count": 2,
   "id": "99763526-9f24-4efa-a5b6-d04fc6a5b7ed",
   "metadata": {},
   "outputs": [
    {
     "ename": "IndentationError",
     "evalue": "unexpected indent (1537435392.py, line 2)",
     "output_type": "error",
     "traceback": [
      "\u001b[0;36m  Cell \u001b[0;32mIn[2], line 2\u001b[0;36m\u001b[0m\n\u001b[0;31m    print(x)\u001b[0m\n\u001b[0m    ^\u001b[0m\n\u001b[0;31mIndentationError\u001b[0m\u001b[0;31m:\u001b[0m unexpected indent\n"
     ]
    }
   ],
   "source": [
    "x = 10\n",
    " print(x)"
   ]
  },
  {
   "cell_type": "markdown",
   "id": "241bd5bb-0f69-488f-b53c-0dbb0b158c55",
   "metadata": {},
   "source": [
    "You can understand why there is an error by looking at the structure of the `if` statement. Notice that Python uses an indentation to separate the `True` and `False` ‘blocks’. So you cannot use indentations (spaces) indiscriminately as this will confuse Python.\n",
    "\n",
    "One of the reasons why Python is so easy to read is its use of indentation. Other languages, such as C++ or R, use brackets that can become clunky. For example, the previous statement in R looks like this:"
   ]
  },
  {
   "cell_type": "code",
   "execution_count": 3,
   "id": "74ab2411-448a-42f0-bbec-23b75316ffb2",
   "metadata": {},
   "outputs": [
    {
     "ename": "SyntaxError",
     "evalue": "invalid syntax (40591002.py, line 1)",
     "output_type": "error",
     "traceback": [
      "\u001b[0;36m  Cell \u001b[0;32mIn[3], line 1\u001b[0;36m\u001b[0m\n\u001b[0;31m    if (name == 'Batman') {\u001b[0m\n\u001b[0m                          ^\u001b[0m\n\u001b[0;31mSyntaxError\u001b[0m\u001b[0;31m:\u001b[0m invalid syntax\n"
     ]
    }
   ],
   "source": [
    "if (name == 'Batman') {\n",
    "  print('Hello Hero | Batman!')\n",
    "} else {\n",
    "  print('Hello World!')\n",
    "}"
   ]
  },
  {
   "cell_type": "markdown",
   "id": "eb3c16f7-d4d4-4eeb-b4af-d830a08580e8",
   "metadata": {},
   "source": [
    "**Remember**:\n",
    "\n",
    "- Indentations play a **crucial** role in Python; do not use them indiscriminately.\n",
    "- `:` is used to designate a block of code.\n",
    "\n",
    "**Be Careful**:\n",
    "\n",
    "Don't mix spaces and tabs! Make it easy for yourself; just use the `tab` key consistently.\n",
    "  "
   ]
  },
  {
   "attachments": {},
   "cell_type": "markdown",
   "id": "ce928bae",
   "metadata": {},
   "source": [
    "# ‘age’ is English, age is a variable."
   ]
  },
  {
   "cell_type": "markdown",
   "id": "ad273b2f-0b92-41dd-8d52-b91810b16fc7",
   "metadata": {},
   "source": [
    "Variables are ‘things’ that can hold information. You can give almost any name for a variable. However, it is best to provide a name that describes the data it ‘carries’.\n",
    "\n",
    "For example, we can store a student’s age using the variable `a = 24`. However, it is better to write `age = 24`. It is even better to write `student_age = 24`.\n",
    "\n",
    "Be careful about mixing up English with variables. For example, there is a difference between the following."
   ]
  },
  {
   "cell_type": "code",
   "execution_count": 1,
   "id": "d3e49f44-7b51-4f32-bf2d-33822d30a302",
   "metadata": {},
   "outputs": [
    {
     "ename": "NameError",
     "evalue": "name 'age' is not defined",
     "output_type": "error",
     "traceback": [
      "\u001b[0;31m---------------------------------------------------------------------------\u001b[0m",
      "\u001b[0;31mNameError\u001b[0m                                 Traceback (most recent call last)",
      "Cell \u001b[0;32mIn[1], line 1\u001b[0m\n\u001b[0;32m----> 1\u001b[0m \u001b[38;5;28mprint\u001b[39m(\u001b[43mage\u001b[49m)       \u001b[38;5;66;03m# Print the value of the variable age\u001b[39;00m\n\u001b[1;32m      2\u001b[0m \u001b[38;5;28mprint\u001b[39m(\u001b[38;5;124m\"\u001b[39m\u001b[38;5;124mage\u001b[39m\u001b[38;5;124m\"\u001b[39m)     \u001b[38;5;66;03m# Print the English word 'age'\u001b[39;00m\n",
      "\u001b[0;31mNameError\u001b[0m: name 'age' is not defined"
     ]
    }
   ],
   "source": [
    "print(age)       # Print the value of the variable age\n",
    "print(\"age\")     # Print the English word 'age'"
   ]
  },
  {
   "cell_type": "markdown",
   "id": "435b11be-128a-459e-a670-11e88dc801dd",
   "metadata": {},
   "source": [
    "The former **tries** to print the value of the variable age. The latter will print the English word “age”.\n",
    "\n",
    "I wrote ‘tries’ earlier because Python will complain if the variable age has yet to be assigned a value (as seen from the error). To get it to work, we need to do something like:"
   ]
  },
  {
   "cell_type": "code",
   "execution_count": 13,
   "id": "35aa6280-54e1-49cd-884c-2f321337fe36",
   "metadata": {},
   "outputs": [
    {
     "name": "stdout",
     "output_type": "stream",
     "text": [
      "10\n"
     ]
    }
   ],
   "source": [
    "age = 10\n",
    "print(age)"
   ]
  },
  {
   "cell_type": "markdown",
   "id": "174c09c4-1323-466e-a001-75963490189e",
   "metadata": {},
   "source": [
    "**Note** that you can use either matching pairs of `' '` or `\" \"`. However, it is always good to be consistent. Sometimes, it is good to have both because you need to do things like:"
   ]
  },
  {
   "cell_type": "code",
   "execution_count": 14,
   "id": "7323c302-c797-4697-ad3a-c10fdf4da767",
   "metadata": {},
   "outputs": [
    {
     "name": "stdout",
     "output_type": "stream",
     "text": [
      "You're twenty years old.\n"
     ]
    }
   ],
   "source": [
    "print(\"You're twenty years old.\")"
   ]
  },
  {
   "attachments": {},
   "cell_type": "markdown",
   "id": "bfa904eb",
   "metadata": {},
   "source": [
    "# Brackets"
   ]
  },
  {
   "cell_type": "markdown",
   "id": "032207b5-0cea-4f36-a029-a7d4533b84a4",
   "metadata": {},
   "source": [
    "Python uses all three types of brackets `( )`, `[ ]` and `{ }`. Let me show you some quick examples:\n",
    "\n",
    "**Example 1**\n",
    "\n",
    "Python uses `( )` in calls to function."
   ]
  },
  {
   "cell_type": "code",
   "execution_count": 15,
   "id": "8aab852f-8991-4344-a824-dfbc8432be94",
   "metadata": {},
   "outputs": [
    {
     "name": "stdout",
     "output_type": "stream",
     "text": [
      "Hello!\n"
     ]
    }
   ],
   "source": [
    "print('Hello!')             # In functions"
   ]
  },
  {
   "cell_type": "markdown",
   "id": "71e18340-3108-452b-8c1b-bc7b68590d23",
   "metadata": {},
   "source": [
    "**Example 2**\n",
    "\n",
    "Python uses `( )` for mathematics."
   ]
  },
  {
   "cell_type": "code",
   "execution_count": 16,
   "id": "42f10fba-3a13-42fe-86e3-5ca7b6a9f76e",
   "metadata": {},
   "outputs": [
    {
     "data": {
      "text/plain": [
       "15"
      ]
     },
     "execution_count": 16,
     "metadata": {},
     "output_type": "execute_result"
    }
   ],
   "source": [
    "(1 + 2) * 5                 # For math"
   ]
  },
  {
   "cell_type": "markdown",
   "id": "dbf23c3a-8de5-49f0-b620-9eb24b08fd9a",
   "metadata": {},
   "source": [
    "**Example 3**\n",
    "\n",
    "Python uses `[ ]` for lists of data."
   ]
  },
  {
   "cell_type": "code",
   "execution_count": 3,
   "id": "d2452ad3-6be0-4789-a89f-90e0571a45f7",
   "metadata": {},
   "outputs": [],
   "source": [
    "py_list = [1, 2, 3, 4, 5]   # A 1D list\n",
    "\n",
    "py_list_2 = [               # A 2D list\n",
    "                [1, \"A\"],      \n",
    "                [2, \"B\"],\n",
    "                [3, \"C\"],\n",
    "                [4, \"D\"],\n",
    "                [5, \"E\"]\n",
    "            ]"
   ]
  },
  {
   "cell_type": "markdown",
   "id": "eb42e38b-93d0-4265-98a8-e3e7bae7fc4c",
   "metadata": {},
   "source": [
    "**Example 4**\n",
    "\n",
    "Python uses `{ }` to store data in a ‘thing’ called a <font color='orange'>dictionary</font>.\n",
    "Here is an example:"
   ]
  },
  {
   "cell_type": "code",
   "execution_count": 25,
   "id": "459631e1-3444-43fa-8efb-931835154938",
   "metadata": {},
   "outputs": [],
   "source": [
    "personal_info = {\n",
    "    'Names': 'Batman',\n",
    "    'Real Name': 'Bruce Wayne',\n",
    "    'Age': 55,\n",
    "    'Affiliation': 'Justice League',\n",
    "    'Universe': 'DC'\n",
    "}"
   ]
  },
  {
   "cell_type": "markdown",
   "id": "5484060c-c70d-473b-a558-3125e6d33441",
   "metadata": {},
   "source": [
    "Notice that the dictionary uses a **key** to identify a **value** (e.g., ‘Real Name’ --> ‘Bruce Wayne’). This is a neat (and super useful) way to store data and quickly access information; for example:"
   ]
  },
  {
   "cell_type": "code",
   "execution_count": 26,
   "id": "b74967a9-56d1-4a28-897b-027c40828626",
   "metadata": {},
   "outputs": [
    {
     "name": "stdout",
     "output_type": "stream",
     "text": [
      "Bruce Wayne\n"
     ]
    }
   ],
   "source": [
    "print(personal_info['Real Name'])    "
   ]
  },
  {
   "attachments": {},
   "cell_type": "markdown",
   "id": "05abc752",
   "metadata": {},
   "source": [
    "# Giving Python superpowers with Packages"
   ]
  },
  {
   "attachments": {},
   "cell_type": "markdown",
   "id": "089726b6",
   "metadata": {},
   "source": [
    "## Some Context"
   ]
  },
  {
   "cell_type": "markdown",
   "id": "2ec68768-d6fd-49f2-b1ee-12de0fa25f49",
   "metadata": {},
   "source": [
    "I now like to talk about an essential, super-powerful feature of Python. For this, I will use the example of doing mathematics using Python. Let’s say we want to calculate:\n",
    " $$ \\frac{1 \\times ((2 - 3) + 4)^5}{6} $$\n",
    "\n",
    "We can do this by:"
   ]
  },
  {
   "cell_type": "code",
   "execution_count": 2,
   "id": "499cadcd-f417-440a-832c-80b05d16b34c",
   "metadata": {},
   "outputs": [
    {
     "data": {
      "text/plain": [
       "40.5"
      ]
     },
     "execution_count": 2,
     "metadata": {},
     "output_type": "execute_result"
    }
   ],
   "source": [
    "1 * ((2 - 3) + 4) ** 5 / 6"
   ]
  },
  {
   "cell_type": "markdown",
   "id": "68f96c69-6d0d-44db-b016-e809e5cc8a12",
   "metadata": {},
   "source": [
    "How about $\\sqrt{4}$ ?"
   ]
  },
  {
   "cell_type": "code",
   "execution_count": 4,
   "id": "dc995b13-cdab-4446-9e63-11c69081e665",
   "metadata": {},
   "outputs": [
    {
     "ename": "NameError",
     "evalue": "name 'sqrt' is not defined",
     "output_type": "error",
     "traceback": [
      "\u001b[0;31m---------------------------------------------------------------------------\u001b[0m",
      "\u001b[0;31mNameError\u001b[0m                                 Traceback (most recent call last)",
      "Cell \u001b[0;32mIn[4], line 1\u001b[0m\n\u001b[0;32m----> 1\u001b[0m \u001b[43msqrt\u001b[49m(\u001b[38;5;241m4\u001b[39m)      \u001b[38;5;66;03m# Will NOT work because \u001b[39;00m\n\u001b[1;32m      2\u001b[0m              \u001b[38;5;66;03m# basic Python is limited\u001b[39;00m\n",
      "\u001b[0;31mNameError\u001b[0m: name 'sqrt' is not defined"
     ]
    }
   ],
   "source": [
    "sqrt(4)      # Will NOT work because \n",
    "             # basic Python is limited"
   ]
  },
  {
   "cell_type": "markdown",
   "id": "af0fbd31-74af-4c85-baee-6496ab68b38f",
   "metadata": {},
   "source": [
    "Python cannot calculate square roots! However, this is not a problem because we can imbue Python with newer functionality by using <font color='orange'>packages</font>. For instance, I can give Python more math skills by using (importing) the `math` package."
   ]
  },
  {
   "attachments": {},
   "cell_type": "markdown",
   "id": "ecc4a1d7",
   "metadata": {},
   "source": [
    "## Importing the `math` package"
   ]
  },
  {
   "cell_type": "code",
   "execution_count": 6,
   "id": "b33cc7f8-5ea3-4b57-ab9c-be29d7feed31",
   "metadata": {},
   "outputs": [],
   "source": [
    "import math         # Adding(importing) the functions\n",
    "                    # of the 'math' package    "
   ]
  },
  {
   "cell_type": "markdown",
   "id": "0178eb37-ef35-4710-b354-4877a6fa9882",
   "metadata": {},
   "source": [
    "Now we can use the `sqrt()` function of the `math` module."
   ]
  },
  {
   "cell_type": "code",
   "execution_count": 7,
   "id": "25faddeb-104c-4ffe-8ed9-4a3702e98b9a",
   "metadata": {},
   "outputs": [
    {
     "data": {
      "text/plain": [
       "2.0"
      ]
     },
     "execution_count": 7,
     "metadata": {},
     "output_type": "execute_result"
    }
   ],
   "source": [
    "math.sqrt(4)"
   ]
  },
  {
   "attachments": {},
   "cell_type": "markdown",
   "id": "7d50889d",
   "metadata": {},
   "source": [
    "## Importing the `numpy` package"
   ]
  },
  {
   "cell_type": "markdown",
   "id": "e0eaff4e-6053-40e0-b604-d7faa692c451",
   "metadata": {},
   "source": [
    "`math` is one of many modules that offer the `sqrt()` functionality. So let me also import the super useful `Numpy` package to use its `sqrt()` function."
   ]
  },
  {
   "cell_type": "code",
   "execution_count": 8,
   "id": "02d5011a-f3bb-4cc4-acb6-646703ae97e1",
   "metadata": {},
   "outputs": [],
   "source": [
    "import numpy as np    # Importing Numpy and giving \n",
    "                      # it an alias np \n",
    "                      # because I am lazy"
   ]
  },
  {
   "cell_type": "markdown",
   "id": "17fde65e-6187-491c-b3d0-c8c7678d32e5",
   "metadata": {},
   "source": [
    "Now we can also use the `sqrt()` function of the `Numpy` module. Since I imported it with an alias (`np`) I can be lazy and use `np` instead of the longer `numpy`."
   ]
  },
  {
   "cell_type": "code",
   "execution_count": 9,
   "id": "c9c93ebd-352b-4bc4-8ffe-039bb38e2d22",
   "metadata": {},
   "outputs": [
    {
     "data": {
      "text/plain": [
       "2.0"
      ]
     },
     "execution_count": 9,
     "metadata": {},
     "output_type": "execute_result"
    }
   ],
   "source": [
    "np.sqrt(4)"
   ]
  },
  {
   "attachments": {},
   "cell_type": "markdown",
   "id": "957dba4c",
   "metadata": {},
   "source": [
    "## Why so many packages?"
   ]
  },
  {
   "cell_type": "markdown",
   "id": "2388d8fa-bdfe-40db-9ab4-3b443ffc083e",
   "metadata": {},
   "source": [
    "You might wonder why we need multiple `sqrt()` functions. There are different versions because they have different capabilities and efficiencies. For example, the `Numpy` version can handle a list of numbers:"
   ]
  },
  {
   "cell_type": "code",
   "execution_count": 10,
   "id": "00b5c66c-e039-4a2a-9427-24dd47072023",
   "metadata": {},
   "outputs": [
    {
     "data": {
      "text/plain": [
       "array([2., 3., 4.])"
      ]
     },
     "execution_count": 10,
     "metadata": {},
     "output_type": "execute_result"
    }
   ],
   "source": [
    "np.sqrt([4, 9, 16])"
   ]
  },
  {
   "cell_type": "markdown",
   "id": "7c9cc014-33b2-431a-894e-832e43252695",
   "metadata": {},
   "source": [
    "We will talk a lot more about `Numpy` later. Before we move on, please note that you need to import packages only once(You do not have to teach Python the same thing twice!). Python will remember the functions until you restart the Python interpreter.\n",
    "\n",
    "**Remember**:\n",
    "\n",
    "- You can give Python 'superpowers' by importing packages.\n",
    "- You must import a package only once.\n",
    "- There are different ways to import packages (e.g. with or without an 'alias')."
   ]
  },
  {
   "attachments": {},
   "cell_type": "markdown",
   "id": "40e271ab",
   "metadata": {},
   "source": [
    "# The dot (.)"
   ]
  },
  {
   "cell_type": "markdown",
   "id": "b55d06f1-5775-4623-891f-ffbc7ce9a8a0",
   "metadata": {},
   "source": [
    "You often see a dot(“`.`”) used in Python (and many other programming languages). This dot is used to indicate **ownership**! To see how this works, consider the code below."
   ]
  },
  {
   "cell_type": "code",
   "execution_count": 11,
   "id": "6a5448e8-2708-4fbb-9197-08526b96815c",
   "metadata": {},
   "outputs": [
    {
     "data": {
      "text/plain": [
       "2.0"
      ]
     },
     "execution_count": 11,
     "metadata": {},
     "output_type": "execute_result"
    }
   ],
   "source": [
    "math.sqrt(4)\n",
    "np.sqrt(4)"
   ]
  },
  {
   "cell_type": "markdown",
   "id": "85d61cab-5482-4b57-81a1-aa3165153da1",
   "metadata": {},
   "source": [
    "In the first line, we use the `sqrt()` function that **belongs** to the math module. In the second line, we use the `sqrt()` function that **belongs** to NumPy.\n",
    "\n",
    "Everything in Python (e.g., numbers, letters) has functions and attributes that belong to them. We can access them using the dot. For example, the following will split the sentence into words."
   ]
  },
  {
   "cell_type": "code",
   "execution_count": 12,
   "id": "d28e5e2e-fdc5-4712-a23c-7b69a523a5f5",
   "metadata": {},
   "outputs": [
    {
     "data": {
      "text/plain": [
       "['I', 'am', 'Batman']"
      ]
     },
     "execution_count": 12,
     "metadata": {},
     "output_type": "execute_result"
    }
   ],
   "source": [
    "\"I am Batman\".split()"
   ]
  },
  {
   "cell_type": "markdown",
   "id": "a9b97c8f-7fb4-4241-93aa-9440f3d64866",
   "metadata": {},
   "source": [
    "However, the following will not work because having a `split()` function for numbers makes no sense."
   ]
  },
  {
   "cell_type": "code",
   "execution_count": 13,
   "id": "534e061d-1af2-4f9d-b899-e9764fd4ea9d",
   "metadata": {},
   "outputs": [
    {
     "ename": "SyntaxError",
     "evalue": "invalid decimal literal (3897031440.py, line 1)",
     "output_type": "error",
     "traceback": [
      "\u001b[0;36m  Cell \u001b[0;32mIn[13], line 1\u001b[0;36m\u001b[0m\n\u001b[0;31m    1234.split()\u001b[0m\n\u001b[0m        ^\u001b[0m\n\u001b[0;31mSyntaxError\u001b[0m\u001b[0;31m:\u001b[0m invalid decimal literal\n"
     ]
    }
   ],
   "source": [
    "1234.split()"
   ]
  },
  {
   "cell_type": "markdown",
   "id": "7ab46390-4218-4e94-a610-e2a0edc8b7ae",
   "metadata": {},
   "source": [
    "The things that can be accessed using the dot depend on what the dot is attached to. This will become more obvious very quickly as you use Python more. So don’t worry about the details for the moment.\n",
    "\n",
    "**Remember**\n",
    "\n",
    "The dot (`.`) indicates ownership, and what it can access depends on the context."
   ]
  },
  {
   "attachments": {},
   "cell_type": "markdown",
   "id": "756d98b5",
   "metadata": {},
   "source": [
    "# Footnotes"
   ]
  },
  {
   "cell_type": "markdown",
   "id": "94cc7292-043f-4289-838e-f7a92dd55d4d",
   "metadata": {},
   "source": [
    "1. The latest version of the interpreter is `3.12`.\n",
    "2. Except the keywords used in the Python language like `if`, `for`, `while`, `is`."
   ]
  }
 ],
 "metadata": {
  "kernelspec": {
   "display_name": "Python 3 (ipykernel)",
   "language": "python",
   "name": "python3"
  },
  "language_info": {
   "codemirror_mode": {
    "name": "ipython",
    "version": 3
   },
   "file_extension": ".py",
   "mimetype": "text/x-python",
   "name": "python",
   "nbconvert_exporter": "python",
   "pygments_lexer": "ipython3",
   "version": "3.11.5"
  },
  "toc": {
   "base_numbering": 1,
   "nav_menu": {},
   "number_sections": true,
   "sideBar": true,
   "skip_h1_title": false,
   "title_cell": "Table of Contents",
   "title_sidebar": "Contents",
   "toc_cell": false,
   "toc_position": {},
   "toc_section_display": true,
   "toc_window_display": false
  },
  "vscode": {
   "interpreter": {
    "hash": "31f2aee4e71d21fbe5cf8b01ff0e069b9275f58929596ceb00d14d90e3e16cd6"
   }
  }
 },
 "nbformat": 4,
 "nbformat_minor": 5
}
