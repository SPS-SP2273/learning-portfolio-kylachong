{
 "cells": [
  {
   "attachments": {},
   "cell_type": "markdown",
   "id": "123456",
   "metadata": {},
   "source": [
    "<div style=\"text-align:left;font-size:2em\"><span style=\"font-weight:bolder;font-size:1.25em\">SP2273 | Learning Portfolio</span><br><br><span style=\"font-weight:bold;color:darkred\">Fundamentals (Good)</span></div>"
   ]
  },
  {
   "attachments": {},
   "cell_type": "markdown",
   "id": "a4a6887c",
   "metadata": {},
   "source": [
    "# What to expect in this chapter"
   ]
  },
  {
   "cell_type": "markdown",
   "id": "f15f4858-1e0e-46c1-9b52-999371910b17",
   "metadata": {},
   "source": [
    "In the previous chapter, you learned some essential basics of Python. In this chapter, I will build on those earlier concepts to add more details to the same ideas. I will also introduce different data types and how to combine variables with English."
   ]
  },
  {
   "attachments": {},
   "cell_type": "markdown",
   "id": "bf6acd6f",
   "metadata": {},
   "source": [
    "# There is more to `if`"
   ]
  },
  {
   "cell_type": "markdown",
   "id": "0667c2e9-1c73-4732-9ab4-d0c760441adf",
   "metadata": {},
   "source": [
    "There are situations when we need more branches in an `if` statement. Python has the `elif` (else if) statement for such cases. Here is how it works"
   ]
  },
  {
   "cell_type": "code",
   "execution_count": 1,
   "id": "8c923e84-119e-4ebd-8780-285b62486aca",
   "metadata": {},
   "outputs": [
    {
     "name": "stdout",
     "output_type": "stream",
     "text": [
      "Hello Batman!\n"
     ]
    }
   ],
   "source": [
    "name = 'Batman'\n",
    "\n",
    "if name == 'Batman':\n",
    "    print('Hello Batman!')\n",
    "elif name == 'Robin':\n",
    "    print('Hello Sidekick!')\n",
    "else:\n",
    "    print('Hello World!')"
   ]
  },
  {
   "attachments": {},
   "cell_type": "markdown",
   "id": "d7ba1e4c",
   "metadata": {},
   "source": [
    "# Asking questions"
   ]
  },
  {
   "cell_type": "markdown",
   "id": "3438e582-d54f-4a9c-9b32-fb07d4e26473",
   "metadata": {},
   "source": [
    "To use `if` to make decisions we need to be able to ask questions; some of which might be complicated. Let’s now look at a few more examples of how we can do this.\n",
    "\n",
    "I will ask some questions about the following two lists."
   ]
  },
  {
   "cell_type": "code",
   "execution_count": 2,
   "id": "829bca19-5ace-4d23-b4ec-9521ddc3538b",
   "metadata": {},
   "outputs": [],
   "source": [
    "fruits = ['apple', 'banana', 'pineapple', 'jackfruit']\n",
    "vegetables = ['celery', 'potato', 'broccoli', 'kale']"
   ]
  },
  {
   "cell_type": "markdown",
   "id": "b2ff8ac9-b996-473c-99b2-20bc212a071c",
   "metadata": {},
   "source": [
    "**Example 1**"
   ]
  },
  {
   "cell_type": "code",
   "execution_count": 3,
   "id": "bdae5047-5b94-4191-b4dd-c5e245d2825f",
   "metadata": {},
   "outputs": [
    {
     "data": {
      "text/plain": [
       "True"
      ]
     },
     "execution_count": 3,
     "metadata": {},
     "output_type": "execute_result"
    }
   ],
   "source": [
    "'apple' in fruits"
   ]
  },
  {
   "cell_type": "markdown",
   "id": "8193010e-2e30-4920-8d2c-4f7386a19280",
   "metadata": {},
   "source": [
    "**Example 2**"
   ]
  },
  {
   "cell_type": "code",
   "execution_count": 4,
   "id": "5658e567-7c98-46f7-8952-5db3fffa8d6a",
   "metadata": {},
   "outputs": [
    {
     "data": {
      "text/plain": [
       "False"
      ]
     },
     "execution_count": 4,
     "metadata": {},
     "output_type": "execute_result"
    }
   ],
   "source": [
    "'peach' in fruits"
   ]
  },
  {
   "cell_type": "markdown",
   "id": "d5f0435c-5b10-4f79-b05d-0ddcebad7420",
   "metadata": {},
   "source": [
    "**Example 3**"
   ]
  },
  {
   "cell_type": "code",
   "execution_count": 5,
   "id": "8c1f3e99-580e-41f2-b0d2-1e02865ead6f",
   "metadata": {},
   "outputs": [
    {
     "data": {
      "text/plain": [
       "True"
      ]
     },
     "execution_count": 5,
     "metadata": {},
     "output_type": "execute_result"
    }
   ],
   "source": [
    "'peach' not in fruits"
   ]
  },
  {
   "cell_type": "markdown",
   "id": "9f3ebe84-27be-4e57-912e-11ddf933f9f7",
   "metadata": {},
   "source": [
    "**Example 4**"
   ]
  },
  {
   "cell_type": "code",
   "execution_count": 6,
   "id": "1290e080-fbda-4eaf-9f48-2b521dd6c148",
   "metadata": {},
   "outputs": [
    {
     "data": {
      "text/plain": [
       "True"
      ]
     },
     "execution_count": 6,
     "metadata": {},
     "output_type": "execute_result"
    }
   ],
   "source": [
    "('apple' in fruits) and ('celery' in vegetables)"
   ]
  },
  {
   "cell_type": "markdown",
   "id": "f593cd74-06db-437a-bac4-bd64c6822b4d",
   "metadata": {},
   "source": [
    "**Example 5**"
   ]
  },
  {
   "cell_type": "code",
   "execution_count": 7,
   "id": "c2d769be-1cb1-4945-bddc-2fa53e484ae7",
   "metadata": {},
   "outputs": [
    {
     "data": {
      "text/plain": [
       "True"
      ]
     },
     "execution_count": 7,
     "metadata": {},
     "output_type": "execute_result"
    }
   ],
   "source": [
    "('apple' in fruits) or ('celery' in vegetables)"
   ]
  },
  {
   "cell_type": "markdown",
   "id": "3179d996-1191-4898-a8e8-7f08114f8606",
   "metadata": {},
   "source": [
    "**Example 6**"
   ]
  },
  {
   "cell_type": "code",
   "execution_count": 8,
   "id": "d5bb0c96-e5a5-4417-802b-cbcf883fae06",
   "metadata": {},
   "outputs": [
    {
     "data": {
      "text/plain": [
       "True"
      ]
     },
     "execution_count": 8,
     "metadata": {},
     "output_type": "execute_result"
    }
   ],
   "source": [
    "'app' in 'apple'"
   ]
  },
  {
   "attachments": {},
   "cell_type": "markdown",
   "id": "c5f25d89",
   "metadata": {},
   "source": [
    "**Remember** \n",
    "\n",
    "`not`, `in`, `and`, `or` are some Python <font color='orange'>keywords</font> that are useful in asking questions.\n",
    "\n",
    "In asking questions it is important to understand that basic Python only knows how to compare similar things (types) (e.g. numbers or English). So, `3 > 10.5` will work, but `3 > 'apple'` will not.\n",
    "\n",
    "However, Python<sup>1</sup>   **can** compare `'apples'` and `'oranges'`:"
   ]
  },
  {
   "cell_type": "code",
   "execution_count": 9,
   "id": "81fc5b20-ee55-44be-8a52-fc9770d7cfa8",
   "metadata": {},
   "outputs": [
    {
     "data": {
      "text/plain": [
       "False"
      ]
     },
     "execution_count": 9,
     "metadata": {},
     "output_type": "execute_result"
    }
   ],
   "source": [
    "'apples' > 'oranges'"
   ]
  },
  {
   "cell_type": "markdown",
   "id": "03d6d198-0158-4726-bed9-31ed9c5f6a66",
   "metadata": {},
   "source": [
    "This comparison works because English letters are internally represented as numbers. For example, `'a'` is 97 and `'o'` is 111. This will become even clearer after you have worked on the section below on data types."
   ]
  },
  {
   "attachments": {},
   "cell_type": "markdown",
   "id": "4252d2c9",
   "metadata": {},
   "source": [
    "## Asking Math questions"
   ]
  },
  {
   "cell_type": "markdown",
   "id": "337b6b2d-e3c0-47c6-a212-cb1d5d26e1a7",
   "metadata": {},
   "source": [
    "- You will find the following useful when asking mathematical questions:\n",
    "\n",
    "| Question/Condition      | Math Symbol | Python Symbols |\n",
    "|-------------------------|-------------|----------------|\n",
    "| Equals?                 | =           | `==`             |\n",
    "| Not equal?              | ≠           | `!=`            |\n",
    "| Less than?              | <           | `<`             |\n",
    "| Greater than?           | >           | `>`              |\n",
    "| Less than or equal?     | ≤           | `<=`             |\n",
    "| Greater than or equal?  | ≥           | `>=`             |\n",
    "\n",
    "- Python also (thankfully) accepts all the following syntax:"
   ]
  },
  {
   "cell_type": "code",
   "execution_count": 17,
   "id": "374a7258-a77a-41a5-9fd7-3717fea1602f",
   "metadata": {},
   "outputs": [],
   "source": [
    "#For example\n",
    "\n",
    "x = 8"
   ]
  },
  {
   "cell_type": "code",
   "execution_count": 18,
   "id": "a7deaa9a-fa6e-4be3-b49d-7556ec232a78",
   "metadata": {},
   "outputs": [
    {
     "data": {
      "text/plain": [
       "True"
      ]
     },
     "execution_count": 18,
     "metadata": {},
     "output_type": "execute_result"
    }
   ],
   "source": [
    "x > 5 and x < 15"
   ]
  },
  {
   "cell_type": "code",
   "execution_count": 19,
   "id": "daa8c04b-ccff-4018-bc5b-b33647650cbf",
   "metadata": {},
   "outputs": [
    {
     "data": {
      "text/plain": [
       "True"
      ]
     },
     "execution_count": 19,
     "metadata": {},
     "output_type": "execute_result"
    }
   ],
   "source": [
    "(x > 5) and (x < 15)"
   ]
  },
  {
   "cell_type": "code",
   "execution_count": 20,
   "id": "aa5cdc87-7369-45e7-a52f-a04654a86e89",
   "metadata": {},
   "outputs": [
    {
     "data": {
      "text/plain": [
       "True"
      ]
     },
     "execution_count": 20,
     "metadata": {},
     "output_type": "execute_result"
    }
   ],
   "source": [
    "5 < x < 15"
   ]
  },
  {
   "cell_type": "markdown",
   "id": "ca8f5cb4-6e1a-41cc-a43b-63f25230128b",
   "metadata": {},
   "source": [
    "Clearly, the last format is the neatest and easiest to read. Notice also how the brackets increase the readability of the statement."
   ]
  },
  {
   "attachments": {},
   "cell_type": "markdown",
   "id": "73c92571",
   "metadata": {},
   "source": [
    "# Python stores information in different formats or types"
   ]
  },
  {
   "cell_type": "markdown",
   "id": "95c3951f-22e5-4803-ab10-12f80c1a2e5b",
   "metadata": {},
   "source": [
    "For efficiency (i.e., speed and memory), computers store information in different ways. For example, here are four ways we can store the number `1.234`. We are also using the function `type()` to ask Python how it is storing the information."
   ]
  },
  {
   "cell_type": "markdown",
   "id": "f33ab1ad-a999-4c41-a3ee-817b188a0d37",
   "metadata": {},
   "source": [
    "**Example 1**"
   ]
  },
  {
   "cell_type": "code",
   "execution_count": 21,
   "id": "9ef6fac5-899d-4d93-a183-576a15a210a4",
   "metadata": {},
   "outputs": [
    {
     "name": "stdout",
     "output_type": "stream",
     "text": [
      "1 <class 'int'>\n"
     ]
    }
   ],
   "source": [
    "x = int(1.234)\n",
    "print(x, type(x))"
   ]
  },
  {
   "cell_type": "markdown",
   "id": "4a2c7dd4-5135-4b7b-81c5-310699b6bf0b",
   "metadata": {},
   "source": [
    "As an integer (`int`). Notice how this ends up dropping the decimal portion!"
   ]
  },
  {
   "cell_type": "markdown",
   "id": "ab53f9a8-a7bc-46a8-b51a-1e0433b5e0c4",
   "metadata": {},
   "source": [
    "**Example 2**"
   ]
  },
  {
   "cell_type": "code",
   "execution_count": 22,
   "id": "2bf42c07-af11-4ef8-8987-5c3247270b69",
   "metadata": {},
   "outputs": [
    {
     "name": "stdout",
     "output_type": "stream",
     "text": [
      "1.234 <class 'str'>\n"
     ]
    }
   ],
   "source": [
    "x = str(1.234)\n",
    "print(x, type(x))"
   ]
  },
  {
   "cell_type": "markdown",
   "id": "a8f38050-c608-4cc0-84fe-a462a235ddb2",
   "metadata": {},
   "source": [
    "As an English word (`str`)."
   ]
  },
  {
   "cell_type": "markdown",
   "id": "5bd7721a-2ce6-4271-ac02-b75fd3deff15",
   "metadata": {},
   "source": [
    "**Example 3**"
   ]
  },
  {
   "cell_type": "code",
   "execution_count": 23,
   "id": "ba4c7d7a-3046-4ebd-8754-0a978b4a3afe",
   "metadata": {},
   "outputs": [
    {
     "name": "stdout",
     "output_type": "stream",
     "text": [
      "1.234 <class 'float'>\n"
     ]
    }
   ],
   "source": [
    "x = float(1.234)\n",
    "print(x, type(x))"
   ]
  },
  {
   "cell_type": "markdown",
   "id": "c5fba725-7d9d-4c5b-a9d7-a1f7f9365a1e",
   "metadata": {},
   "source": [
    "**Example 4**"
   ]
  },
  {
   "cell_type": "code",
   "execution_count": 24,
   "id": "845831a8-8290-4895-b916-e444419e75d7",
   "metadata": {},
   "outputs": [
    {
     "name": "stdout",
     "output_type": "stream",
     "text": [
      "(1.234+0j) <class 'complex'>\n"
     ]
    }
   ],
   "source": [
    "x = complex(1.234)\n",
    "print(x, type(x))"
   ]
  },
  {
   "cell_type": "markdown",
   "id": "bcab7a6d-3ead-49a5-b051-df33f754f20a",
   "metadata": {},
   "source": [
    "As a complex number (`complex`). This will include an imaginary part of the number.\n",
    "\n",
    "There are many other types of data (see <u>[here](https://realpython.com/python-data-types/)</u> for more details). Often<sup>2</sup> we will need to change the type of a variable."
   ]
  },
  {
   "cell_type": "code",
   "execution_count": 25,
   "id": "1c89e9f2-8136-4f5b-8ea6-59e57ad7b268",
   "metadata": {},
   "outputs": [
    {
     "name": "stdout",
     "output_type": "stream",
     "text": [
      "1.234 <class 'str'>\n"
     ]
    }
   ],
   "source": [
    "x = '1.234'        # x is a string\n",
    "print(x, type(x))"
   ]
  },
  {
   "cell_type": "code",
   "execution_count": 26,
   "id": "c29e109b-7a82-4f0e-a2fd-b2914ddbf856",
   "metadata": {},
   "outputs": [
    {
     "name": "stdout",
     "output_type": "stream",
     "text": [
      "1.234 <class 'float'>\n"
     ]
    }
   ],
   "source": [
    "x = float(x)       # x is now a decimal number\n",
    "print(x, type(x))"
   ]
  },
  {
   "cell_type": "markdown",
   "id": "4c361803-f657-4ec7-ab74-4e60c0bcd8d9",
   "metadata": {},
   "source": [
    "This is called typecasting; where we cast `x` to the type `float`."
   ]
  },
  {
   "attachments": {},
   "cell_type": "markdown",
   "id": "4ff3b80c",
   "metadata": {},
   "source": [
    "# Never compare floats directly"
   ]
  },
  {
   "attachments": {},
   "cell_type": "markdown",
   "id": "c5bada39",
   "metadata": {},
   "source": [
    "## The Problem"
   ]
  },
  {
   "cell_type": "markdown",
   "id": "217c9276-a4d7-4c4d-b692-28e51c7e294b",
   "metadata": {},
   "source": [
    "When often need to compare numbers, especially for scientific work. Unfortunately, since computers have finite (hardware) resources, floating point numbers cannot be exactly stored in a computer<sup>3</sup>. This leads to errors called <font color='orange'>roundoff errors</font>. Let me demonstrate:\n",
    "\n",
    "Try the following code which compares 0.1x3 with 0.3."
   ]
  },
  {
   "cell_type": "code",
   "execution_count": 27,
   "id": "5a72f5a7-13d1-4b73-8797-73026562d900",
   "metadata": {},
   "outputs": [
    {
     "data": {
      "text/plain": [
       "False"
      ]
     },
     "execution_count": 27,
     "metadata": {},
     "output_type": "execute_result"
    }
   ],
   "source": [
    "a = 0.1\n",
    "a3 = 0.3\n",
    "a * 3 == a3"
   ]
  },
  {
   "cell_type": "markdown",
   "id": "c286e2e2-6f81-400e-8228-05a3e72fb995",
   "metadata": {},
   "source": [
    "Let's try printing 0.3 to 17 decimal places:"
   ]
  },
  {
   "cell_type": "code",
   "execution_count": 28,
   "id": "eeb73f01-c009-4f29-859b-4bdf42fee16d",
   "metadata": {},
   "outputs": [
    {
     "data": {
      "text/plain": [
       "'0.29999999999999999'"
      ]
     },
     "execution_count": 28,
     "metadata": {},
     "output_type": "execute_result"
    }
   ],
   "source": [
    "f'{0.3:.17f}'"
   ]
  },
  {
   "attachments": {},
   "cell_type": "markdown",
   "id": "7bf9a7c8",
   "metadata": {},
   "source": [
    "## A solution"
   ]
  },
  {
   "cell_type": "markdown",
   "id": "07fffe57-163a-4f5f-865a-f8c70227c3e1",
   "metadata": {},
   "source": [
    "To get around these types of issues, you should check if the variable is **close** to the expected values instead of checking for equality."
   ]
  },
  {
   "cell_type": "code",
   "execution_count": 29,
   "id": "5a9a26c9-155b-4d6c-ab87-238783252e32",
   "metadata": {},
   "outputs": [
    {
     "data": {
      "text/plain": [
       "True"
      ]
     },
     "execution_count": 29,
     "metadata": {},
     "output_type": "execute_result"
    }
   ],
   "source": [
    "eps = 1E-10\n",
    "abs(a * 3 - a3) < eps"
   ]
  },
  {
   "cell_type": "markdown",
   "id": "a9e38ccb-4dc3-4d7f-bef1-8ba7712f15c9",
   "metadata": {},
   "source": [
    "Or just use Numpy"
   ]
  },
  {
   "cell_type": "code",
   "execution_count": 32,
   "id": "78a955b3-fe99-4143-9eff-b2cc8860f993",
   "metadata": {},
   "outputs": [],
   "source": [
    "import numpy as np"
   ]
  },
  {
   "cell_type": "code",
   "execution_count": 33,
   "id": "8bfc462c-7dbd-40ca-a887-25b19abe5ffb",
   "metadata": {},
   "outputs": [
    {
     "data": {
      "text/plain": [
       "True"
      ]
     },
     "execution_count": 33,
     "metadata": {},
     "output_type": "execute_result"
    }
   ],
   "source": [
    "np.isclose(a * 3, a3)"
   ]
  },
  {
   "attachments": {},
   "cell_type": "markdown",
   "id": "5910b252",
   "metadata": {},
   "source": [
    "# Combining English and variables"
   ]
  },
  {
   "cell_type": "markdown",
   "id": "7eb859f7-e9bd-4abd-b969-a70d48d6b6f9",
   "metadata": {},
   "source": [
    "Although often underappreciated, one of the most valuable coding skills is the ability to seamlessly combine strings (i.e., English) with variables. This will be useful for example when automating personalized emails to a large class.\n",
    "\n",
    "Combining text and variables is so easy in newer versions of Python. Here are a few examples:"
   ]
  },
  {
   "cell_type": "markdown",
   "id": "daa1faf3-e195-4715-85ef-a8df7dd80135",
   "metadata": {},
   "source": [
    "**Example 1**"
   ]
  },
  {
   "cell_type": "code",
   "execution_count": 34,
   "id": "27d15295-846e-4c4c-ab40-ec3690e90e44",
   "metadata": {},
   "outputs": [
    {
     "name": "stdout",
     "output_type": "stream",
     "text": [
      "Hello Batman!\n"
     ]
    }
   ],
   "source": [
    "name = \"Batman\"\n",
    "print(f\"Hello {name}!\")"
   ]
  },
  {
   "cell_type": "markdown",
   "id": "6c86a069-f715-4347-b679-c5ff810de784",
   "metadata": {},
   "source": [
    "**Example 2**"
   ]
  },
  {
   "cell_type": "code",
   "execution_count": 35,
   "id": "1f5bca98-2afc-4bd0-a8e1-ce2115bf9250",
   "metadata": {},
   "outputs": [
    {
     "name": "stdout",
     "output_type": "stream",
     "text": [
      "Hello BATMAN!\n"
     ]
    }
   ],
   "source": [
    "name = \"Batman\"\n",
    "print(f\"Hello {name.upper()}!\")"
   ]
  },
  {
   "cell_type": "markdown",
   "id": "bdf65247-1194-4681-aea1-e7427e18fa10",
   "metadata": {},
   "source": [
    "**Example 3**"
   ]
  },
  {
   "cell_type": "code",
   "execution_count": 36,
   "id": "72f7cce8-e5a1-4b0f-9113-f2e34e16fa0e",
   "metadata": {},
   "outputs": [
    {
     "name": "stdout",
     "output_type": "stream",
     "text": [
      "The value of 10 squared is 100!\n"
     ]
    }
   ],
   "source": [
    "x = 10\n",
    "print(f\"The value of {x} squared is {x**2}!\")"
   ]
  },
  {
   "cell_type": "markdown",
   "id": "d97b1f1f-642e-4130-b8c1-85dc61fe9c7c",
   "metadata": {},
   "source": [
    "Note the `f` and the `{ }` in the above command. This is called **f-string** or **string interpolation**.\n",
    "\n",
    "You can do more with f-strings, like formatting a string or number. Here are a few more examples."
   ]
  },
  {
   "cell_type": "markdown",
   "id": "ffa63769-7854-4a3c-b697-343de841c3d4",
   "metadata": {},
   "source": [
    "**Example 1**\n",
    "\n",
    "Using f-strings to format text (strings)."
   ]
  },
  {
   "cell_type": "code",
   "execution_count": 37,
   "id": "470b3ca3-bdb4-463b-9e66-f298ec64096c",
   "metadata": {},
   "outputs": [
    {
     "name": "stdout",
     "output_type": "stream",
     "text": [
      "Bruce Wayne is Batman.\n"
     ]
    }
   ],
   "source": [
    "text = 'Bruce Wayne is Batman.'\n",
    "print(f'{text}')"
   ]
  },
  {
   "cell_type": "code",
   "execution_count": 38,
   "id": "5bf9817d-7fd8-4b62-8c43-589079e5f63f",
   "metadata": {},
   "outputs": [
    {
     "name": "stdout",
     "output_type": "stream",
     "text": [
      "        Bruce Wayne is Batman.\n"
     ]
    }
   ],
   "source": [
    "print(f'{text:>30}')      # A block of 30 characters;\n",
    "                          # aligned right"
   ]
  },
  {
   "cell_type": "code",
   "execution_count": 39,
   "id": "0d3d9d5b-5206-43ef-8680-0dfd0ad355c2",
   "metadata": {},
   "outputs": [
    {
     "name": "stdout",
     "output_type": "stream",
     "text": [
      "    Bruce Wayne is Batman.    \n"
     ]
    }
   ],
   "source": [
    "print(f'{text:^30}')      # A block of 30 characters;\n",
    "                          # aligned centre"
   ]
  },
  {
   "cell_type": "code",
   "execution_count": 40,
   "id": "6080eaae-2939-4e2e-bbb8-aef69102e334",
   "metadata": {},
   "outputs": [
    {
     "name": "stdout",
     "output_type": "stream",
     "text": [
      "Bruce Wayne is Batman.        \n"
     ]
    }
   ],
   "source": [
    "print(f'{text:<30}')      # A block of 30 characters;\n",
    "                          # aligned left"
   ]
  },
  {
   "cell_type": "markdown",
   "id": "88073b24-84d8-42b2-bbdf-9b9ea24737fd",
   "metadata": {},
   "source": [
    "**Example 2**\n",
    "\n",
    "Using f-string to format numbers."
   ]
  },
  {
   "cell_type": "code",
   "execution_count": 42,
   "id": "bcf9b8b2-2fe4-49ce-b351-638448472d31",
   "metadata": {},
   "outputs": [
    {
     "name": "stdout",
     "output_type": "stream",
     "text": [
      "The cube of pi to 6 decimal places is 31.006277\n"
     ]
    }
   ],
   "source": [
    "print(f'The cube of pi to 6 decimal places is {np.pi**3:.6f}')"
   ]
  },
  {
   "cell_type": "markdown",
   "id": "9c620a0b-42a9-4e8c-a305-8898b2f9ba1f",
   "metadata": {},
   "source": [
    "The `f` in `.6f` is used to tell the f-string to output the number in decimal notation."
   ]
  },
  {
   "cell_type": "markdown",
   "id": "e3d3def5-efcd-4e26-a4af-2adfe1e529ee",
   "metadata": {},
   "source": [
    "**Example 3**"
   ]
  },
  {
   "cell_type": "code",
   "execution_count": 43,
   "id": "43b6f864-19cf-4e77-8c69-2eff802aef19",
   "metadata": {},
   "outputs": [
    {
     "name": "stdout",
     "output_type": "stream",
     "text": [
      "The cube of pi to 6 decimal places is 3.100628e+01\n"
     ]
    }
   ],
   "source": [
    "print(f'The cube of pi to 6 decimal places is {np.pi**3:.6e}')"
   ]
  },
  {
   "cell_type": "markdown",
   "id": "3ca2c639-63f2-4801-a5a6-84c6c85ecb98",
   "metadata": {},
   "source": [
    "The `e` in `.6e` is used to tell the f-string to output the number in scientific notation."
   ]
  },
  {
   "attachments": {},
   "cell_type": "markdown",
   "id": "77c3fd75",
   "metadata": {},
   "source": [
    "## Structure of f-strings"
   ]
  },
  {
   "cell_type": "markdown",
   "id": "99dae31e-7a5d-4a00-b4a8-b1e9bf38d04b",
   "metadata": {},
   "source": [
    "f-string formatting has the structure `{X:>0Y.ZW}`. Here is more information about the letters `X`,`Y`,`>`, `0`,`Z` and `W`.\n",
    "\n",
    "| Letter | Action            | Possible Options                            |\n",
    "|--------|-------------------|---------------------------------------------|\n",
    "| `X`     | Variable to format| Can be a number or a string                 |\n",
    "| `>`      | Alignment         | - `<` (Left justified)\n",
    "|        |                   | - `>` (Right justified)                       |\n",
    "|        |                   | -  `^` (Centre justified)                      |\n",
    "| `0`      | Use 0’s to pad the spaces | You can use other characters like a space ` ` |\n",
    "| `Y`      | Total number of characters |                                         |\n",
    "| `Z`      | Number of decimal places    |                                         |\n",
    "| `W`      | Specifies the type of variable. | - `f` (float)                       |\n",
    "|        |                             | - `d` (integer)                      |\n",
    "|        |                             | - `s` (string)                        |\n",
    "|        |                             | - `g` (Asks Python to figure out)     |\n",
    "\n",
    "You can refer to <u>[this website](https://pyformat.info/)</u> for more information about f-strings."
   ]
  },
  {
   "attachments": {},
   "cell_type": "markdown",
   "id": "a4a728e3",
   "metadata": {},
   "source": [
    "# Escape sequences"
   ]
  },
  {
   "cell_type": "markdown",
   "id": "bcfe3167-527f-4eb8-8340-5a4986bf0f9d",
   "metadata": {},
   "source": [
    "This is a good point to highlight <font color='orange'>escape sequences</font>. Despite the funky name, it refers to special characters we sometimes need when writing English. For example, to break a line and add a tab:"
   ]
  },
  {
   "cell_type": "code",
   "execution_count": 44,
   "id": "b40f8d62-2331-48d5-afd1-abbaa4775f46",
   "metadata": {},
   "outputs": [
    {
     "name": "stdout",
     "output_type": "stream",
     "text": [
      "Line 1\n",
      "\tLine 2\n",
      "\t\tLine 3\n"
     ]
    }
   ],
   "source": [
    "print('Line 1\\n\\tLine 2\\n\\t\\tLine 3')"
   ]
  },
  {
   "cell_type": "markdown",
   "id": "3bb84c9f-c2d3-47f2-8a11-32e36875427c",
   "metadata": {},
   "source": [
    "The `\\n` is the command to breakline and `\\t` represents a tab. These characters are typically not visible, but they are there. This is a table of useful escape sequences:\n",
    "\n",
    "| Escape Sequence | Meaning       |\n",
    "|-----------------|---------------|\n",
    "| `\\'`            | Single quote  |\n",
    "| `\\\\`            | Backslash     |\n",
    "| `\\n`            | Newline       |\n",
    "| `\\t`            | Horizontal Tab|"
   ]
  },
  {
   "cell_type": "markdown",
   "id": "da40fbd7-e4bf-439c-9b95-bd99ac28412e",
   "metadata": {},
   "source": [
    "**Example 1**\n",
    "\n",
    "In a previous example, I had to use both `\"` and `'` to print “You’re twenty years old.”. However, with the escaped version of `'` things are simpler."
   ]
  },
  {
   "cell_type": "code",
   "execution_count": 45,
   "id": "166be1fa-c1cd-4cc2-9cde-e74d03da0ab0",
   "metadata": {},
   "outputs": [
    {
     "name": "stdout",
     "output_type": "stream",
     "text": [
      "You're twenty years old.\n"
     ]
    }
   ],
   "source": [
    "print('You\\'re twenty years old.') "
   ]
  },
  {
   "cell_type": "markdown",
   "id": "91324418-441e-4c71-9f91-28b0d38c30f9",
   "metadata": {},
   "source": [
    "**Example 2**\n",
    "\n",
    "If you want to print `\\`, you need to ‘escape’ it. If you don’t… well, give it a try and see."
   ]
  },
  {
   "cell_type": "code",
   "execution_count": 46,
   "id": "d38d05b9-11fb-452e-bc11-d157473d7f49",
   "metadata": {},
   "outputs": [
    {
     "name": "stdout",
     "output_type": "stream",
     "text": [
      "A\\B\\C\n"
     ]
    }
   ],
   "source": [
    "print('A\\\\B\\\\C')"
   ]
  },
  {
   "cell_type": "markdown",
   "id": "344d7245-2f01-4cb2-bd85-fe09d71725a2",
   "metadata": {},
   "source": [
    "**Example 3**"
   ]
  },
  {
   "cell_type": "code",
   "execution_count": 47,
   "id": "74b83499-c791-40bb-8e8a-efebaca6e222",
   "metadata": {},
   "outputs": [
    {
     "name": "stdout",
     "output_type": "stream",
     "text": [
      "A\n",
      "B\n",
      "C\n"
     ]
    }
   ],
   "source": [
    "print('A\\nB\\nC')"
   ]
  },
  {
   "cell_type": "markdown",
   "id": "75f766bc-d8ed-4525-acd4-17289fe1303a",
   "metadata": {},
   "source": [
    "Notice the linebreaks!"
   ]
  },
  {
   "cell_type": "markdown",
   "id": "abb1bd2c-61d1-4348-a4ec-9b264c3b7112",
   "metadata": {},
   "source": [
    "**Example 4**"
   ]
  },
  {
   "cell_type": "code",
   "execution_count": 48,
   "id": "a766549b-cb44-41b6-924f-abe695fae8e6",
   "metadata": {},
   "outputs": [
    {
     "name": "stdout",
     "output_type": "stream",
     "text": [
      "A\tB\tC\n"
     ]
    }
   ],
   "source": [
    "print('A\\tB\\tC')"
   ]
  },
  {
   "cell_type": "markdown",
   "id": "7ba159f5-c47b-40ac-b96a-361f9d6c996c",
   "metadata": {},
   "source": [
    "Notice the tabs!"
   ]
  },
  {
   "attachments": {},
   "cell_type": "markdown",
   "id": "2564b175",
   "metadata": {},
   "source": [
    "# Computers read `=` from Right to Left!"
   ]
  },
  {
   "cell_type": "markdown",
   "id": "aec14cad-61bd-4a30-8cb2-a89c48ec861f",
   "metadata": {},
   "source": [
    "The way computers use `=` is quirky. Let me explain why.\n",
    "\n",
    "Consider the code below:"
   ]
  },
  {
   "cell_type": "code",
   "execution_count": 49,
   "id": "f21d9955-6f09-4970-9c01-c2071c861a03",
   "metadata": {},
   "outputs": [],
   "source": [
    "x = 40\n",
    "y = x + 2"
   ]
  },
  {
   "cell_type": "markdown",
   "id": "e4de3e75-64be-4845-a954-fe3bdaac3efa",
   "metadata": {},
   "source": [
    "How Python executes these instructions is as follows:\n",
    "\n",
    "This means that the following will work in programming (but not math!)."
   ]
  },
  {
   "cell_type": "code",
   "execution_count": 50,
   "id": "4a59d61c-3726-4c20-aa5a-7f7324a00a49",
   "metadata": {},
   "outputs": [
    {
     "name": "stdout",
     "output_type": "stream",
     "text": [
      "42\n"
     ]
    }
   ],
   "source": [
    "y = 40\n",
    "y = y + 2\n",
    "print(y)"
   ]
  },
  {
   "cell_type": "markdown",
   "id": "98605c8b-8435-43a6-9721-7773cf8c0dd9",
   "metadata": {},
   "source": [
    "You will frequently see variables modified using this syntax. So, best get used to it.\n",
    "\n",
    "**Note**: Python also allows the following syntax."
   ]
  },
  {
   "cell_type": "code",
   "execution_count": 51,
   "id": "e792b732-e183-499c-bc23-bca90bf7e96d",
   "metadata": {},
   "outputs": [],
   "source": [
    "x = y = 10"
   ]
  },
  {
   "attachments": {},
   "cell_type": "markdown",
   "id": "f722e09c",
   "metadata": {},
   "source": [
    "# Shorter and Cleaner Code"
   ]
  },
  {
   "cell_type": "markdown",
   "id": "0e4c12aa-e30d-4cf1-8c83-d22088932a31",
   "metadata": {},
   "source": [
    "Let me now introduce some shorthand syntax<sup>4</sup> related to the previous point that will make your code neater. This shorthand is used often so even if you do not want to use it, you still need to understand it.\n",
    "\n",
    "Consider the following two sets of code; both have the same result."
   ]
  },
  {
   "cell_type": "code",
   "execution_count": 59,
   "id": "8ce92610-e50a-42a7-b2c8-b9c0fe25c128",
   "metadata": {},
   "outputs": [
    {
     "name": "stdout",
     "output_type": "stream",
     "text": [
      "42\n",
      "42\n"
     ]
    }
   ],
   "source": [
    "y = 40\n",
    "y = y + 2\n",
    "print(y)\n",
    "y = 40\n",
    "y += 2    # Same as y = y + 2\n",
    "print(y)"
   ]
  },
  {
   "cell_type": "markdown",
   "id": "e5151249-7eb8-49af-98f2-f7d1825edc01",
   "metadata": {},
   "source": [
    "So, we can replace `y = y + 2` with `y += 2`. Similar shorthand notation exists for subtraction, division and multiplication:\n",
    "\n",
    "|              | Long form    | Shorthand |\n",
    "|--------------|--------------|-----------|\n",
    "| Addition     | `y = y+2`  | `y += 2`  |\n",
    "| Subtraction  | `y = y-2`  | `y -= 2`  |\n",
    "| Multiplication | `y = y*2` | `y *= 2`  |\n",
    "| Division     | `y = y/2`  | `y /= 2`  |\n"
   ]
  },
  {
   "attachments": {},
   "cell_type": "markdown",
   "id": "6e8600ce",
   "metadata": {},
   "source": [
    "# Python can be a prima-donna."
   ]
  },
  {
   "cell_type": "markdown",
   "id": "7828e54e-e2bd-4e5d-96e0-b0f3ef32df68",
   "metadata": {},
   "source": [
    "When we do something Python doesn’t like or understand, it will often act like a prima-donna and throw a complaint with a looong error message. As with most complaints, scroll to the end to see the real problem.\n",
    "\n",
    "If you had used `Print()` in the previous chapter, you would have already seen an error message. Fixing coding errors is called <font color='orange'>debugging</font>. Most programmers spend a long time debugging. Further, the more debugging you do, the more comfortable you will be with thinking and programming. So, use every opportunity you have to practice debugging."
   ]
  },
  {
   "attachments": {},
   "cell_type": "markdown",
   "id": "387277a2",
   "metadata": {},
   "source": [
    "# Best Practices for Scientific Computing"
   ]
  },
  {
   "cell_type": "markdown",
   "id": "069808b3-bd25-4f55-acc0-b98b9d46e5b8",
   "metadata": {},
   "source": [
    "Now is an apt time to highlight some best practices you should **always** bear in mind. The following is an excerpt from Wilson et al. ([2014](https://doi.org/10.1371/journal.pbio.1001745)). I have only given those points that apply to you **now**. I will bring up more as we progress on our journey.\n",
    "\n",
    "1. **Write programs for people, not computers.**\n",
    "2. **Optimise software only after it works correctly.**\n",
    "3. **Document design and purpose, not mechanics.**\n",
    "4. **Collaborate.**\n",
    "\n",
    "If you don’t take care, your code can quickly become unfathomable to others and your future self. So, consciously produce easily understandable code (for example, using appropriate variable names). In addition, discussing your code with your friends (collaboration) is helpful because you will get immediate feedback if your code is indecipherable or if you have misunderstood a concept.\n",
    "\n",
    "Another common pitfall novices succumb to is pursuing a perfect solution right from the get-go. Instead, it is better to get something (**anything**) working. You can then make things complicated and/or optimize your code.\n",
    "\n",
    "**Tip**:\n",
    "Always start simple and get something working first before making it perfect."
   ]
  },
  {
   "attachments": {},
   "cell_type": "markdown",
   "id": "c0a6f5a2",
   "metadata": {},
   "source": [
    "# Looking for help"
   ]
  },
  {
   "cell_type": "markdown",
   "id": "292312a5-83a5-4d4d-9901-0b23fd5d07cb",
   "metadata": {},
   "source": [
    "You can get help/information about Python functions from within Python. However, it is not recommended at this stage. Let me show why:"
   ]
  },
  {
   "cell_type": "code",
   "execution_count": 53,
   "id": "98435b86-f95a-463a-b8ca-5c8a6aeb2f90",
   "metadata": {},
   "outputs": [
    {
     "name": "stdout",
     "output_type": "stream",
     "text": [
      "Help on built-in function print in module builtins:\n",
      "\n",
      "print(*args, sep=' ', end='\\n', file=None, flush=False)\n",
      "    Prints the values to a stream, or to sys.stdout by default.\n",
      "    \n",
      "    sep\n",
      "      string inserted between values, default a space.\n",
      "    end\n",
      "      string appended after the last value, default a newline.\n",
      "    file\n",
      "      a file-like object (stream); defaults to the current sys.stdout.\n",
      "    flush\n",
      "      whether to forcibly flush the stream.\n",
      "\n"
     ]
    }
   ],
   "source": [
    "help(print)"
   ]
  },
  {
   "cell_type": "markdown",
   "id": "e4ddb6ea-a66b-4011-95d8-db2144579914",
   "metadata": {},
   "source": [
    "The above is the documentation corresponding to the function `print()`. Unfortunately, unless you already have some experience, this documentation is not the friendliest. The internet (e.g. <u>[stack overflow](https://stackoverflow.com/questions/tagged/python)</u>, Google or ChatGPT) is the fastest way to get a question about programming answered."
   ]
  },
  {
   "attachments": {},
   "cell_type": "markdown",
   "id": "c5342e9b",
   "metadata": {},
   "source": [
    "# References"
   ]
  },
  {
   "cell_type": "markdown",
   "id": "70a46887-4b54-4967-8976-953c44c0891a",
   "metadata": {},
   "source": [
    "Wilson, Greg, D. A. Aruliah, C. Titus Brown, Neil P. Chue Hong, Matt Davis, Richard T. Guy, Steven H. D. Haddock, et al. 2014. “Best Practices for Scientific Computing.” PLOS Biology 12 (1): e1001745. https://doi.org/10.1371/journal.pbio.1001745."
   ]
  },
  {
   "attachments": {},
   "cell_type": "markdown",
   "id": "48d82d30",
   "metadata": {},
   "source": [
    "# Footnotes"
   ]
  },
  {
   "cell_type": "markdown",
   "id": "492f69f6-39af-41e2-90a8-1df9796ac164",
   "metadata": {},
   "source": [
    "1. despite the English phrase\n",
    "\n",
    "2. E.g. with an OCR table of numbers.\n",
    "\n",
    "3. due to issues related to the precision of the <u>[IEEE 754](https://en.wikipedia.org/wiki/IEEE_754)</u> standard\n",
    "\n",
    "4. called augmented assignment"
   ]
  }
 ],
 "metadata": {
  "kernelspec": {
   "display_name": "Python 3 (ipykernel)",
   "language": "python",
   "name": "python3"
  },
  "language_info": {
   "codemirror_mode": {
    "name": "ipython",
    "version": 3
   },
   "file_extension": ".py",
   "mimetype": "text/x-python",
   "name": "python",
   "nbconvert_exporter": "python",
   "pygments_lexer": "ipython3",
   "version": "3.11.5"
  },
  "toc": {
   "base_numbering": 1,
   "nav_menu": {},
   "number_sections": true,
   "sideBar": true,
   "skip_h1_title": false,
   "title_cell": "Table of Contents",
   "title_sidebar": "Contents",
   "toc_cell": false,
   "toc_position": {},
   "toc_section_display": true,
   "toc_window_display": false
  },
  "vscode": {
   "interpreter": {
    "hash": "31f2aee4e71d21fbe5cf8b01ff0e069b9275f58929596ceb00d14d90e3e16cd6"
   }
  }
 },
 "nbformat": 4,
 "nbformat_minor": 5
}
