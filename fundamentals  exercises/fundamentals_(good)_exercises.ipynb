{
 "cells": [
  {
   "attachments": {},
   "cell_type": "markdown",
   "id": "123456",
   "metadata": {},
   "source": [
    "<div style=\"text-align:left;font-size:2em\"><span style=\"font-weight:bolder;font-size:1.25em\">SP2273 | Learning Portfolio</span><br><br><span style=\"font-weight:bold;color:darkred\">Fundamentals (Good) Exercises</span></div>"
   ]
  },
  {
   "cell_type": "markdown",
   "id": "65d27686-abc9-484a-bf81-62e93634c1ee",
   "metadata": {},
   "source": [
    "**Exercise 1** (What is your grade?)"
   ]
  },
  {
   "cell_type": "markdown",
   "id": "6bf9962a-a329-4770-8332-c031e2bcbb48",
   "metadata": {},
   "source": [
    "***Step 1***"
   ]
  },
  {
   "cell_type": "code",
   "execution_count": 1,
   "id": "7fa463ab-13c2-4f72-a880-9a1eb7655096",
   "metadata": {},
   "outputs": [
    {
     "name": "stdin",
     "output_type": "stream",
     "text": [
      "Give me a number? 8\n"
     ]
    },
    {
     "name": "stdout",
     "output_type": "stream",
     "text": [
      "You entered 8\n"
     ]
    }
   ],
   "source": [
    "user_input = input('Give me a number?')\n",
    "print('You entered', user_input)"
   ]
  },
  {
   "cell_type": "markdown",
   "id": "eb3ff874-1f27-4c5c-a352-fe16b7c7e61a",
   "metadata": {},
   "source": [
    "***Task***"
   ]
  },
  {
   "cell_type": "code",
   "execution_count": 15,
   "id": "47a0861d-c708-448a-9c9a-c86e40f5fe34",
   "metadata": {},
   "outputs": [
    {
     "name": "stdin",
     "output_type": "stream",
     "text": [
      "Enter the student's score 88\n"
     ]
    },
    {
     "name": "stdout",
     "output_type": "stream",
     "text": [
      "The student's letter grade is: A\n"
     ]
    }
   ],
   "source": [
    "#This is an example of a valid input\n",
    "\n",
    "#1: ask user for input (a number from 0 to 100)\n",
    "\n",
    "grade = input(\"Enter the student's score\")\n",
    "grade = int(grade)\n",
    "\n",
    "#2: check input\n",
    "\n",
    "if grade >= 70 and grade <= 100:\n",
    "    print(\"The student's letter grade is: A\")\n",
    "\n",
    "elif grade >=50 and grade <=69:\n",
    "    print(\"The student's letter grade is: B\")\n",
    "\n",
    "elif grade >=35 and grade <=49:\n",
    "    print(\"The student's letter grade is: C\")\n",
    "\n",
    "elif grade >=0 and grade <=34:\n",
    "    print (\"Fail\")\n",
    "    \n",
    "else:\n",
    "    print(\"This is an invalid input.\")"
   ]
  },
  {
   "cell_type": "code",
   "execution_count": 16,
   "id": "5fc757e6-3d25-4d1a-aa70-3c9383ff652b",
   "metadata": {},
   "outputs": [
    {
     "name": "stdin",
     "output_type": "stream",
     "text": [
      "Enter the student's score 888\n"
     ]
    },
    {
     "name": "stdout",
     "output_type": "stream",
     "text": [
      "This is an invalid input.\n"
     ]
    }
   ],
   "source": [
    "#This is an example of an invalid input\n",
    "\n",
    "#1: ask user for input (a number from 0 to 100)\n",
    "\n",
    "grade = input(\"Enter the student's score\")\n",
    "grade = int(grade)\n",
    "\n",
    "#2: check input\n",
    "\n",
    "if grade >= 70 and grade <= 100:\n",
    "    print(\"The student's letter grade is: A\")\n",
    "\n",
    "elif grade >=50 and grade <=69:\n",
    "    print(\"The student's letter grade is: B\")\n",
    "\n",
    "elif grade >=35 and grade <=49:\n",
    "    print(\"The student's letter grade is: C\")\n",
    "\n",
    "elif grade >=0 and grade <=34:\n",
    "    print (\"Fail\")\n",
    "    \n",
    "else:\n",
    "    print(\"This is an invalid input.\")"
   ]
  }
 ],
 "metadata": {
  "kernelspec": {
   "display_name": "Python 3 (ipykernel)",
   "language": "python",
   "name": "python3"
  },
  "language_info": {
   "codemirror_mode": {
    "name": "ipython",
    "version": 3
   },
   "file_extension": ".py",
   "mimetype": "text/x-python",
   "name": "python",
   "nbconvert_exporter": "python",
   "pygments_lexer": "ipython3",
   "version": "3.11.5"
  },
  "toc": {
   "base_numbering": 1,
   "nav_menu": {},
   "number_sections": true,
   "sideBar": true,
   "skip_h1_title": false,
   "title_cell": "Table of Contents",
   "title_sidebar": "Contents",
   "toc_cell": false,
   "toc_position": {},
   "toc_section_display": true,
   "toc_window_display": false
  },
  "vscode": {
   "interpreter": {
    "hash": "31f2aee4e71d21fbe5cf8b01ff0e069b9275f58929596ceb00d14d90e3e16cd6"
   }
  }
 },
 "nbformat": 4,
 "nbformat_minor": 5
}
