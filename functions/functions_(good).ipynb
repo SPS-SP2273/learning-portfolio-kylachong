{
 "cells": [
  {
   "attachments": {},
   "cell_type": "markdown",
   "id": "123456",
   "metadata": {},
   "source": [
    "<div style=\"text-align:left;font-size:2em\"><span style=\"font-weight:bolder;font-size:1.25em\">SP2273 | Learning Portfolio</span><br><br><span style=\"font-weight:bold;color:darkred\">Functions (Good)</span></div>"
   ]
  },
  {
   "attachments": {},
   "cell_type": "markdown",
   "id": "fd37dfb9",
   "metadata": {},
   "source": [
    "# What to expect in this chapter"
   ]
  },
  {
   "cell_type": "markdown",
   "id": "247ad478-ed97-4ef7-a6c1-555bd210bafc",
   "metadata": {},
   "source": [
    "In this chapter, we will tie up some loose ends about functions like types of arguments and docstrings. We will also discuss exception handling to better understand how to deal with errors. By the end of this chapter, you will know the difference between positional, keyword, and default arguments of functions. You can also write code that checks and handles potential problems."
   ]
  },
  {
   "attachments": {},
   "cell_type": "markdown",
   "id": "a63d4f6b",
   "metadata": {},
   "source": [
    "# Checks, balances, and contingencies"
   ]
  },
  {
   "cell_type": "markdown",
   "id": "a777506f-a751-4f0c-853c-a85d52160a76",
   "metadata": {},
   "source": [
    "Users and programmers are not infallible, and you cannot think of everything that can go wrong. So, having checks, balances, and contingencies in your code is a good idea. So, we will talk about pre-empting problems. This topic applies to more than just functions, but let’s start here.\n",
    "\n",
    "There are two standard ways Python allows us to incorporate checks: `assert` and `try-except`."
   ]
  },
  {
   "attachments": {},
   "cell_type": "markdown",
   "id": "49eda572",
   "metadata": {},
   "source": [
    "## `assert`"
   ]
  },
  {
   "cell_type": "markdown",
   "id": "8040c823-856f-4ae3-8713-92dc3a18703a",
   "metadata": {},
   "source": [
    "Python has a command called `assert` that can check a condition and halt execution if necessary. It also gives the option of printing a message.\n",
    "\n",
    "The basic syntax is as follows:"
   ]
  },
  {
   "cell_type": "code",
   "execution_count": null,
   "id": "e4926324-9e4a-481b-b765-bacbc8e13b31",
   "metadata": {},
   "outputs": [],
   "source": [
    "assert condition-to-check, message"
   ]
  },
  {
   "cell_type": "markdown",
   "id": "3e5de390-9678-4c81-a52b-1e6005a9329d",
   "metadata": {},
   "source": [
    "`assert` stops the flow if the condition **fails**. If the condition fails, an `AssertationError` is raised, and the program stops running (throws an error and stop)."
   ]
  },
  {
   "cell_type": "code",
   "execution_count": 35,
   "id": "e7438a40-5bf0-4f3e-99a7-4676084d2bfb",
   "metadata": {},
   "outputs": [
    {
     "ename": "AssertionError",
     "evalue": "x is becoming negative!",
     "output_type": "error",
     "traceback": [
      "\u001b[0;31m---------------------------------------------------------------------------\u001b[0m",
      "\u001b[0;31mAssertionError\u001b[0m                            Traceback (most recent call last)",
      "Cell \u001b[0;32mIn[35], line 3\u001b[0m\n\u001b[1;32m      1\u001b[0m \u001b[38;5;66;03m#example\u001b[39;00m\n\u001b[1;32m      2\u001b[0m x \u001b[38;5;241m=\u001b[39m \u001b[38;5;241m-\u001b[39m\u001b[38;5;241m1\u001b[39m\n\u001b[0;32m----> 3\u001b[0m \u001b[38;5;28;01massert\u001b[39;00m x \u001b[38;5;241m>\u001b[39m\u001b[38;5;241m=\u001b[39m \u001b[38;5;241m0\u001b[39m, \u001b[38;5;124m\"\u001b[39m\u001b[38;5;124mx is becoming negative!\u001b[39m\u001b[38;5;124m\"\u001b[39m\n",
      "\u001b[0;31mAssertionError\u001b[0m: x is becoming negative!"
     ]
    }
   ],
   "source": [
    "#example\n",
    "x = -1\n",
    "assert x >= 0, \"x is becoming negative!\""
   ]
  },
  {
   "cell_type": "markdown",
   "id": "c16a3da1-ad71-405c-9e0c-b3d0bf18e131",
   "metadata": {},
   "source": [
    "If the condition is `True`, then the program will **run** without a problem."
   ]
  },
  {
   "cell_type": "code",
   "execution_count": 36,
   "id": "5c9eca07-0d5c-4571-a659-1786e95a6c40",
   "metadata": {},
   "outputs": [],
   "source": [
    "x = 10\n",
    "assert x >= 0, \"x is becoming negative!\""
   ]
  },
  {
   "attachments": {},
   "cell_type": "markdown",
   "id": "3cbefe92",
   "metadata": {},
   "source": [
    "## `try-except`"
   ]
  },
  {
   "cell_type": "markdown",
   "id": "78d10488-66ba-43d8-af51-4807d46385d0",
   "metadata": {},
   "source": [
    "A technical name for things going wrong is <font color='orange'>exceptions</font>. For example, division by zero will raise a `ZeroDivisionError`. An exception left unhandled will halt the flow of the programme. However, Python also offers an (absurdly) simple ‘try-except’ structure to catch and handle these exceptions yourself.\n",
    "\n",
    "The `try-except` syntax can also ensure that your programme can handle some situations beyond your control. \n",
    "\n",
    "Here is how to use the `try-except` flow control statement.\n",
    "\n",
    "We can solicit a user response using the `input()` function. For example:"
   ]
  },
  {
   "cell_type": "code",
   "execution_count": 3,
   "id": "343171ed-f2f0-42d2-942b-c2c239ceb42a",
   "metadata": {},
   "outputs": [
    {
     "name": "stdin",
     "output_type": "stream",
     "text": [
      "Give me a number and I will calculate its square. 4\n"
     ]
    },
    {
     "name": "stdout",
     "output_type": "stream",
     "text": [
      "The square of 4 is 16!\n"
     ]
    }
   ],
   "source": [
    "#example: asking for a number\n",
    "number=input(\"Give me a number and I will calculate its square.\")\n",
    "square=int(number)**2              # Convert English to number\n",
    "print(f'The square of {number} is {square}!')"
   ]
  },
  {
   "cell_type": "markdown",
   "id": "0ab7b123-6ed9-4c01-b034-e89015ccd617",
   "metadata": {},
   "source": [
    "This will work fine if the typecasting `int(number)` makes sense. What if the input is not a number but something else like `hahaha`? "
   ]
  },
  {
   "cell_type": "code",
   "execution_count": 4,
   "id": "e8cbdbeb-e2c8-4a10-8051-6252b3fef471",
   "metadata": {},
   "outputs": [
    {
     "name": "stdin",
     "output_type": "stream",
     "text": [
      "Give me a number and I will calculate its square. hahaha\n"
     ]
    },
    {
     "ename": "ValueError",
     "evalue": "invalid literal for int() with base 10: 'hahaha'",
     "output_type": "error",
     "traceback": [
      "\u001b[0;31m---------------------------------------------------------------------------\u001b[0m",
      "\u001b[0;31mValueError\u001b[0m                                Traceback (most recent call last)",
      "Cell \u001b[0;32mIn[4], line 2\u001b[0m\n\u001b[1;32m      1\u001b[0m number\u001b[38;5;241m=\u001b[39m\u001b[38;5;28minput\u001b[39m(\u001b[38;5;124m\"\u001b[39m\u001b[38;5;124mGive me a number and I will calculate its square.\u001b[39m\u001b[38;5;124m\"\u001b[39m)\n\u001b[0;32m----> 2\u001b[0m square\u001b[38;5;241m=\u001b[39m\u001b[38;5;28;43mint\u001b[39;49m\u001b[43m(\u001b[49m\u001b[43mnumber\u001b[49m\u001b[43m)\u001b[49m\u001b[38;5;241m*\u001b[39m\u001b[38;5;241m*\u001b[39m\u001b[38;5;241m2\u001b[39m              \u001b[38;5;66;03m# Convert English to number\u001b[39;00m\n\u001b[1;32m      3\u001b[0m \u001b[38;5;28mprint\u001b[39m(\u001b[38;5;124mf\u001b[39m\u001b[38;5;124m'\u001b[39m\u001b[38;5;124mThe square of \u001b[39m\u001b[38;5;132;01m{\u001b[39;00mnumber\u001b[38;5;132;01m}\u001b[39;00m\u001b[38;5;124m is \u001b[39m\u001b[38;5;132;01m{\u001b[39;00msquare\u001b[38;5;132;01m}\u001b[39;00m\u001b[38;5;124m!\u001b[39m\u001b[38;5;124m'\u001b[39m)\n",
      "\u001b[0;31mValueError\u001b[0m: invalid literal for int() with base 10: 'hahaha'"
     ]
    }
   ],
   "source": [
    "number=input(\"Give me a number and I will calculate its square.\")\n",
    "square=int(number)**2              # Convert English to number\n",
    "print(f'The square of {number} is {square}!')"
   ]
  },
  {
   "cell_type": "markdown",
   "id": "7c30f16a-e5d9-4908-a176-34813154ff23",
   "metadata": {},
   "source": [
    "It will throw an error as shown above."
   ]
  },
  {
   "cell_type": "markdown",
   "id": "8a3c9089-4972-459e-8567-539b1a6bb18a",
   "metadata": {},
   "source": [
    "Hence, we use the `try-except` to get around this problem."
   ]
  },
  {
   "cell_type": "code",
   "execution_count": 5,
   "id": "38f32852-3fe5-4c1b-9092-a33b10f91b94",
   "metadata": {},
   "outputs": [
    {
     "name": "stdin",
     "output_type": "stream",
     "text": [
      "Give me a number and I will calculate its square. hahaha\n"
     ]
    },
    {
     "name": "stdout",
     "output_type": "stream",
     "text": [
      "Oh oh! I cannot square hahaha!\n"
     ]
    }
   ],
   "source": [
    "try:\n",
    "    number=input(\"Give me a number and I will calculate its square.\")\n",
    "    square=int(number)**2\n",
    "    print(f'The square of {number} is {square}!')\n",
    "except:\n",
    "    print(f\"Oh oh! I cannot square {number}!\")"
   ]
  },
  {
   "cell_type": "markdown",
   "id": "d4da1b89-2cbd-40ed-b09d-679d4946e224",
   "metadata": {},
   "source": [
    "We enclose (and protect) that part of the code that we think can potentially lead to trouble in the `try` block. If something (anything) goes wrong, Python will ignore the error and run the code in the `except` block.\n",
    "\n",
    "We can have more control over how the exceptions are handled with a `try-except` block. However, we do not have to worry about that at this point."
   ]
  },
  {
   "attachments": {},
   "cell_type": "markdown",
   "id": "7be9350b",
   "metadata": {},
   "source": [
    "## A simple suggestion"
   ]
  },
  {
   "cell_type": "markdown",
   "id": "e4cff204-55be-4d14-808c-bad6afb4fcaa",
   "metadata": {},
   "source": [
    "When starting out with some code, it is always good for your code to signal to the outside world that it has finished certain milestones. A ‘soft’ way to do this is to include ‘print()’ statements here and there to let the outside world know what is happening in the innards of your program. Otherwise, you will stare at a blank cell, wondering what is happening."
   ]
  },
  {
   "attachments": {},
   "cell_type": "markdown",
   "id": "70118548",
   "metadata": {},
   "source": [
    "# Some loose ends"
   ]
  },
  {
   "attachments": {},
   "cell_type": "markdown",
   "id": "fc571258",
   "metadata": {},
   "source": [
    "## Positional, keyword and default arguments"
   ]
  },
  {
   "cell_type": "markdown",
   "id": "6f70b78c-afac-4f4f-8524-9840c79cefb0",
   "metadata": {},
   "source": [
    "In the past chapter, we carelessly switched between two styles of passing arguments to the function `greeting()`: `greeting('Super Man')` or `greeting(name='Super Man')`. We \n",
    "\n",
    "There are three 'ways' to pass a value to an argument. We call this <font color='orange'>positional</font>, <font color='orange'>keyword</font>, or <font color='orange'>default</font>. To make this clearer, consider the following function."
   ]
  },
  {
   "cell_type": "code",
   "execution_count": 6,
   "id": "8479814f-31eb-4ae7-a470-87d519314a9d",
   "metadata": {},
   "outputs": [],
   "source": [
    "def side_by_side(a, b, c=42):\n",
    "    return f'{a: 2d}|{b: 2d}|{c: 2d}'"
   ]
  },
  {
   "cell_type": "markdown",
   "id": "b0586382-5dca-4397-935b-55c383c7501e",
   "metadata": {},
   "source": [
    "Here are three ways to use this function:"
   ]
  },
  {
   "cell_type": "markdown",
   "id": "c4cded73-2ab5-4e35-84ed-01df1dad08c5",
   "metadata": {},
   "source": [
    "**Positional**"
   ]
  },
  {
   "cell_type": "code",
   "execution_count": 7,
   "id": "74cd4195-5968-4b1a-a1fb-73c8a3a66f77",
   "metadata": {},
   "outputs": [
    {
     "data": {
      "text/plain": [
       "' 1| 2| 3'"
      ]
     },
     "execution_count": 7,
     "metadata": {},
     "output_type": "execute_result"
    }
   ],
   "source": [
    "side_by_side(1, 2, 3)"
   ]
  },
  {
   "cell_type": "markdown",
   "id": "b15b5c55-c995-4a87-9be2-9e9b910d3a33",
   "metadata": {},
   "source": [
    "Here, we are telling Python to assign `1, 2, 3` to `a, b, c` using the positional order of the arguments."
   ]
  },
  {
   "cell_type": "markdown",
   "id": "ce07c2ae-30ef-4f04-badc-8b348b1c21e1",
   "metadata": {},
   "source": [
    "**Keywords**"
   ]
  },
  {
   "cell_type": "code",
   "execution_count": 8,
   "id": "6f665f25-a75b-45d1-8487-10285960ba13",
   "metadata": {},
   "outputs": [
    {
     "data": {
      "text/plain": [
       "' 2| 1| 3'"
      ]
     },
     "execution_count": 8,
     "metadata": {},
     "output_type": "execute_result"
    }
   ],
   "source": [
    "side_by_side(c=3, b=1, a=2)"
   ]
  },
  {
   "cell_type": "markdown",
   "id": "094af3f0-7344-49d9-aaf3-c5a951e7e043",
   "metadata": {},
   "source": [
    "Here, we explicitly specify the keyword to assign the values to each of `a, b, c`. (No, the order does not matter)"
   ]
  },
  {
   "cell_type": "markdown",
   "id": "a122647f-4cbb-4a43-b874-6eeaff285e53",
   "metadata": {},
   "source": [
    "**Default**"
   ]
  },
  {
   "cell_type": "code",
   "execution_count": 9,
   "id": "9a741591-92de-479a-b0e5-12a63fa49dde",
   "metadata": {},
   "outputs": [
    {
     "data": {
      "text/plain": [
       "' 1| 2| 42'"
      ]
     },
     "execution_count": 9,
     "metadata": {},
     "output_type": "execute_result"
    }
   ],
   "source": [
    "side_by_side(1, b=2)"
   ]
  },
  {
   "cell_type": "markdown",
   "id": "8e102c8e-d20c-44d1-acae-a6e11057d848",
   "metadata": {},
   "source": [
    "Here, since `c` is optional, we can choose not to specify it (of course, provided we want `c` to be `1`).\n",
    "\n",
    "Below are some examples of how to combine these three styles."
   ]
  },
  {
   "cell_type": "code",
   "execution_count": 13,
   "id": "39fe6574-ef24-4d74-a3a6-3262a62d5fa8",
   "metadata": {},
   "outputs": [
    {
     "data": {
      "text/plain": [
       "' 1| 2| 42'"
      ]
     },
     "execution_count": 13,
     "metadata": {},
     "output_type": "execute_result"
    }
   ],
   "source": [
    "side_by_side(1, 2)           # Two positional, 1 default"
   ]
  },
  {
   "cell_type": "code",
   "execution_count": 14,
   "id": "3513bf1a-663c-4c2d-a491-7893014245d9",
   "metadata": {},
   "outputs": [
    {
     "data": {
      "text/plain": [
       "' 1| 2| 3'"
      ]
     },
     "execution_count": 14,
     "metadata": {},
     "output_type": "execute_result"
    }
   ],
   "source": [
    "side_by_side(1, 2, 3)        # Three positional"
   ]
  },
  {
   "cell_type": "code",
   "execution_count": 15,
   "id": "4f4c31d7-165f-4d64-a533-74d80550a984",
   "metadata": {},
   "outputs": [
    {
     "data": {
      "text/plain": [
       "' 1| 2| 42'"
      ]
     },
     "execution_count": 15,
     "metadata": {},
     "output_type": "execute_result"
    }
   ],
   "source": [
    "side_by_side(a=1, b=2)       # Two keyword, 1 default"
   ]
  },
  {
   "cell_type": "code",
   "execution_count": 16,
   "id": "2bd20bf7-4355-4741-af8d-eb34da7e49a3",
   "metadata": {},
   "outputs": [
    {
     "data": {
      "text/plain": [
       "' 2| 1| 3'"
      ]
     },
     "execution_count": 16,
     "metadata": {},
     "output_type": "execute_result"
    }
   ],
   "source": [
    "side_by_side(c=3, b=1, a=2)  # Three keyword"
   ]
  },
  {
   "cell_type": "code",
   "execution_count": 17,
   "id": "47337b3d-2f32-47ae-9b56-4bac6063cb08",
   "metadata": {},
   "outputs": [
    {
     "data": {
      "text/plain": [
       "' 1| 2| 3'"
      ]
     },
     "execution_count": 17,
     "metadata": {},
     "output_type": "execute_result"
    }
   ],
   "source": [
    "side_by_side(1, c=3, b=2)    # One positional, 2 keyword"
   ]
  },
  {
   "cell_type": "code",
   "execution_count": 18,
   "id": "8d801062-5416-460f-be3b-feaf27f8bb1c",
   "metadata": {},
   "outputs": [
    {
     "data": {
      "text/plain": [
       "' 1| 2| 42'"
      ]
     },
     "execution_count": 18,
     "metadata": {},
     "output_type": "execute_result"
    }
   ],
   "source": [
    "side_by_side(1, b=2)         # One positional, 1 keyword, 1 default"
   ]
  },
  {
   "cell_type": "markdown",
   "id": "e5c3c72f-42b7-4697-a4cf-5061fd8058ef",
   "metadata": {},
   "source": [
    "However, one style (keyword followed by positional) confuses Python and won’t work."
   ]
  },
  {
   "cell_type": "code",
   "execution_count": 20,
   "id": "98c03779-3f78-4798-afa5-23a0b4d8c04a",
   "metadata": {},
   "outputs": [
    {
     "ename": "SyntaxError",
     "evalue": "positional argument follows keyword argument (234114511.py, line 2)",
     "output_type": "error",
     "traceback": [
      "\u001b[0;36m  Cell \u001b[0;32mIn[20], line 2\u001b[0;36m\u001b[0m\n\u001b[0;31m    side_by_side(a=2, 1)      # Won't work.\u001b[0m\n\u001b[0m                       ^\u001b[0m\n\u001b[0;31mSyntaxError\u001b[0m\u001b[0;31m:\u001b[0m positional argument follows keyword argument\n"
     ]
    }
   ],
   "source": [
    "# Keywords cannot be followed by positional arguments\n",
    "side_by_side(a=2, 1)      # Won't work.                          "
   ]
  },
  {
   "cell_type": "markdown",
   "id": "13aecf9e-1768-45ba-9514-57d4b8d43bba",
   "metadata": {},
   "source": [
    "This will **not** work because Python cannot unambiguously determine the position of `1`."
   ]
  },
  {
   "attachments": {},
   "cell_type": "markdown",
   "id": "8e11f2dc",
   "metadata": {},
   "source": [
    "## Docstrings"
   ]
  },
  {
   "cell_type": "markdown",
   "id": "142c732d-8d8b-4b03-9cdd-b6f5b6fd4a12",
   "metadata": {},
   "source": [
    "Python has a <font color='orange'>docstring</font> feature that allows us to document what a function does inside the function. This documentation (i.e., the docstring) is displayed when we ask Python to show us the help info using `help()`.\n",
    "\n",
    "Here is a simple example."
   ]
  },
  {
   "cell_type": "code",
   "execution_count": 21,
   "id": "4f3bea18-b60f-498d-9bee-27941ceab3bb",
   "metadata": {},
   "outputs": [],
   "source": [
    "def side_by_side(a, b, c=42):\n",
    "    '''\n",
    "    A test function to demonstrate how \n",
    "    positional, keyword and default arguments \n",
    "    work.\n",
    "    '''\n",
    "    return f'{a: 2d}|{b: 2d}|{c: 2d}'"
   ]
  },
  {
   "cell_type": "markdown",
   "id": "d7e38f14-7fd2-41f4-9873-ddedfd686939",
   "metadata": {},
   "source": [
    "A docstring needs to be sandwiched between a pair of `'''` (or `\"\"\"`) and can span multiple lines."
   ]
  },
  {
   "cell_type": "code",
   "execution_count": 22,
   "id": "787652d9-53b0-4ea0-86e8-c8b7789822eb",
   "metadata": {},
   "outputs": [
    {
     "name": "stdout",
     "output_type": "stream",
     "text": [
      "Help on function side_by_side in module __main__:\n",
      "\n",
      "side_by_side(a, b, c=42)\n",
      "    A test function to demonstrate how \n",
      "    positional, keyword and default arguments \n",
      "    work.\n",
      "\n"
     ]
    }
   ],
   "source": [
    "help(side_by_side)"
   ]
  },
  {
   "cell_type": "markdown",
   "id": "c0149949-ed70-49aa-8107-29f863a74177",
   "metadata": {},
   "source": [
    "Docstrings **can** be used for writing multiline comments, but the practice is frowned upon by Puritans."
   ]
  },
  {
   "attachments": {},
   "cell_type": "markdown",
   "id": "bb5ab0ab",
   "metadata": {},
   "source": [
    "## Function are first-class citizens"
   ]
  },
  {
   "cell_type": "markdown",
   "id": "aa580673-2f23-4dac-ae75-be955f1c9cd1",
   "metadata": {},
   "source": [
    "Python functions are called <font color='orange'>first-class citizens</font> because they have the same privileges as variables. This opens up useful possibilities for scientific programming because we can **pass a function as an argument to another function**!"
   ]
  },
  {
   "cell_type": "code",
   "execution_count": 24,
   "id": "8fd13c4a-a0ae-42b6-b5e3-17bca148f74f",
   "metadata": {},
   "outputs": [],
   "source": [
    "import numpy as np"
   ]
  },
  {
   "cell_type": "code",
   "execution_count": 30,
   "id": "f22c8a12-7b53-4088-be47-5e2fc8de3601",
   "metadata": {},
   "outputs": [
    {
     "data": {
      "text/plain": [
       "1.0"
      ]
     },
     "execution_count": 30,
     "metadata": {},
     "output_type": "execute_result"
    }
   ],
   "source": [
    "def my_function(angle, trig_function):\n",
    "        return trig_function(angle)\n",
    "\n",
    "# for example\n",
    "my_function(np.pi/2, np.sin)        "
   ]
  },
  {
   "cell_type": "code",
   "execution_count": 28,
   "id": "44a2abfd-c75f-4c6d-8f4a-52d2d9f3eecc",
   "metadata": {},
   "outputs": [
    {
     "data": {
      "text/plain": [
       "6.123233995736766e-17"
      ]
     },
     "execution_count": 28,
     "metadata": {},
     "output_type": "execute_result"
    }
   ],
   "source": [
    "my_function(np.pi/2, np.cos)        "
   ]
  },
  {
   "cell_type": "code",
   "execution_count": 29,
   "id": "ebf28835-11ec-45a2-b677-85c4ac36b6ed",
   "metadata": {},
   "outputs": [
    {
     "data": {
      "text/plain": [
       "-1.0"
      ]
     },
     "execution_count": 29,
     "metadata": {},
     "output_type": "execute_result"
    }
   ],
   "source": [
    "my_function(np.pi/2, lambda x: np.cos(2*x))  "
   ]
  },
  {
   "cell_type": "markdown",
   "id": "daaf99bf-68d9-470b-9262-2d682e25cfad",
   "metadata": {},
   "source": [
    "**Note**: When we pass a function as an argument, we do **not** include the parenthesis `()`."
   ]
  },
  {
   "attachments": {},
   "cell_type": "markdown",
   "id": "3938bf5f",
   "metadata": {},
   "source": [
    "## More about unpacking"
   ]
  },
  {
   "cell_type": "markdown",
   "id": "2f77958f-5ab7-466c-beee-988193fb2ae6",
   "metadata": {},
   "source": [
    "There is more to unpacking. For example, unpacking can make extracting information from lists and arrays a breeze."
   ]
  },
  {
   "cell_type": "markdown",
   "id": "c17ea442-25ed-4b56-9715-cf400aa124bb",
   "metadata": {},
   "source": [
    "**Example 1**"
   ]
  },
  {
   "cell_type": "code",
   "execution_count": 31,
   "id": "c2caa24a-a114-4477-be2e-9057d530f071",
   "metadata": {},
   "outputs": [
    {
     "data": {
      "text/plain": [
       "(1, 2, 3)"
      ]
     },
     "execution_count": 31,
     "metadata": {},
     "output_type": "execute_result"
    }
   ],
   "source": [
    "x, y, z = [1, 2, 3]\n",
    "x, y, z"
   ]
  },
  {
   "cell_type": "markdown",
   "id": "cae94234-e382-4ff0-a90a-f3e5a04bd87f",
   "metadata": {},
   "source": [
    "**Example 2**"
   ]
  },
  {
   "cell_type": "code",
   "execution_count": 32,
   "id": "17098648-1f2b-4dfd-83c8-19522dbdb7e6",
   "metadata": {},
   "outputs": [
    {
     "data": {
      "text/plain": [
       "(1, 2, 3)"
      ]
     },
     "execution_count": 32,
     "metadata": {},
     "output_type": "execute_result"
    }
   ],
   "source": [
    "x, y, z = np.array([1, 2, 3])\n",
    "x, y, z"
   ]
  },
  {
   "cell_type": "markdown",
   "id": "d6da4f46-885e-4586-90f8-5436084b5a15",
   "metadata": {},
   "source": [
    "**Example 3**"
   ]
  },
  {
   "cell_type": "code",
   "execution_count": 33,
   "id": "25c39fdf-be10-4e20-bf03-8f7f4e834fa0",
   "metadata": {},
   "outputs": [
    {
     "data": {
      "text/plain": [
       "(1, [2, 3, 4], 5)"
      ]
     },
     "execution_count": 33,
     "metadata": {},
     "output_type": "execute_result"
    }
   ],
   "source": [
    "x, *y, z = np.array([1, 2, 3, 4, 5])\n",
    "x, y, z"
   ]
  },
  {
   "cell_type": "markdown",
   "id": "c1223e37-98d7-4a8f-85b8-b08eaaa76b7b",
   "metadata": {},
   "source": [
    "**Example 4**"
   ]
  },
  {
   "cell_type": "code",
   "execution_count": 34,
   "id": "753e6306-e5cc-434e-8f34-44a8906b8fc3",
   "metadata": {},
   "outputs": [
    {
     "data": {
      "text/plain": [
       "(1, 5)"
      ]
     },
     "execution_count": 34,
     "metadata": {},
     "output_type": "execute_result"
    }
   ],
   "source": [
    "x, *_, y = [1, 2, 3, 4, 5]\n",
    "x, y"
   ]
  }
 ],
 "metadata": {
  "kernelspec": {
   "display_name": "Python 3 (ipykernel)",
   "language": "python",
   "name": "python3"
  },
  "language_info": {
   "codemirror_mode": {
    "name": "ipython",
    "version": 3
   },
   "file_extension": ".py",
   "mimetype": "text/x-python",
   "name": "python",
   "nbconvert_exporter": "python",
   "pygments_lexer": "ipython3",
   "version": "3.11.5"
  },
  "toc": {
   "base_numbering": 1,
   "nav_menu": {},
   "number_sections": true,
   "sideBar": true,
   "skip_h1_title": false,
   "title_cell": "Table of Contents",
   "title_sidebar": "Contents",
   "toc_cell": false,
   "toc_position": {},
   "toc_section_display": true,
   "toc_window_display": false
  },
  "vscode": {
   "interpreter": {
    "hash": "31f2aee4e71d21fbe5cf8b01ff0e069b9275f58929596ceb00d14d90e3e16cd6"
   }
  }
 },
 "nbformat": 4,
 "nbformat_minor": 5
}
