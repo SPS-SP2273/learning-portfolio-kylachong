{
 "cells": [
  {
   "attachments": {},
   "cell_type": "markdown",
   "id": "123456",
   "metadata": {},
   "source": [
    "<div style=\"text-align:left;font-size:2em\"><span style=\"font-weight:bolder;font-size:1.25em\">SP2273 | Learning Portfolio</span><br><br><span style=\"font-weight:bold;color:darkred\">Functions (Need)</span></div>"
   ]
  },
  {
   "attachments": {},
   "cell_type": "markdown",
   "id": "6be4af22",
   "metadata": {},
   "source": [
    "# What to expect in this chapter"
   ]
  },
  {
   "cell_type": "markdown",
   "id": "7b4c3d38-a5fe-419f-adef-3da1a09a1543",
   "metadata": {},
   "source": [
    "From the previous chapters, we were using functions (e.g. `print(), enumerate()`). Additionally, a function is just a chunk of code that does a specific conceptual task. There is also the advantage that you can treat a function as a black box and just use it without knowing exactly what is going on in it. Sometimes this is good because too many details can be detrimental; other times it can be unwise as you do not know how an output is generated.\n",
    "\n",
    "In this chapter, we will learn to craft our own functions. In addition to its practicality, the modularity of functions prompts us to think of solutions about modular solutions to problems."
   ]
  },
  {
   "attachments": {},
   "cell_type": "markdown",
   "id": "381b1baa",
   "metadata": {},
   "source": [
    "# User-defined functions"
   ]
  },
  {
   "cell_type": "markdown",
   "id": "70fd0323-51d1-4ddd-9316-85775b829693",
   "metadata": {},
   "source": [
    "`print()` is an example of an **internal** function in Python. You can also create your own functions. There are two ways to do this: **named** and **anonymous**."
   ]
  },
  {
   "attachments": {},
   "cell_type": "markdown",
   "id": "8a7b35ec",
   "metadata": {},
   "source": [
    "## Named Functions"
   ]
  },
  {
   "attachments": {},
   "cell_type": "markdown",
   "id": "e02d3eb4",
   "metadata": {},
   "source": [
    "### Named functions that return"
   ]
  },
  {
   "cell_type": "markdown",
   "id": "91529329-df6f-4af0-94ca-a2dae9527277",
   "metadata": {},
   "source": [
    "We define the function by using the keyword `def` as follows:"
   ]
  },
  {
   "cell_type": "code",
   "execution_count": 1,
   "id": "8c6e6b41",
   "metadata": {},
   "outputs": [],
   "source": [
    "\n",
    "def greeting(name):\n",
    "    if name == 'Batman':\n",
    "        return 'Hello Batman! So, nice to meet you!'\n",
    "    else:\n",
    "        return f'Hello {name}!'\n"
   ]
  },
  {
   "cell_type": "markdown",
   "id": "659b32b7-391d-4345-9dd4-86e012eb1e62",
   "metadata": {},
   "source": [
    "The function’s name is `greeting` and it accepts a single argument called `name`. We can then use the function as:"
   ]
  },
  {
   "cell_type": "code",
   "execution_count": 2,
   "id": "63e531c4-a05c-41da-b60e-52c268019cef",
   "metadata": {},
   "outputs": [
    {
     "data": {
      "text/plain": [
       "'Hello Super Man!'"
      ]
     },
     "execution_count": 2,
     "metadata": {},
     "output_type": "execute_result"
    }
   ],
   "source": [
    "greeting(\"Super Man\")"
   ]
  },
  {
   "cell_type": "markdown",
   "id": "0c45ec45-41b4-4a0c-9973-62b206114159",
   "metadata": {},
   "source": [
    "or"
   ]
  },
  {
   "cell_type": "code",
   "execution_count": 3,
   "id": "1201c4e8-be1c-4a17-88c3-968df41c7639",
   "metadata": {},
   "outputs": [
    {
     "data": {
      "text/plain": [
       "'Hello Super Man!'"
      ]
     },
     "execution_count": 3,
     "metadata": {},
     "output_type": "execute_result"
    }
   ],
   "source": [
    "greeting(name=\"Super Man\")"
   ]
  },
  {
   "cell_type": "markdown",
   "id": "26a23364-b0f6-49ce-bbae-8f256ba19a97",
   "metadata": {},
   "source": [
    "As with all structures in Python, notice the keyword `def`, the colon (`:`) and the indentation that demarcates the function’s code block. Notice also the use of the keyword `return` to get an output from the function. When Python sees a `return` keyword it jumps out of the function with the return value. You can pick up the returned value by assigning it to a variable or even use it directly like:"
   ]
  },
  {
   "cell_type": "code",
   "execution_count": 4,
   "id": "e80a3da7-d681-44b3-8d9f-65b61154ce30",
   "metadata": {},
   "outputs": [
    {
     "name": "stdout",
     "output_type": "stream",
     "text": [
      "Hello Super Man!\n"
     ]
    }
   ],
   "source": [
    "greet=greeting(name='Super Man')\n",
    "print(greet)"
   ]
  },
  {
   "cell_type": "markdown",
   "id": "a15ad6b5-c6fb-4df8-93dd-c99b14379f68",
   "metadata": {},
   "source": [
    "or this works too:"
   ]
  },
  {
   "cell_type": "code",
   "execution_count": 5,
   "id": "442bb3a1-de44-497a-b7c1-cbb0c71d3db3",
   "metadata": {},
   "outputs": [
    {
     "name": "stdout",
     "output_type": "stream",
     "text": [
      "Hello Super Man!\n"
     ]
    }
   ],
   "source": [
    "print(greeting(name='Super Man'))"
   ]
  },
  {
   "cell_type": "markdown",
   "id": "2f9e3005-a35e-4031-af8a-4217a48ca361",
   "metadata": {},
   "source": [
    "Incidentally, you can use `return` only within a function.\n",
    "\n",
    "Note that you can return almost anything. Here is an example of a function that accepts a list and returns the maximum, minimum and mean."
   ]
  },
  {
   "cell_type": "code",
   "execution_count": 6,
   "id": "e6557886-ad30-48d5-a8b3-3a1b041a388a",
   "metadata": {},
   "outputs": [],
   "source": [
    "def basic_stats(numbers):\n",
    "    np_numbers = np.array(numbers)\n",
    "    my_min = np_numbers.min()\n",
    "    my_max = np_numbers.max()\n",
    "    my_mean = np_numbers.mean()\n",
    "    return my_max, my_min, my_mean"
   ]
  },
  {
   "cell_type": "markdown",
   "id": "d96cad7a-d3e2-4dcb-9c9a-32dca257a014",
   "metadata": {},
   "source": [
    "Here is how to use it:"
   ]
  },
  {
   "cell_type": "code",
   "execution_count": 8,
   "id": "aa61a1e9-57e5-4b0f-aa64-02ae19a9a267",
   "metadata": {},
   "outputs": [],
   "source": [
    "import numpy as np"
   ]
  },
  {
   "cell_type": "code",
   "execution_count": 10,
   "id": "f5b71115-1525-44f5-bb68-27f7dd75fe01",
   "metadata": {},
   "outputs": [],
   "source": [
    "list_min, list_max, list_mean = basic_stats([1, 2, 3, 4, 5])"
   ]
  },
  {
   "attachments": {},
   "cell_type": "markdown",
   "id": "c2bbfb71",
   "metadata": {},
   "source": [
    "### Named functions that don’t return"
   ]
  },
  {
   "cell_type": "markdown",
   "id": "5e2db75d-582e-4cab-8989-6e324b67d671",
   "metadata": {},
   "source": [
    "A function does **not** have to return anything. A good example is `print()`, which does something but does not return a value. You will often also need functions like these, for instance, to save data to a file. A few of such functions will be shown in later chapters."
   ]
  },
  {
   "attachments": {},
   "cell_type": "markdown",
   "id": "67435033",
   "metadata": {},
   "source": [
    "## Anonymous functions"
   ]
  },
  {
   "cell_type": "markdown",
   "id": "dfed442a-0770-4f98-b211-fbec6693b605",
   "metadata": {},
   "source": [
    "Anonymous or <font color='purple'>lambda</font> functions are suitable for short one-liners. Here are two examples."
   ]
  },
  {
   "cell_type": "markdown",
   "id": "b0a71e89-3b17-4866-9f98-fc3c427d7781",
   "metadata": {},
   "source": [
    "**Example 1**\n",
    "\n",
    "This function accepts a single argument called `name`."
   ]
  },
  {
   "cell_type": "code",
   "execution_count": 11,
   "id": "0a122bca-a5e1-48f0-89b4-975a4fde256b",
   "metadata": {},
   "outputs": [],
   "source": [
    "my_short_function = lambda name: f\"Hello {name}!\""
   ]
  },
  {
   "cell_type": "markdown",
   "id": "54b4c259-af20-4fb2-ad47-a301968ad8e6",
   "metadata": {},
   "source": [
    "We can use it like"
   ]
  },
  {
   "cell_type": "code",
   "execution_count": 12,
   "id": "10464ebd-4812-418a-8b98-5bbf333024b6",
   "metadata": {},
   "outputs": [
    {
     "data": {
      "text/plain": [
       "'Hello Super Man!'"
      ]
     },
     "execution_count": 12,
     "metadata": {},
     "output_type": "execute_result"
    }
   ],
   "source": [
    "my_short_function(name=\"Super Man\")"
   ]
  },
  {
   "cell_type": "markdown",
   "id": "89eb7354-57bb-4057-809d-c2efdd645f44",
   "metadata": {},
   "source": [
    "A `lambda` function always returns the value of the last statement."
   ]
  },
  {
   "cell_type": "markdown",
   "id": "dcffd7d5-4d68-4fbd-95a3-2ee7619cb3de",
   "metadata": {},
   "source": [
    "**Example 2**\n",
    "\n",
    "The above example is not a very good 'anonymous' one because I **have** used a name! So here is another one where things are really anonymous.\n",
    "\n",
    "Sorting out the following 2D list."
   ]
  },
  {
   "cell_type": "code",
   "execution_count": 13,
   "id": "269094c0-8644-493d-b062-af60a87f64e1",
   "metadata": {},
   "outputs": [],
   "source": [
    "numbers=[[9, 0, -10],\n",
    "         [8, 1, -11],\n",
    "         [7, 2, -12],\n",
    "         [6, 3, -13],\n",
    "         [5, 4, -14],\n",
    "         [4, 5, -15],\n",
    "         [3, 6, -16],\n",
    "         [2, 7, -17],\n",
    "         [1, 8, -18],\n",
    "         [0, 9, -19]]"
   ]
  },
  {
   "cell_type": "markdown",
   "id": "b67447c3-c0b0-492c-b1b1-73bf41db1cc7",
   "metadata": {},
   "source": [
    "I can use the `sorted()` function for this. Here are three ways to use it."
   ]
  },
  {
   "cell_type": "code",
   "execution_count": 14,
   "id": "66a938fe-59ab-4be7-b4f5-7a150096137f",
   "metadata": {},
   "outputs": [
    {
     "data": {
      "text/plain": [
       "[[0, 9, -19],\n",
       " [1, 8, -18],\n",
       " [2, 7, -17],\n",
       " [3, 6, -16],\n",
       " [4, 5, -15],\n",
       " [5, 4, -14],\n",
       " [6, 3, -13],\n",
       " [7, 2, -12],\n",
       " [8, 1, -11],\n",
       " [9, 0, -10]]"
      ]
     },
     "execution_count": 14,
     "metadata": {},
     "output_type": "execute_result"
    }
   ],
   "source": [
    "# Sort by comparing the default key\n",
    "# (i.e., the 1st element)\n",
    "sorted(numbers)"
   ]
  },
  {
   "cell_type": "markdown",
   "id": "f468b429-af41-4406-9cae-26272114124e",
   "metadata": {},
   "source": [
    "Notice that this sorting is based on comparing the first elements of the sub-lists."
   ]
  },
  {
   "cell_type": "code",
   "execution_count": 15,
   "id": "7415e4d1-80ae-47e3-99a8-c3231902e8a3",
   "metadata": {},
   "outputs": [
    {
     "data": {
      "text/plain": [
       "[[9, 0, -10],\n",
       " [8, 1, -11],\n",
       " [7, 2, -12],\n",
       " [6, 3, -13],\n",
       " [5, 4, -14],\n",
       " [4, 5, -15],\n",
       " [3, 6, -16],\n",
       " [2, 7, -17],\n",
       " [1, 8, -18],\n",
       " [0, 9, -19]]"
      ]
     },
     "execution_count": 15,
     "metadata": {},
     "output_type": "execute_result"
    }
   ],
   "source": [
    "# Sort by comparing a custom key\n",
    "# that uses the 2nd element (index=1)\n",
    "sorted(numbers, key=lambda x: x[1])"
   ]
  },
  {
   "cell_type": "markdown",
   "id": "edfa8ac4-60ab-4bba-8bdf-fab886647df1",
   "metadata": {},
   "source": [
    "If I want to use some other criteria, then I need to specify a `key` that `sorted()` can be used for comparison. As you can see, I have used a `lambda` function for this."
   ]
  },
  {
   "cell_type": "code",
   "execution_count": 16,
   "id": "e97a17d2-8253-47f4-8dc6-1754cdbb8bf6",
   "metadata": {},
   "outputs": [
    {
     "data": {
      "text/plain": [
       "[[0, 9, -19],\n",
       " [1, 8, -18],\n",
       " [2, 7, -17],\n",
       " [3, 6, -16],\n",
       " [4, 5, -15],\n",
       " [5, 4, -14],\n",
       " [6, 3, -13],\n",
       " [7, 2, -12],\n",
       " [8, 1, -11],\n",
       " [9, 0, -10]]"
      ]
     },
     "execution_count": 16,
     "metadata": {},
     "output_type": "execute_result"
    }
   ],
   "source": [
    "# Sort by comparing a custom key\n",
    "# that uses the sum of the elements.\n",
    "sorted(numbers, key=lambda x: sum(x))   "
   ]
  },
  {
   "cell_type": "markdown",
   "id": "63b51df8-494d-4502-8c17-cc2b466244a0",
   "metadata": {},
   "source": [
    "This is really powerful as I can specify almost any criterion I like. For example, I can sort according to the sum of the elements of the sub-lists."
   ]
  },
  {
   "attachments": {},
   "cell_type": "markdown",
   "id": "d1532a3c",
   "metadata": {},
   "source": [
    "## Optional arguments"
   ]
  },
  {
   "cell_type": "markdown",
   "id": "aa1c5b0a-8a32-4615-80a3-e2a2e027f26d",
   "metadata": {},
   "source": [
    "Python allows us to make arguments to our function <font color='orange'>optional</font>. To do this, we need to give the argument a <font color='orange'>default</font> value so that it always has something to work with."
   ]
  },
  {
   "cell_type": "code",
   "execution_count": 17,
   "id": "d8d0cf3e-08e1-4982-8069-4c7727fc76d4",
   "metadata": {},
   "outputs": [],
   "source": [
    "def greeting(name='no one'):\n",
    "    if name == 'Batman':\n",
    "        return 'Hello Batman! So, nice to meet you!'\n",
    "    else:\n",
    "        return f'Hello {name}!'"
   ]
  },
  {
   "cell_type": "markdown",
   "id": "287e29f7-62f3-499d-a97e-85ed46b5da80",
   "metadata": {},
   "source": [
    "Now we can run this function without an argument, and it will still work without throwing an error."
   ]
  },
  {
   "cell_type": "code",
   "execution_count": 18,
   "id": "a56506a0-a52b-4189-91f1-46e4cd1b228b",
   "metadata": {},
   "outputs": [
    {
     "data": {
      "text/plain": [
       "'Hello no one!'"
      ]
     },
     "execution_count": 18,
     "metadata": {},
     "output_type": "execute_result"
    }
   ],
   "source": [
    "greeting()"
   ]
  },
  {
   "cell_type": "markdown",
   "id": "14ce5ad5-18dc-4ebb-84c3-d45fb56d314c",
   "metadata": {},
   "source": [
    "For another example, let’s look at the documentation for `print()`."
   ]
  },
  {
   "cell_type": "code",
   "execution_count": 19,
   "id": "7560c16d-957b-4650-ba6b-e895910ea444",
   "metadata": {},
   "outputs": [
    {
     "data": {
      "text/plain": [
       "\u001b[0;31mSignature:\u001b[0m \u001b[0mprint\u001b[0m\u001b[0;34m(\u001b[0m\u001b[0;34m*\u001b[0m\u001b[0margs\u001b[0m\u001b[0;34m,\u001b[0m \u001b[0msep\u001b[0m\u001b[0;34m=\u001b[0m\u001b[0;34m' '\u001b[0m\u001b[0;34m,\u001b[0m \u001b[0mend\u001b[0m\u001b[0;34m=\u001b[0m\u001b[0;34m'\\n'\u001b[0m\u001b[0;34m,\u001b[0m \u001b[0mfile\u001b[0m\u001b[0;34m=\u001b[0m\u001b[0;32mNone\u001b[0m\u001b[0;34m,\u001b[0m \u001b[0mflush\u001b[0m\u001b[0;34m=\u001b[0m\u001b[0;32mFalse\u001b[0m\u001b[0;34m)\u001b[0m\u001b[0;34m\u001b[0m\u001b[0;34m\u001b[0m\u001b[0m\n",
       "\u001b[0;31mDocstring:\u001b[0m\n",
       "Prints the values to a stream, or to sys.stdout by default.\n",
       "\n",
       "sep\n",
       "  string inserted between values, default a space.\n",
       "end\n",
       "  string appended after the last value, default a newline.\n",
       "file\n",
       "  a file-like object (stream); defaults to the current sys.stdout.\n",
       "flush\n",
       "  whether to forcibly flush the stream.\n",
       "\u001b[0;31mType:\u001b[0m      builtin_function_or_method"
      ]
     },
     "metadata": {},
     "output_type": "display_data"
    }
   ],
   "source": [
    "?print"
   ]
  },
  {
   "cell_type": "markdown",
   "id": "c16d4567-87b5-4e49-8b5d-966554be3e80",
   "metadata": {},
   "source": [
    "You see that `print()` can accept other arguments that are optional with default values. However, we can specify them if we like."
   ]
  },
  {
   "cell_type": "code",
   "execution_count": 20,
   "id": "8e0d9635-1fe7-43c1-9d2d-a772eef869f1",
   "metadata": {},
   "outputs": [
    {
     "name": "stdout",
     "output_type": "stream",
     "text": [
      "I am Batman!\n",
      "I---am---Batman!\n"
     ]
    }
   ],
   "source": [
    "# Using default values\n",
    "print('I', 'am', 'Batman!')\n",
    "# Specifying an optional argument\n",
    "print('I', 'am', 'Batman!', sep='---')  "
   ]
  },
  {
   "cell_type": "markdown",
   "id": "707c3da8-04aa-40b3-be05-bb9ceda630f4",
   "metadata": {},
   "source": [
    "**Remember**\n",
    "\n",
    "- you can define your own functions,\n",
    "- functions can have optional arguments,\n",
    "- functions **don’t** always have to return anything."
   ]
  },
  {
   "attachments": {},
   "cell_type": "markdown",
   "id": "1c877162",
   "metadata": {},
   "source": [
    "## The importance of functions?"
   ]
  },
  {
   "attachments": {},
   "cell_type": "markdown",
   "id": "2195d520",
   "metadata": {},
   "source": [
    "### An argument for functions"
   ]
  },
  {
   "cell_type": "markdown",
   "id": "3a53bdee-9af8-47d5-854e-324bdee9689f",
   "metadata": {},
   "source": [
    "Here is why functions are a good idea.\n",
    "\n",
    "**Abstraction of details** The most important benefit of functions goes beyond programming and relates to your ability to strategize. If you break up a complicated solution into modular chunks (i.e., functions), it becomes easier to think about it because you are not dealing with all the details all at once. As a result, it is easier to focus on your overall solution because you are not distracted by unnecessary information. This hiding of ‘stuff’ is called <font color='orange'>abstraction</font> in computer science lingo. The concept of abstraction can be tricky to grasp. \n",
    "\n",
    "Analogy: A vehicle has many ‘abstracted’ systems, amongst which the engine is a good example. You do not need to know the engine’s details (e.g. electric, petrol, diesel, guineapig) to use it. You can use the engine of almost any car because you are not required to know what happens inside. This frees up your resources because you are not distracted by unnecessary details. Of course, there will be times when you want to know how an engine works to pick the best engine.\n",
    "\n",
    "**Reusability of code** If you <font color='orange'>encapsulate</font> a chunk of code in a function, it becomes straightforward to reuse it instead of copying and pasting at different places. This means your code will be shorter and more compact.\n",
    "\n",
    "**Maintainability of code** With functions, your code is easier to change and maintain because you need only make changes in one place, at the function definition."
   ]
  },
  {
   "attachments": {},
   "cell_type": "markdown",
   "id": "3f6470f8",
   "metadata": {},
   "source": [
    "### A word of caution"
   ]
  },
  {
   "cell_type": "markdown",
   "id": "92cc944d-f422-48fa-bf9d-a20740f8e57f",
   "metadata": {},
   "source": [
    "I have seen many instances where functions are **abused**; for example, by trying to do too many things or having too many arguments. They can also be **overused**. Having too many functions can make it difficult to read your code and also increase computational overheads. You will get a better feel for when to use functions with experience, but please bear in mind that functions can be misused."
   ]
  }
 ],
 "metadata": {
  "kernelspec": {
   "display_name": "Python 3 (ipykernel)",
   "language": "python",
   "name": "python3"
  },
  "language_info": {
   "codemirror_mode": {
    "name": "ipython",
    "version": 3
   },
   "file_extension": ".py",
   "mimetype": "text/x-python",
   "name": "python",
   "nbconvert_exporter": "python",
   "pygments_lexer": "ipython3",
   "version": "3.11.5"
  },
  "toc": {
   "base_numbering": 1,
   "nav_menu": {},
   "number_sections": true,
   "sideBar": true,
   "skip_h1_title": false,
   "title_cell": "Table of Contents",
   "title_sidebar": "Contents",
   "toc_cell": false,
   "toc_position": {},
   "toc_section_display": true,
   "toc_window_display": false
  },
  "vscode": {
   "interpreter": {
    "hash": "31f2aee4e71d21fbe5cf8b01ff0e069b9275f58929596ceb00d14d90e3e16cd6"
   }
  }
 },
 "nbformat": 4,
 "nbformat_minor": 5
}
