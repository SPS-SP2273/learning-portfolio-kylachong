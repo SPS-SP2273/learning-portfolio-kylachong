{
 "cells": [
  {
   "attachments": {},
   "cell_type": "markdown",
   "id": "123456",
   "metadata": {},
   "source": [
    "<div style=\"text-align:left;font-size:2em\"><span style=\"font-weight:bolder;font-size:1.25em\">SP2273 | Learning Portfolio</span><br><br><span style=\"font-weight:bold;color:darkred\">Files, Folders & OS (Need) Exercises</span></div>"
   ]
  },
  {
   "cell_type": "markdown",
   "id": "e4d4073b-ed6a-4392-99ff-98294caa7732",
   "metadata": {},
   "source": [
    "**Exercise 1**"
   ]
  },
  {
   "cell_type": "code",
   "execution_count": 61,
   "id": "5b3e0940-f06a-4d1e-884a-db609c50b8ac",
   "metadata": {},
   "outputs": [],
   "source": [
    "import os\n",
    "import glob\n",
    "import shutil"
   ]
  },
  {
   "cell_type": "markdown",
   "id": "7f220e63-0ce5-4d9c-bb16-1008642b41f1",
   "metadata": {},
   "source": [
    "**Task 1**"
   ]
  },
  {
   "cell_type": "code",
   "execution_count": 5,
   "id": "7a1dc75c-815c-41e3-b21e-bcb5529c1ffa",
   "metadata": {},
   "outputs": [],
   "source": [
    "month = {\n",
    "'jan': '01', 'feb': '02', 'mar': '03',\n",
    "'apr': '04', 'may': '05', 'jun': '06',\n",
    "'jul': '07', 'aug': '08', 'sep': '09',\n",
    "'oct': '10', 'nov': '11', 'dec': '12'\n",
    "}"
   ]
  },
  {
   "cell_type": "code",
   "execution_count": 3,
   "id": "40d3fb32-8199-4984-bc6e-54906239ec25",
   "metadata": {},
   "outputs": [
    {
     "data": {
      "text/plain": [
       "'01'"
      ]
     },
     "execution_count": 3,
     "metadata": {},
     "output_type": "execute_result"
    }
   ],
   "source": [
    "month['jan']"
   ]
  },
  {
   "cell_type": "code",
   "execution_count": 9,
   "id": "9d16339a-9fb2-4e59-8f23-3b4287361a28",
   "metadata": {},
   "outputs": [],
   "source": [
    "#current file name\n",
    "current = 'os-collaboration-exercise-data/oct-10_singapore.txt'\n",
    "\n",
    "#intended file name\n",
    "intended = f'os-collaboration-exercise-data/{month[\"oct\"]}-10-singapore.txt'\n",
    "\n",
    "os.rename(current, intended)"
   ]
  },
  {
   "cell_type": "markdown",
   "id": "f5f23114-5e7b-4e21-ba93-4266733d0501",
   "metadata": {},
   "source": [
    "**Task 2**"
   ]
  },
  {
   "cell_type": "code",
   "execution_count": 37,
   "id": "dadeede7-57af-441d-97bd-ebe514b830ca",
   "metadata": {},
   "outputs": [],
   "source": [
    "def rename_my_file(old_file_name):\n",
    "    current = old_file_name\n",
    "\n",
    "    #replace month with number\n",
    "    #slash_pos = current.find('/')\n",
    "    #month_letters = current[slash_pos+1:slash_pos+4]\n",
    "    #month_changed = current[:slash_pos+1] + month[month_letters] + current[slash_pos+4:]\n",
    "\n",
    "    month_changed = month[current[0:3]] + current[3:]\n",
    "    \n",
    "    #replace underscore with hyphen\n",
    "    underscore_pos = month_changed.find('_')\n",
    "    new_file_name = month_changed[:underscore_pos] + '-' + month_changed[underscore_pos+1:]\n",
    "\n",
    "    return new_file_name"
   ]
  },
  {
   "cell_type": "code",
   "execution_count": 32,
   "id": "185f71a8-ad34-4182-b7c9-f9f1165287f4",
   "metadata": {},
   "outputs": [
    {
     "data": {
      "text/plain": [
       "'os-collaboration-exercise-data/10-10-singapore.txt'"
      ]
     },
     "execution_count": 32,
     "metadata": {},
     "output_type": "execute_result"
    }
   ],
   "source": [
    "name = \"os-collaboration-exercise-data/oct-10_singapore.txt\"\n",
    "\n",
    "rename_my_file(name)"
   ]
  },
  {
   "cell_type": "markdown",
   "id": "e2484164-55f9-425c-a60c-d2e7b1383b5d",
   "metadata": {},
   "source": [
    "**Task 3**"
   ]
  },
  {
   "cell_type": "code",
   "execution_count": 38,
   "id": "a72d4823-07a2-4fc7-991d-5ad01b5b9bbd",
   "metadata": {},
   "outputs": [
    {
     "name": "stdout",
     "output_type": "stream",
     "text": [
      "oct-08_singapore.txt ----> 10-08-singapore.txt\n",
      "jul-10_cairo.txt ----> 07-10-cairo.txt\n",
      "may-15_dhaka.txt ----> 05-15-dhaka.txt\n",
      "may-13_cairo.txt ----> 05-13-cairo.txt\n",
      "oct-21_cairo.txt ----> 10-21-cairo.txt\n",
      "jan-10_singapore.txt ----> 01-10-singapore.txt\n",
      "jun-20_tokyo.txt ----> 06-20-tokyo.txt\n",
      "aug-06_jakarta.txt ----> 08-06-jakarta.txt\n",
      "dec-21_karachi.txt ----> 12-21-karachi.txt\n",
      "jan-01_tokyo.txt ----> 01-01-tokyo.txt\n"
     ]
    }
   ],
   "source": [
    "file_name = ['oct-08_singapore.txt', 'jul-10_cairo.txt', 'may-15_dhaka.txt',\n",
    " 'may-13_cairo.txt', 'oct-21_cairo.txt', 'jan-10_singapore.txt',\n",
    " 'jun-20_tokyo.txt', 'aug-06_jakarta.txt', 'dec-21_karachi.txt',\n",
    " 'jan-01_tokyo.txt']\n",
    "\n",
    "for file in file_name:\n",
    "    new_file = rename_my_file(file)\n",
    "    print(file, \"---->\", new_file)"
   ]
  },
  {
   "cell_type": "markdown",
   "id": "d7d93ecb-5d2c-4833-9014-08b8a2d6996f",
   "metadata": {},
   "source": [
    "**Task 4**"
   ]
  },
  {
   "cell_type": "code",
   "execution_count": 43,
   "id": "0ae850a9-123f-4e33-b31f-9f2279f8b93e",
   "metadata": {},
   "outputs": [],
   "source": [
    "txt_files = glob.glob('os-collaboration-exercise-data/*.txt')"
   ]
  },
  {
   "cell_type": "code",
   "execution_count": 51,
   "id": "86d79b8e-35e8-45cb-98d5-9009dd8955c6",
   "metadata": {},
   "outputs": [],
   "source": [
    "def rename_my_file(old_file_name):\n",
    "    current = old_file_name\n",
    "\n",
    "    #replace month with number\n",
    "    slash_pos = current.find('/')\n",
    "    month_letters = current[slash_pos+1:slash_pos+4]\n",
    "    month_changed = current[:slash_pos+1] + month[month_letters] + current[slash_pos+4:]\n",
    "\n",
    "    #replace underscore with hyphen\n",
    "    underscore_pos = month_changed.find('_')\n",
    "    new_file_name = month_changed[:underscore_pos] + '-' + month_changed[underscore_pos+1:]\n",
    "\n",
    "    return new_file_name"
   ]
  },
  {
   "cell_type": "code",
   "execution_count": 54,
   "id": "19691e6d-2b0e-48b3-85aa-dfc1f64375c7",
   "metadata": {},
   "outputs": [],
   "source": [
    "#file stores the current file path\n",
    "for file in txt_files:\n",
    "\n",
    "    try:\n",
    "        current = file\n",
    "        intended = rename_my_file(file)\n",
    "\n",
    "        os.rename(current, intended)\n",
    "\n",
    "    except:\n",
    "        continue"
   ]
  },
  {
   "cell_type": "markdown",
   "id": "ec638c34-7d43-47a7-aa56-f0860400f888",
   "metadata": {},
   "source": [
    "**Task 5**"
   ]
  },
  {
   "cell_type": "code",
   "execution_count": 58,
   "id": "d93d8880-1e6e-4806-9ea5-01ef712b261c",
   "metadata": {},
   "outputs": [],
   "source": [
    "cities = ['Cairo', 'Dhaka', 'Jakarta', 'Karachi', 'Manila', 'Melbourne', 'Osaka', 'Shanghai', 'Singapore', 'Tokyo']\n",
    "\n",
    "for city in cities:\n",
    "\n",
    "    folder_name = 'os-collaboration-exercise-data/' + city\n",
    "    os.makedirs(folder_name, exist_ok=True)  "
   ]
  },
  {
   "cell_type": "markdown",
   "id": "f1ed686c-6807-4ce4-a0c9-0894f44374b2",
   "metadata": {},
   "source": [
    "**Task 6**"
   ]
  },
  {
   "cell_type": "code",
   "execution_count": 59,
   "id": "43a7d58a-2a7c-43f6-a6e4-d54f5bb3713b",
   "metadata": {},
   "outputs": [],
   "source": [
    "cairo_files = glob.glob('os-collaboration-exercise-data/*cairo*.txt')"
   ]
  },
  {
   "cell_type": "code",
   "execution_count": 63,
   "id": "0b90a883-5ac3-4d8a-97d9-dec344aa8ddc",
   "metadata": {},
   "outputs": [],
   "source": [
    "for file in cairo_files:\n",
    "\n",
    "    current_dir = file\n",
    "\n",
    "    destination_dir = 'os-collaboration-exercise-data/Cairo/'\n",
    "\n",
    "    shutil.copy(current_dir, destination_dir)"
   ]
  },
  {
   "cell_type": "code",
   "execution_count": 62,
   "id": "0ddab22e-1457-4579-acef-355127900d8a",
   "metadata": {},
   "outputs": [
    {
     "data": {
      "text/plain": [
       "'os-collaboration-exercise-data/09-18-cairo.txt'"
      ]
     },
     "execution_count": 62,
     "metadata": {},
     "output_type": "execute_result"
    }
   ],
   "source": [
    "cairo_files[0]"
   ]
  },
  {
   "cell_type": "markdown",
   "id": "bc38ee92-9633-4510-a32d-34db8bb045b7",
   "metadata": {},
   "source": [
    "**Task 7**"
   ]
  },
  {
   "cell_type": "code",
   "execution_count": 73,
   "id": "4ef90014-ecaf-4cab-b484-eb464183907e",
   "metadata": {},
   "outputs": [],
   "source": [
    "def copy_files(city):\n",
    "\n",
    "    city_lower = city.lower()\n",
    "    pathname = f'os-collaboration-exercise-data/*{city_lower}*.txt'\n",
    "    \n",
    "    city_files = glob.glob(pathname)\n",
    "\n",
    "    for file in city_files:\n",
    "\n",
    "        current_dir = file\n",
    "\n",
    "        folder_name = city.capitalize()\n",
    "        destination_dir = f'os-collaboration-exercise-data/{folder_name}/'\n",
    "\n",
    "        shutil.copy(current_dir, destination_dir)"
   ]
  },
  {
   "cell_type": "code",
   "execution_count": 74,
   "id": "dd15a3d5-d46a-4db6-a8bc-0b3afcd30c34",
   "metadata": {},
   "outputs": [],
   "source": [
    "cities = ['Cairo', 'Dhaka', 'Jakarta', 'Karachi', 'Manila', 'Melbourne', 'Osaka', 'Shanghai', 'Singapore', 'Tokyo']"
   ]
  },
  {
   "cell_type": "code",
   "execution_count": 76,
   "id": "3bacc39e-d3e2-4382-8cab-588c60b46d37",
   "metadata": {},
   "outputs": [],
   "source": [
    "for city in cities:\n",
    "\n",
    "    copy_files(city)"
   ]
  }
 ],
 "metadata": {
  "kernelspec": {
   "display_name": "Python 3 (ipykernel)",
   "language": "python",
   "name": "python3"
  },
  "language_info": {
   "codemirror_mode": {
    "name": "ipython",
    "version": 3
   },
   "file_extension": ".py",
   "mimetype": "text/x-python",
   "name": "python",
   "nbconvert_exporter": "python",
   "pygments_lexer": "ipython3",
   "version": "3.11.5"
  },
  "toc": {
   "base_numbering": 1,
   "nav_menu": {},
   "number_sections": true,
   "sideBar": true,
   "skip_h1_title": false,
   "title_cell": "Table of Contents",
   "title_sidebar": "Contents",
   "toc_cell": false,
   "toc_position": {},
   "toc_section_display": true,
   "toc_window_display": false
  },
  "vscode": {
   "interpreter": {
    "hash": "31f2aee4e71d21fbe5cf8b01ff0e069b9275f58929596ceb00d14d90e3e16cd6"
   }
  }
 },
 "nbformat": 4,
 "nbformat_minor": 5
}
