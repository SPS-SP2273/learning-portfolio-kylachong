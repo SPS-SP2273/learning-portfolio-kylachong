{
 "cells": [
  {
   "attachments": {},
   "cell_type": "markdown",
   "id": "123456",
   "metadata": {},
   "source": [
    "<div style=\"text-align:left;font-size:2em\"><span style=\"font-weight:bolder;font-size:1.25em\">SP2273 | Learning Portfolio</span><br><br><span style=\"font-weight:bold;color:darkred\">Storing Data (Good)</span></div>"
   ]
  },
  {
   "attachments": {},
   "cell_type": "markdown",
   "id": "6dcabfae",
   "metadata": {},
   "source": [
    "# What to expect in this chapter"
   ]
  },
  {
   "cell_type": "markdown",
   "id": "4120236d-ddc1-493b-8147-eddb6a8847c4",
   "metadata": {},
   "source": [
    "You should now know how to store data using lists, arrays and dictionaries. I will now show you more details on accessing and modifying these structures. This is important because most of what you do with programming is related to accessing and changing data. You will also gain a better understanding of the differences and similarities between lists, NumPy arrays and dictionaries."
   ]
  },
  {
   "attachments": {},
   "cell_type": "markdown",
   "id": "27156efe",
   "metadata": {},
   "source": [
    "# 1 Subsetting: Indexing and Slicing"
   ]
  },
  {
   "cell_type": "markdown",
   "id": "13e5a650-4338-4204-bc15-8aeed0a3ba69",
   "metadata": {},
   "source": [
    "You will often need to select a subset (<font color='orange'>subsetting</font>) of the data in a list (or array). One form of this is picking a single element called <font color='orange'>indexing</font> (You already know how to do this from the previous chapter). Another option is to select a range of elements. This is called <font color='orange'>slicing</font>.\n",
    "\n",
    "So, in summary, what we mean when we say…\n",
    "\n",
    "- **Subsetting** means to ‘select’.\n",
    "- **Indexing** refers to selecting one element.\n",
    "- **Slicing** refers to selecting a range of elements."
   ]
  },
  {
   "attachments": {},
   "cell_type": "markdown",
   "id": "b3b54f99",
   "metadata": {},
   "source": [
    "## 1.1 Lists & Arrays in 1D | Subsetting & Indexing"
   ]
  },
  {
   "cell_type": "markdown",
   "id": "298e0271-1c78-4864-868c-8867760a1156",
   "metadata": {},
   "source": [
    "Since slicing gives us a range of elements, we must specify two indices to indicate where to start and end. The various syntaxes for these are shown in the table below.\n",
    "\n",
    "The following applies to **both** lists and arrays."
   ]
  },
  {
   "cell_type": "code",
   "execution_count": 2,
   "id": "3fb48fa7-8ae5-4b42-9d8a-ea2b8fb7b9d5",
   "metadata": {},
   "outputs": [],
   "source": [
    "import numpy as np"
   ]
  },
  {
   "cell_type": "code",
   "execution_count": 3,
   "id": "1617e9a1-de46-4129-8fdf-77be197a1a57",
   "metadata": {},
   "outputs": [],
   "source": [
    "py_list=[\"a1\", \"b2\", \"c3\", \"d4\", \"e5\",\n",
    "         \"f6\", \"g7\", \"h8\", \"i9\", \"j10\"]\n",
    "np_array=np.array(py_list)\n",
    "\n",
    "# Pick one\n",
    "x = py_list  # OR\n",
    "x = np_array"
   ]
  },
  {
   "cell_type": "markdown",
   "id": "b5e21165-7a67-47f3-9539-68de91952378",
   "metadata": {},
   "source": [
    "| Syntax     | Result                 | Note                                  |\n",
    "|------------|------------------------|---------------------------------------|\n",
    "| `x[0]`     | First element              `'a1'`                   |                          |\n",
    "| `x[-1]`    | Last element   `'j10'`                  |                          |\n",
    "| `x[0:3]`   | Index 0 to 2   `['a1', 'b2', 'c3']`     | Gives 3 − 0 = 3 elements |\n",
    "| `x[1:6]`   | Index 1 to 5   `['b2', 'c3', 'd4', 'e5', 'f6']` | Gives 6 − 1 = 5 elements |\n",
    "| `x[1:6:2]` | Index 1 to 5 in steps of 2 `['b2', 'd4', 'f6']`     | Gives every other of 6 − 1 = 5 elements |\n",
    "| `x[5:]`    | Index 5 to the end `['f6', 'g7', 'h8', 'i9', 'j10']` | Gives `len(x)` − 5 = 5 elements |\n",
    "| `x[:5]`    | Index 0 to 5 `['a1', 'b2', 'c3', 'd4', 'e5']` | Gives 5 − 0 = 5 elements |\n",
    "| `x[5:2:-1]`| Index 5 to 3 (i.e., in reverse) `['f6', 'e5', 'd4']`     | Gives 5 − 2 = 3 elements |\n",
    "| `x[::-1]`  | Reverses the list `['j10', 'i9', 'h8', ..., 'b2', 'a1']` |  |\n",
    "\n",
    "**Remember**\n",
    "\n",
    "Slicing in Python can be a bit tricky. If you slice with `[i:j]`, the slice will start at `i` and end at `j-1`, giving you a total of `j-i` elements."
   ]
  },
  {
   "attachments": {},
   "cell_type": "markdown",
   "id": "b955ec4b",
   "metadata": {},
   "source": [
    "## 1.2 Arrays only | Subsetting by masking"
   ]
  },
  {
   "cell_type": "markdown",
   "id": "40528f32-b3e7-4227-b8ae-e697b84f0755",
   "metadata": {},
   "source": [
    "One of the most powerful things you can do with NumPy arrays is subsetting by <font color='orange'>masking</font>. To make sense of this, consider the following."
   ]
  },
  {
   "cell_type": "code",
   "execution_count": 4,
   "id": "e82dbbe1-1eb2-4d96-be87-7e3c9b71af08",
   "metadata": {},
   "outputs": [
    {
     "data": {
      "text/plain": [
       "array([False, False, False,  True,  True,  True,  True,  True,  True,\n",
       "        True])"
      ]
     },
     "execution_count": 4,
     "metadata": {},
     "output_type": "execute_result"
    }
   ],
   "source": [
    "np_array = np.array([1, 2, 3, 4, 5, 6, 7, 8, 9, 10])\n",
    "my_mask = np_array > 3\n",
    "my_mask"
   ]
  },
  {
   "cell_type": "markdown",
   "id": "b9819653-6bd5-47e5-b4db-4df3f5c00f57",
   "metadata": {},
   "source": [
    "The answer to my question is in the form of a ‘Yes’/‘No’ or `True/False` format. I can use this `True/False` format to ask NumPy to show me **only those that are** `True` by"
   ]
  },
  {
   "cell_type": "code",
   "execution_count": 6,
   "id": "ff81d5c4-c196-4474-85e6-50f04d4406ea",
   "metadata": {},
   "outputs": [
    {
     "data": {
      "text/plain": [
       "array([ 4,  5,  6,  7,  8,  9, 10])"
      ]
     },
     "execution_count": 6,
     "metadata": {},
     "output_type": "execute_result"
    }
   ],
   "source": [
    "np_array[my_mask]"
   ]
  },
  {
   "cell_type": "markdown",
   "id": "89e17c04-ecf5-49d1-afba-8b4e5cce2d25",
   "metadata": {},
   "source": [
    "This is why I used the term ‘masking’. The `True/False` answer acts like a mask allowing only the `True` subset to be seen.\n",
    "\n",
    "**Remember**: Subsetting by masking **only** works with NumPy arrays.\n",
    "\n",
    "Instead of creating another variable, I can also do all of this succinctly as:"
   ]
  },
  {
   "cell_type": "code",
   "execution_count": 7,
   "id": "5eba3655-6680-48e2-a9c1-d07709fe6376",
   "metadata": {},
   "outputs": [
    {
     "data": {
      "text/plain": [
       "array([ 4,  5,  6,  7,  8,  9, 10])"
      ]
     },
     "execution_count": 7,
     "metadata": {},
     "output_type": "execute_result"
    }
   ],
   "source": [
    "np_array[np_array > 3]"
   ]
  },
  {
   "cell_type": "markdown",
   "id": "9a936e84-1de6-46ec-ab24-05e221c1f9f6",
   "metadata": {},
   "source": [
    "Here are a few more quick examples:\n",
    "\n",
    "**Example 1**"
   ]
  },
  {
   "cell_type": "code",
   "execution_count": 8,
   "id": "3d76f19d-c21a-41b9-9118-269346e1e26a",
   "metadata": {},
   "outputs": [
    {
     "data": {
      "text/plain": [
       "array([1, 2, 3])"
      ]
     },
     "execution_count": 8,
     "metadata": {},
     "output_type": "execute_result"
    }
   ],
   "source": [
    "np_array[~(np_array > 3)]                 # '~' means 'NOT'"
   ]
  },
  {
   "cell_type": "markdown",
   "id": "196793d8-9940-4f7a-86be-a794dfb8786d",
   "metadata": {},
   "source": [
    "We can **invert** our mask by using the `~`.\n",
    "`~` is called the <font color='orange'>Bitwise Not</font> operator."
   ]
  },
  {
   "cell_type": "markdown",
   "id": "f206810a-29e9-4441-9c6d-ccfcd24ad6f7",
   "metadata": {},
   "source": [
    "**Example 2**"
   ]
  },
  {
   "cell_type": "code",
   "execution_count": 9,
   "id": "a5931010-f1e4-49a0-833b-2b646466369a",
   "metadata": {},
   "outputs": [
    {
     "data": {
      "text/plain": [
       "array([4, 5, 6, 7])"
      ]
     },
     "execution_count": 9,
     "metadata": {},
     "output_type": "execute_result"
    }
   ],
   "source": [
    "np_array[(np_array > 3) & (np_array < 8)] # '&' means 'AND'"
   ]
  },
  {
   "cell_type": "markdown",
   "id": "fb150c06-d7be-41f8-bcc3-cb6cf208f23d",
   "metadata": {},
   "source": [
    "We can combine one mask **AND** another mask.\n",
    "(`AND` will show something only if both masks are true.)"
   ]
  },
  {
   "cell_type": "markdown",
   "id": "59499ad7-24d0-4daf-83bb-969e128d1389",
   "metadata": {},
   "source": [
    "**Example 3**"
   ]
  },
  {
   "cell_type": "code",
   "execution_count": 10,
   "id": "5753fd16-2b8a-4bc5-a621-3c93901424a5",
   "metadata": {},
   "outputs": [
    {
     "data": {
      "text/plain": [
       "array([ 1,  2,  9, 10])"
      ]
     },
     "execution_count": 10,
     "metadata": {},
     "output_type": "execute_result"
    }
   ],
   "source": [
    "np_array[(np_array < 3) | (np_array > 8)] # '|' means 'OR'"
   ]
  },
  {
   "cell_type": "markdown",
   "id": "4311b036-d8da-4567-9d74-6304d28e7884",
   "metadata": {},
   "source": [
    "We can combine one mask **OR** another mask.\n",
    "(`OR` will show something if either mask is true.)\n",
    "\n",
    "**Remember**:\n",
    "\n",
    "- Always use the Bitwise NOT(`~`), Bitwise OR(`|`) and Bitwise AND(`&`) when combining masks with NumPy.\n",
    "- Always use brackets to clarify what you are asking the mask to do.\n"
   ]
  },
  {
   "attachments": {},
   "cell_type": "markdown",
   "id": "181616b3",
   "metadata": {},
   "source": [
    "## 1.3 Lists & Arrays in 2D | Indexing & Slicing"
   ]
  },
  {
   "cell_type": "markdown",
   "id": "8a522169-e24f-43af-a7c5-8f1574dd82cc",
   "metadata": {},
   "source": [
    "The differences between lists and arrays become even more apparent with higher dimensional lists and arrays. Especially when you try indexing and slicing in higher dimensions.\n",
    "\n",
    "Let’s consider the following 2D list."
   ]
  },
  {
   "cell_type": "code",
   "execution_count": 11,
   "id": "041248d2-6f20-44b2-bec0-2f2008bb9026",
   "metadata": {},
   "outputs": [],
   "source": [
    "py_list_2d = [[1, \"A\"], [2, \"B\"], [3, \"C\"], [4, \"D\"],\n",
    "              [5, \"E\"], [6, \"F\"], [7, \"G\"], [8, \"H\"],\n",
    "              [9, \"I\"], [10, \"J\"]]\n",
    "\n",
    "np_array_2d = np.array(py_list_2d)"
   ]
  },
  {
   "cell_type": "markdown",
   "id": "3a710f3e-448c-41bb-9f60-8879640f927c",
   "metadata": {},
   "source": [
    "**Example 1**\n",
    "\n",
    "What is at position 4 (index 3)?py_list_2d[3]\n",
    "np_array_2d[3]"
   ]
  },
  {
   "cell_type": "code",
   "execution_count": 13,
   "id": "99d35b6a-0477-4e47-a757-8d972e7a60ab",
   "metadata": {},
   "outputs": [
    {
     "data": {
      "text/plain": [
       "[4, 'D']"
      ]
     },
     "execution_count": 13,
     "metadata": {},
     "output_type": "execute_result"
    }
   ],
   "source": [
    "#List\n",
    "\n",
    "py_list_2d[3]"
   ]
  },
  {
   "cell_type": "code",
   "execution_count": 14,
   "id": "be8dd803-730c-4951-ae1d-1ced3302b750",
   "metadata": {},
   "outputs": [
    {
     "data": {
      "text/plain": [
       "array(['4', 'D'], dtype='<U21')"
      ]
     },
     "execution_count": 14,
     "metadata": {},
     "output_type": "execute_result"
    }
   ],
   "source": [
    "#Array\n",
    "\n",
    "np_array_2d[3]"
   ]
  },
  {
   "cell_type": "markdown",
   "id": "8611c33e-8004-4ffd-a76e-7a443e787525",
   "metadata": {},
   "source": [
    "**Example 2**\n",
    "\n",
    "What is the FIRST element at position 4 (index 3)?"
   ]
  },
  {
   "cell_type": "code",
   "execution_count": 15,
   "id": "a535ec0f-7ca4-4c8b-9f88-aebc73834e7e",
   "metadata": {},
   "outputs": [
    {
     "data": {
      "text/plain": [
       "4"
      ]
     },
     "execution_count": 15,
     "metadata": {},
     "output_type": "execute_result"
    }
   ],
   "source": [
    "#List\n",
    "\n",
    "py_list_2d[3][0]"
   ]
  },
  {
   "cell_type": "code",
   "execution_count": 16,
   "id": "9197b15f-6ab8-41db-a342-d73704826e40",
   "metadata": {},
   "outputs": [
    {
     "data": {
      "text/plain": [
       "'4'"
      ]
     },
     "execution_count": 16,
     "metadata": {},
     "output_type": "execute_result"
    }
   ],
   "source": [
    "#Array\n",
    "\n",
    "np_array_2d[3, 0]"
   ]
  },
  {
   "cell_type": "markdown",
   "id": "bfc960ff-0d53-4088-8025-cf60c19d4290",
   "metadata": {},
   "source": [
    "Notice how the syntax for arrays uses just a single pair of square brackets (`[ ]`)."
   ]
  },
  {
   "cell_type": "markdown",
   "id": "36a21e14-b997-49b7-a4d1-eda8833f2c91",
   "metadata": {},
   "source": [
    "**Example 3**\n",
    "\n",
    "What are the first 3 elements?"
   ]
  },
  {
   "cell_type": "code",
   "execution_count": 17,
   "id": "c8bb710b-d0a6-4705-99bb-5c613777a924",
   "metadata": {},
   "outputs": [
    {
     "data": {
      "text/plain": [
       "[[1, 'A'], [2, 'B'], [3, 'C']]"
      ]
     },
     "execution_count": 17,
     "metadata": {},
     "output_type": "execute_result"
    }
   ],
   "source": [
    "#List\n",
    "\n",
    "py_list_2d[:3]"
   ]
  },
  {
   "cell_type": "code",
   "execution_count": 18,
   "id": "7df6421b-5cbd-4781-a083-f463bc2d70d2",
   "metadata": {},
   "outputs": [
    {
     "data": {
      "text/plain": [
       "array([['1', 'A'],\n",
       "       ['2', 'B'],\n",
       "       ['3', 'C']], dtype='<U21')"
      ]
     },
     "execution_count": 18,
     "metadata": {},
     "output_type": "execute_result"
    }
   ],
   "source": [
    "#Array\n",
    "\n",
    "np_array_2d[:3]"
   ]
  },
  {
   "cell_type": "markdown",
   "id": "f562d64b-5afe-4969-b8e8-0a3e53e4cc9f",
   "metadata": {},
   "source": [
    "**Example 4**"
   ]
  },
  {
   "cell_type": "code",
   "execution_count": 19,
   "id": "ce852e01-1178-4f7d-99ba-591aa1add03b",
   "metadata": {},
   "outputs": [
    {
     "data": {
      "text/plain": [
       "[1, 'A']"
      ]
     },
     "execution_count": 19,
     "metadata": {},
     "output_type": "execute_result"
    }
   ],
   "source": [
    "#List\n",
    "\n",
    "py_list_2d[:3][0]"
   ]
  },
  {
   "cell_type": "code",
   "execution_count": 20,
   "id": "a00a02b2-4788-457f-94c3-264865ac4353",
   "metadata": {},
   "outputs": [
    {
     "data": {
      "text/plain": [
       "array(['1', '2', '3'], dtype='<U21')"
      ]
     },
     "execution_count": 20,
     "metadata": {},
     "output_type": "execute_result"
    }
   ],
   "source": [
    "#Array\n",
    "\n",
    "np_array_2d[:3, 0]"
   ]
  },
  {
   "cell_type": "markdown",
   "id": "a1a6d4c3-b44d-4110-87e0-352c883081e9",
   "metadata": {},
   "source": [
    "You might think that this will yield the first elements (i.e., `[1, 2, 3]`) of all the sub-lists up to index 2.\n",
    "No! Instead, it gives the first of the list you get from `py_list_2d[:3]`. \n",
    "\n",
    "Notice how differently NumPy arrays work."
   ]
  },
  {
   "cell_type": "markdown",
   "id": "c1323505-16a7-4918-bfee-55fe306feddd",
   "metadata": {},
   "source": [
    "**Example 5**"
   ]
  },
  {
   "cell_type": "code",
   "execution_count": 21,
   "id": "436c2db0-8e7f-4b02-aeaf-07d39b6deabe",
   "metadata": {},
   "outputs": [
    {
     "data": {
      "text/plain": [
       "[4, 'D']"
      ]
     },
     "execution_count": 21,
     "metadata": {},
     "output_type": "execute_result"
    }
   ],
   "source": [
    "#List\n",
    "\n",
    "py_list_2d[3:6][0]"
   ]
  },
  {
   "cell_type": "code",
   "execution_count": 22,
   "id": "2ef044b9-3a45-4006-8084-c623d4e81fdc",
   "metadata": {},
   "outputs": [
    {
     "data": {
      "text/plain": [
       "array(['4', '5', '6'], dtype='<U21')"
      ]
     },
     "execution_count": 22,
     "metadata": {},
     "output_type": "execute_result"
    }
   ],
   "source": [
    "#Array\n",
    "\n",
    "np_array_2d[3:6, 0]"
   ]
  },
  {
   "cell_type": "code",
   "execution_count": 24,
   "id": "2f75acf7-a13f-4564-803a-c6cdec93facd",
   "metadata": {},
   "outputs": [
    {
     "data": {
      "text/plain": [
       "array(['1', '2', '3', '4', '5', '6', '7', '8', '9', '10'], dtype='<U21')"
      ]
     },
     "execution_count": 24,
     "metadata": {},
     "output_type": "execute_result"
    }
   ],
   "source": [
    "#Array\n",
    "\n",
    "np_array_2d[:, 0]"
   ]
  },
  {
   "attachments": {},
   "cell_type": "markdown",
   "id": "acf6fc08",
   "metadata": {},
   "source": [
    "## 1.4 Growing lists"
   ]
  },
  {
   "cell_type": "markdown",
   "id": "6e6f423d-32f9-4cdf-ba39-f976ed1cbda3",
   "metadata": {},
   "source": [
    "NumPy arrays are invaluable, and their slicing syntax (e.g. `[:3,0]`) is more intuitive than lists. So, why do we even bother with lists? One advantage of lists is their ease and efficiency in growing. NumPy arrays are fantastic for fast math operations, **provided you do not change their size**<sup>1</sup>. So, I will not discuss how to change the size of a NumPy array. Instead, let me show you how to grow a list. This will be useful later; for instance when you try to solve differential equations numerically"
   ]
  },
  {
   "cell_type": "markdown",
   "id": "b52e2da1-4df2-415a-86b6-d9e07c9e2b10",
   "metadata": {},
   "source": [
    "**Example 1**\n",
    "\n",
    "Creating a larger list from a smaller one."
   ]
  },
  {
   "cell_type": "code",
   "execution_count": 25,
   "id": "8a36af08-c25c-4f44-9015-2b845c477304",
   "metadata": {},
   "outputs": [
    {
     "data": {
      "text/plain": [
       "[1, 2, 1, 2, 1, 2, 1, 2, 1, 2]"
      ]
     },
     "execution_count": 25,
     "metadata": {},
     "output_type": "execute_result"
    }
   ],
   "source": [
    "x=[1, 2]*5\n",
    "x"
   ]
  },
  {
   "cell_type": "markdown",
   "id": "e2cc5ce1-44de-462c-9ba0-9684fbed63a9",
   "metadata": {},
   "source": [
    "**Example 2**\n",
    "\n",
    "Three ways to grow a list by appending one element at a time."
   ]
  },
  {
   "cell_type": "code",
   "execution_count": 27,
   "id": "3156f576-64ab-49c7-b70a-9c7795362680",
   "metadata": {},
   "outputs": [
    {
     "name": "stdout",
     "output_type": "stream",
     "text": [
      "[1, 2, 3, 4]\n",
      "[1, 2, 3, 4]\n",
      "[1, 2, 3, 4]\n"
     ]
    }
   ],
   "source": [
    "x=[1]\n",
    "x= x + [2]\n",
    "x= x + [3]\n",
    "x= x + [4]\n",
    "print(x)\n",
    "x=[1]\n",
    "x+= [2]\n",
    "x+= [3]\n",
    "x+= [4]\n",
    "print(x)\n",
    "x=[1]\n",
    "x.append(2)\n",
    "x.append(3)\n",
    "x.append(4)\n",
    "print(x)"
   ]
  },
  {
   "cell_type": "markdown",
   "id": "7803f1ae-8ed3-4584-ae3d-3c8d467a1442",
   "metadata": {},
   "source": [
    "There **are** differences between these three versions. Their execution speeds are different; the version with `append()` runs about 1.5 times faster than the rest!"
   ]
  },
  {
   "cell_type": "markdown",
   "id": "39974c72-0eed-4cb0-abac-4e0a7923bb11",
   "metadata": {},
   "source": [
    "**Example 3**\n",
    "\n",
    "Here are three ways of incorporating multiple elements.\n",
    "Notice the difference between the effects of `extend()` and `append()`."
   ]
  },
  {
   "cell_type": "code",
   "execution_count": 28,
   "id": "1caa9202-2a85-4037-8b46-31f84ede1d32",
   "metadata": {},
   "outputs": [
    {
     "name": "stdout",
     "output_type": "stream",
     "text": [
      "[1, 2, 3, 4, 5, 6]\n",
      "[1, 2, 3, 4, 5, 6]\n",
      "[1, 2, 3, [4, 5, 6]]\n"
     ]
    }
   ],
   "source": [
    "x = [1, 2, 3]\n",
    "x += [4, 5, 6]\n",
    "print(x)\n",
    "x=[1, 2, 3]\n",
    "x.extend([4, 5, 6])\n",
    "print(x)\n",
    "x=[1, 2, 3]\n",
    "x.append([4, 5, 6])\n",
    "print(x)"
   ]
  },
  {
   "attachments": {},
   "cell_type": "markdown",
   "id": "a2776262",
   "metadata": {},
   "source": [
    "# Some loose ends"
   ]
  },
  {
   "attachments": {},
   "cell_type": "markdown",
   "id": "db3b4841",
   "metadata": {},
   "source": [
    "## 1.5 Tuples"
   ]
  },
  {
   "cell_type": "markdown",
   "id": "6322e21a-3c7d-40c7-b8d3-0f489fd0a27a",
   "metadata": {},
   "source": [
    "Before we end this section, I must introduce you to another data storage structure called a <font color='orange'>tuple</font>. Tuples are similar to lists, except they use `( )` and cannot be changed after creation (i.e., they are immutable).\n",
    "\n",
    "Let me first create a simple tuple."
   ]
  },
  {
   "cell_type": "code",
   "execution_count": 29,
   "id": "da893a01-2271-42a9-8f3b-fe21e10da2d4",
   "metadata": {},
   "outputs": [],
   "source": [
    "a=(1, 2, 3)     # Define tuple"
   ]
  },
  {
   "cell_type": "markdown",
   "id": "cdb7a395-420d-46b9-bad9-5a98a61b50cf",
   "metadata": {},
   "source": [
    "We can access its data..."
   ]
  },
  {
   "cell_type": "code",
   "execution_count": 30,
   "id": "969512e1-22e7-4c4b-8832-e96e57bd389b",
   "metadata": {},
   "outputs": [
    {
     "name": "stdout",
     "output_type": "stream",
     "text": [
      "1\n"
     ]
    }
   ],
   "source": [
    "print(a[0])    # Access data"
   ]
  },
  {
   "cell_type": "markdown",
   "id": "5364f62d-9e54-45c0-af21-e2a4a10a748d",
   "metadata": {},
   "source": [
    "But, we cannot change the data."
   ]
  },
  {
   "cell_type": "code",
   "execution_count": 31,
   "id": "e6a73dbc-b52e-4c81-9aa6-0408cd478d4a",
   "metadata": {},
   "outputs": [
    {
     "ename": "TypeError",
     "evalue": "'tuple' object does not support item assignment",
     "output_type": "error",
     "traceback": [
      "\u001b[0;31m---------------------------------------------------------------------------\u001b[0m",
      "\u001b[0;31mTypeError\u001b[0m                                 Traceback (most recent call last)",
      "Cell \u001b[0;32mIn[31], line 2\u001b[0m\n\u001b[1;32m      1\u001b[0m \u001b[38;5;66;03m# The following will NOT work\u001b[39;00m\n\u001b[0;32m----> 2\u001b[0m \u001b[43ma\u001b[49m\u001b[43m[\u001b[49m\u001b[38;5;241;43m0\u001b[39;49m\u001b[43m]\u001b[49m\u001b[38;5;241m=\u001b[39m\u001b[38;5;241m-\u001b[39m\u001b[38;5;241m1\u001b[39m\n\u001b[1;32m      3\u001b[0m a[\u001b[38;5;241m0\u001b[39m]\u001b[38;5;241m+\u001b[39m\u001b[38;5;241m=\u001b[39m [\u001b[38;5;241m10\u001b[39m]\n",
      "\u001b[0;31mTypeError\u001b[0m: 'tuple' object does not support item assignment"
     ]
    }
   ],
   "source": [
    "# The following will NOT work\n",
    "a[0]=-1\n",
    "a[0]+= [10]"
   ]
  },
  {
   "attachments": {},
   "cell_type": "markdown",
   "id": "deac868a",
   "metadata": {},
   "source": [
    "## 1.6 Be VERY careful when copying"
   ]
  },
  {
   "cell_type": "markdown",
   "id": "45423320-105b-437b-8742-c0229d4dd9dd",
   "metadata": {},
   "source": [
    "Variables in Python have subtle features that might make your life miserable if you are not careful. You should be particularly mindful when making copies of lists and arrays.\n",
    "\n",
    "For example, if you want to copy a list, you might be tempted to do the following; PLEASE DON’T!"
   ]
  },
  {
   "cell_type": "code",
   "execution_count": 32,
   "id": "a8e0d558-9149-4c7a-b13c-655dfbf5d256",
   "metadata": {},
   "outputs": [],
   "source": [
    "x=[1, 2, 3]\n",
    "y=x           # DON'T do this!\n",
    "z=x           # DON'T do this!"
   ]
  },
  {
   "cell_type": "markdown",
   "id": "849cb0c9-48b7-4a2f-ae5c-255a642d2bef",
   "metadata": {},
   "source": [
    "The correct way to do this is as follows:"
   ]
  },
  {
   "cell_type": "code",
   "execution_count": 33,
   "id": "ad7ffa8a-73b4-4750-ac2d-d12dcc299687",
   "metadata": {},
   "outputs": [],
   "source": [
    "x=[1, 2, 3]\n",
    "y=x.copy()\n",
    "z=x.copy()"
   ]
  },
  {
   "cell_type": "markdown",
   "id": "d760dc0b-edf7-4df4-a333-4b2290f6ecfd",
   "metadata": {},
   "source": [
    "**Note**: At this stage, you only have to know that you must use copy() to be safe; you **do not** have to understand why. However, if you want to, please refer to the discussion on mutable and immutable objects."
   ]
  },
  {
   "attachments": {},
   "cell_type": "markdown",
   "id": "14f4e346",
   "metadata": {},
   "source": [
    "# Exercises & Self-Assessment"
   ]
  },
  {
   "cell_type": "code",
   "execution_count": 34,
   "id": "26c66bc8",
   "metadata": {},
   "outputs": [],
   "source": [
    "\n",
    "\n",
    "\n",
    "# Answers in the Exercise notebooks\n",
    "\n",
    "\n"
   ]
  },
  {
   "attachments": {},
   "cell_type": "markdown",
   "id": "0d342dd3",
   "metadata": {},
   "source": [
    "## Footnotes"
   ]
  },
  {
   "cell_type": "markdown",
   "id": "cd8f6861-733c-4a01-9121-81908deff6f2",
   "metadata": {},
   "source": [
    "1. The gains in speed are due to NumPy doing things to all the elements in the array in one go. For this, the data needs to be stored in a specific order in memory. Adding or removing elements hinders this optimization. When you change the size of a NumPy array, NumPy destroys the existing array and creates a new one, making it extremely inefficient."
   ]
  }
 ],
 "metadata": {
  "kernelspec": {
   "display_name": "Python 3 (ipykernel)",
   "language": "python",
   "name": "python3"
  },
  "language_info": {
   "codemirror_mode": {
    "name": "ipython",
    "version": 3
   },
   "file_extension": ".py",
   "mimetype": "text/x-python",
   "name": "python",
   "nbconvert_exporter": "python",
   "pygments_lexer": "ipython3",
   "version": "3.11.5"
  },
  "toc": {
   "base_numbering": 1,
   "nav_menu": {},
   "number_sections": true,
   "sideBar": true,
   "skip_h1_title": false,
   "title_cell": "Table of Contents",
   "title_sidebar": "Contents",
   "toc_cell": false,
   "toc_position": {},
   "toc_section_display": true,
   "toc_window_display": false
  },
  "vscode": {
   "interpreter": {
    "hash": "31f2aee4e71d21fbe5cf8b01ff0e069b9275f58929596ceb00d14d90e3e16cd6"
   }
  }
 },
 "nbformat": 4,
 "nbformat_minor": 5
}
