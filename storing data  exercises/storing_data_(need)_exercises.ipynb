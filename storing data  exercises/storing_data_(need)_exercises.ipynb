{
 "cells": [
  {
   "attachments": {},
   "cell_type": "markdown",
   "id": "123456",
   "metadata": {},
   "source": [
    "<div style=\"text-align:left;font-size:2em\"><span style=\"font-weight:bolder;font-size:1.25em\">SP2273 | Learning Portfolio</span><br><br><span style=\"font-weight:bold;color:darkred\">Storing Data (Need) Exercises</span></div>"
   ]
  },
  {
   "cell_type": "markdown",
   "id": "290d5d4d-7f96-4f60-8535-57980ff9eb8a",
   "metadata": {},
   "source": [
    "**Exercise 1**"
   ]
  },
  {
   "cell_type": "markdown",
   "id": "9108e167-9472-40bd-a95f-654fd32f9c74",
   "metadata": {},
   "source": [
    "Two similarities between lists and arrays:\n",
    "1. Both use square brackets to store data\n",
    "2. Both use index notation"
   ]
  },
  {
   "cell_type": "markdown",
   "id": "b38addb6-b2c0-49da-af42-3d249fd88d0e",
   "metadata": {},
   "source": [
    "Two differences between lists and arrays:\n",
    "\n",
    "1. In arrays, each element in the array is manipulated easily. However, for lists, you need to iterate through them to bring about the same changes.\n",
    "2. Elements of only one data type can be stored in each array, while lists can have multiple data types within a single list."
   ]
  },
  {
   "cell_type": "markdown",
   "id": "ef81258e-4de9-4fa6-bda4-1c03aaccfdd1",
   "metadata": {},
   "source": [
    "What is a dictionary?\n",
    "\n",
    "A dictionary stores data as unique key-value pairs."
   ]
  },
  {
   "cell_type": "markdown",
   "id": "963559a2-003d-49bc-b165-cefaa2321b0a",
   "metadata": {},
   "source": [
    "**Exercise 2**"
   ]
  },
  {
   "cell_type": "code",
   "execution_count": 1,
   "id": "22db4e05-476c-448f-98fb-9bdfe93e758a",
   "metadata": {},
   "outputs": [
    {
     "name": "stdout",
     "output_type": "stream",
     "text": [
      "a1\n",
      "c3\n",
      "e5\n",
      "g7\n",
      "i9\n"
     ]
    }
   ],
   "source": [
    "py_list = [\"a1\", \"b2\", \"c3\", \"d4\", \"e5\", \"f6\", \"g7\", \"h8\", \"i9\", \"j10\"]\n",
    "print(py_list[0])   # Prints 'a1'\n",
    "print(py_list[2])   # Prints 'c3'\n",
    "print(py_list[4])   # Prints 'e5'\n",
    "print(py_list[6])   # Prints 'g7'\n",
    "print(py_list[8])   # Prints 'i9'"
   ]
  },
  {
   "cell_type": "markdown",
   "id": "ea1e562a-231d-45a0-90d4-ba5455c9c77c",
   "metadata": {},
   "source": [
    "**Exercise 3**"
   ]
  },
  {
   "cell_type": "code",
   "execution_count": 2,
   "id": "c6008dd7-e6c5-4d48-ba3e-e2fd864d1303",
   "metadata": {},
   "outputs": [],
   "source": [
    "elements = ['Hydrogen',\n",
    "            'Helium', 'Lithium',\n",
    "            'Beryllium', 'Boron', 'Carbon',\n",
    "            'Nitrogen', 'Oxygen',\n",
    "            'Fluorine',\n",
    "            'Neon']"
   ]
  },
  {
   "cell_type": "markdown",
   "id": "39ca9414-bb5c-4055-974e-040b33e07169",
   "metadata": {},
   "source": [
    "1. Access and print the element at index 4 using forward indexing."
   ]
  },
  {
   "cell_type": "code",
   "execution_count": 3,
   "id": "1bad2bae-5903-4ed9-a0db-9e730fc10519",
   "metadata": {},
   "outputs": [
    {
     "name": "stdout",
     "output_type": "stream",
     "text": [
      "Boron\n"
     ]
    }
   ],
   "source": [
    "print(elements[4])"
   ]
  },
  {
   "cell_type": "markdown",
   "id": "2ba503e2-838e-4537-a7a7-25040360590c",
   "metadata": {},
   "source": [
    "2. Access and print the element at index 4 from the end of the list using reverse indexing."
   ]
  },
  {
   "cell_type": "code",
   "execution_count": 5,
   "id": "1b466b42-1427-43f2-8284-7e87e3267677",
   "metadata": {},
   "outputs": [
    {
     "name": "stdout",
     "output_type": "stream",
     "text": [
      "Carbon\n"
     ]
    }
   ],
   "source": [
    "print(elements[-5])"
   ]
  },
  {
   "cell_type": "markdown",
   "id": "c66cd7e1-890a-42cd-a212-80d96db07e73",
   "metadata": {},
   "source": [
    "**Exercise 4**"
   ]
  },
  {
   "cell_type": "code",
   "execution_count": 6,
   "id": "6c79d61c-f3d1-46c1-a2ab-6f50ce9a0dbc",
   "metadata": {},
   "outputs": [],
   "source": [
    "numbers=[45, 60, 1, 30, 96, 1, 96, 57, 16, 1,\n",
    "        99, 62, 86, 43, 42, 60, 59, 1, 1, 35,\n",
    "        83, 47, 34, 28, 68, 23, 22, 92, 1, 79,\n",
    "        1, 29, 94, 72, 46, 47, 1, 74, 32, 20,\n",
    "        8, 37, 35, 1, 89, 29, 86, 19, 43, 61]                  "
   ]
  },
  {
   "cell_type": "code",
   "execution_count": 7,
   "id": "63e1e93d-f45b-4832-ae03-b848a3aa7782",
   "metadata": {},
   "outputs": [],
   "source": [
    "import numpy as np"
   ]
  },
  {
   "cell_type": "code",
   "execution_count": 9,
   "id": "04ebad95-4855-4ad2-a6b5-1051712b7ce8",
   "metadata": {},
   "outputs": [],
   "source": [
    "array = np.array(numbers)"
   ]
  },
  {
   "cell_type": "code",
   "execution_count": 14,
   "id": "b89af809-251d-4728-94dc-216e88c65979",
   "metadata": {},
   "outputs": [],
   "source": [
    "new_array = (array == 1)"
   ]
  },
  {
   "cell_type": "code",
   "execution_count": 17,
   "id": "1c119a97-4358-478c-9f1e-15418b5a1076",
   "metadata": {},
   "outputs": [
    {
     "data": {
      "text/plain": [
       "9"
      ]
     },
     "execution_count": 17,
     "metadata": {},
     "output_type": "execute_result"
    }
   ],
   "source": [
    "new_array.sum()"
   ]
  }
 ],
 "metadata": {
  "kernelspec": {
   "display_name": "Python 3 (ipykernel)",
   "language": "python",
   "name": "python3"
  },
  "language_info": {
   "codemirror_mode": {
    "name": "ipython",
    "version": 3
   },
   "file_extension": ".py",
   "mimetype": "text/x-python",
   "name": "python",
   "nbconvert_exporter": "python",
   "pygments_lexer": "ipython3",
   "version": "3.11.5"
  },
  "toc": {
   "base_numbering": 1,
   "nav_menu": {},
   "number_sections": true,
   "sideBar": true,
   "skip_h1_title": false,
   "title_cell": "Table of Contents",
   "title_sidebar": "Contents",
   "toc_cell": false,
   "toc_position": {},
   "toc_section_display": true,
   "toc_window_display": false
  },
  "vscode": {
   "interpreter": {
    "hash": "31f2aee4e71d21fbe5cf8b01ff0e069b9275f58929596ceb00d14d90e3e16cd6"
   }
  }
 },
 "nbformat": 4,
 "nbformat_minor": 5
}
