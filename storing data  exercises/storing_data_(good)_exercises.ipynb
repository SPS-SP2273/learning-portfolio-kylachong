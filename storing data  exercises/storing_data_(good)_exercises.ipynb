{
 "cells": [
  {
   "attachments": {},
   "cell_type": "markdown",
   "id": "123456",
   "metadata": {},
   "source": [
    "<div style=\"text-align:left;font-size:2em\"><span style=\"font-weight:bolder;font-size:1.25em\">SP2273 | Learning Portfolio</span><br><br><span style=\"font-weight:bold;color:darkred\">Storing Data (Good) Exercises</span></div>"
   ]
  },
  {
   "cell_type": "markdown",
   "id": "b2bb78ea-1aa5-4ca1-8caf-322d21198e2c",
   "metadata": {},
   "source": [
    "**Exercise 1**"
   ]
  },
  {
   "cell_type": "markdown",
   "id": "77208fe0-4c12-45f4-b435-f2cbb6c7ad2a",
   "metadata": {},
   "source": [
    "Subsetting: refers to selecting elements from a specific portion of a data set\n",
    "\n",
    "Indexing: refers to selecting one element\n",
    "\n",
    "Slicing: refers to selecting a range of elements\n",
    "\n",
    "Masking: involves the creation of a boolean array or data structure that is used to select certain elements from another array or dataset."
   ]
  },
  {
   "cell_type": "markdown",
   "id": "93c1ceae-97d2-432d-8702-3c408584a81b",
   "metadata": {},
   "source": [
    "**Exercise 2**"
   ]
  },
  {
   "cell_type": "code",
   "execution_count": 1,
   "id": "3a3a0e76-0a8e-456c-97f0-3e358551e04e",
   "metadata": {},
   "outputs": [],
   "source": [
    "import numpy as np"
   ]
  },
  {
   "cell_type": "code",
   "execution_count": 2,
   "id": "978ef1ee-498c-4b3a-9458-03772a4eec64",
   "metadata": {},
   "outputs": [],
   "source": [
    "np_array_2d = np.array([[1, \"A\"], [3, \"C\"], [2, \"B\"], [4, \"D\"],\n",
    "                        [5, \"E\"], [7, \"G\"], [6, \"F\"], [8, \"H\"],\n",
    "                        [10, \"J\"], [9, \"I\"]])"
   ]
  },
  {
   "cell_type": "code",
   "execution_count": 3,
   "id": "5ad52a1b-ef00-443f-a71a-9ed635d34563",
   "metadata": {},
   "outputs": [],
   "source": [
    "array_of_num = np_array_2d[:, 0]"
   ]
  },
  {
   "cell_type": "code",
   "execution_count": 4,
   "id": "fd3ded12-60ee-49bf-b6fc-325c0f174278",
   "metadata": {},
   "outputs": [],
   "source": [
    "newarr = array_of_num.astype(int)"
   ]
  },
  {
   "cell_type": "code",
   "execution_count": 5,
   "id": "277b0ec4-16b9-4150-ab30-8f5eae9f70c4",
   "metadata": {},
   "outputs": [
    {
     "data": {
      "text/plain": [
       "array([ 1,  3,  2,  4,  5,  7,  6,  8, 10,  9])"
      ]
     },
     "execution_count": 5,
     "metadata": {},
     "output_type": "execute_result"
    }
   ],
   "source": [
    "newarr"
   ]
  },
  {
   "cell_type": "code",
   "execution_count": 6,
   "id": "15d1901c-89e3-4a9f-a5f3-8fea995b1d49",
   "metadata": {},
   "outputs": [],
   "source": [
    "even_odd_array = newarr%2"
   ]
  },
  {
   "cell_type": "code",
   "execution_count": 7,
   "id": "53c8de0c-81ee-43b3-a431-d2c89ad075d5",
   "metadata": {},
   "outputs": [
    {
     "data": {
      "text/plain": [
       "array([1, 1, 0, 0, 1, 1, 0, 0, 0, 1])"
      ]
     },
     "execution_count": 7,
     "metadata": {},
     "output_type": "execute_result"
    }
   ],
   "source": [
    "even_odd_array"
   ]
  },
  {
   "cell_type": "code",
   "execution_count": 12,
   "id": "30269161-7a69-4e49-b8a2-3e20e775be0b",
   "metadata": {},
   "outputs": [],
   "source": [
    "true_false_array = even_odd_array == 1"
   ]
  },
  {
   "cell_type": "code",
   "execution_count": 13,
   "id": "b81381f7-ae0b-493c-8eb3-48bbaeaef705",
   "metadata": {},
   "outputs": [
    {
     "data": {
      "text/plain": [
       "array([ True,  True, False, False,  True,  True, False, False, False,\n",
       "        True])"
      ]
     },
     "execution_count": 13,
     "metadata": {},
     "output_type": "execute_result"
    }
   ],
   "source": [
    "true_false_array"
   ]
  },
  {
   "cell_type": "code",
   "execution_count": 16,
   "id": "5896ff7d-0776-45aa-80c6-f3dde4358017",
   "metadata": {},
   "outputs": [
    {
     "data": {
      "text/plain": [
       "array(['A', 'C', 'E', 'G', 'I'], dtype='<U21')"
      ]
     },
     "execution_count": 16,
     "metadata": {},
     "output_type": "execute_result"
    }
   ],
   "source": [
    "np_array_2d[true_false_array][:,1]"
   ]
  }
 ],
 "metadata": {
  "kernelspec": {
   "display_name": "Python 3 (ipykernel)",
   "language": "python",
   "name": "python3"
  },
  "language_info": {
   "codemirror_mode": {
    "name": "ipython",
    "version": 3
   },
   "file_extension": ".py",
   "mimetype": "text/x-python",
   "name": "python",
   "nbconvert_exporter": "python",
   "pygments_lexer": "ipython3",
   "version": "3.11.5"
  },
  "toc": {
   "base_numbering": 1,
   "nav_menu": {},
   "number_sections": true,
   "sideBar": true,
   "skip_h1_title": false,
   "title_cell": "Table of Contents",
   "title_sidebar": "Contents",
   "toc_cell": false,
   "toc_position": {},
   "toc_section_display": true,
   "toc_window_display": false
  },
  "vscode": {
   "interpreter": {
    "hash": "31f2aee4e71d21fbe5cf8b01ff0e069b9275f58929596ceb00d14d90e3e16cd6"
   }
  }
 },
 "nbformat": 4,
 "nbformat_minor": 5
}
