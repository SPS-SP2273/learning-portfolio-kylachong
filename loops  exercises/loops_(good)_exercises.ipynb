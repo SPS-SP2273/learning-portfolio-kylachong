{
 "cells": [
  {
   "attachments": {},
   "cell_type": "markdown",
   "id": "123456",
   "metadata": {},
   "source": [
    "<div style=\"text-align:left;font-size:2em\"><span style=\"font-weight:bolder;font-size:1.25em\">SP2273 | Learning Portfolio</span><br><br><span style=\"font-weight:bold;color:darkred\">Loops (Good) Exercises</span></div>"
   ]
  },
  {
   "cell_type": "markdown",
   "id": "7aa1d3c0-239a-4f47-bda6-9cb7524c9b79",
   "metadata": {},
   "source": [
    "**Exercise 1**"
   ]
  },
  {
   "cell_type": "code",
   "execution_count": 7,
   "id": "9d10582b-9f44-42f1-9615-1e69da332e28",
   "metadata": {},
   "outputs": [
    {
     "name": "stdout",
     "output_type": "stream",
     "text": [
      "[1, 9, 25, 49, 81]\n"
     ]
    }
   ],
   "source": [
    "listofsquared = []\n",
    "\n",
    "for number in range(0, 10):\n",
    "\n",
    "    if number % 2 == 0:\n",
    "        continue\n",
    " \n",
    "    else:\n",
    "        number_squared = number**2\n",
    "        listofsquared.append(number_squared)\n",
    "\n",
    "print(listofsquared)"
   ]
  },
  {
   "cell_type": "markdown",
   "id": "cd53f038-37e1-4756-9310-41d163ff2016",
   "metadata": {},
   "source": [
    "**Exercise 2**"
   ]
  },
  {
   "cell_type": "code",
   "execution_count": 17,
   "id": "eefb50b1-0740-4f2d-b1b5-012b44b7c184",
   "metadata": {},
   "outputs": [
    {
     "data": {
      "text/plain": [
       "[1, 9, 25, 49, 81]"
      ]
     },
     "execution_count": 17,
     "metadata": {},
     "output_type": "execute_result"
    }
   ],
   "source": [
    "#part 1 (what do you want to do with the dummy var) \n",
    "#part 2 for statement \n",
    "# part 3 if statement\n",
    "\n",
    "[number**2 for number in range(10) if number % 2 == 1]"
   ]
  },
  {
   "cell_type": "markdown",
   "id": "6c2ed492-d4de-460a-89bf-a2fb22951e4d",
   "metadata": {},
   "source": [
    "**Exercise 3**"
   ]
  },
  {
   "cell_type": "code",
   "execution_count": 3,
   "id": "a8510809-6bbb-45b7-b130-d828e913bd2e",
   "metadata": {},
   "outputs": [
    {
     "name": "stdout",
     "output_type": "stream",
     "text": [
      "697 ns ± 13 ns per loop (mean ± std. dev. of 7 runs, 1,000,000 loops each)\n"
     ]
    }
   ],
   "source": [
    "%%timeit\n",
    "listofsquared = []\n",
    "for number in range(0, 10):\n",
    "\n",
    "    if number % 2 == 0:\n",
    "        continue\n",
    " \n",
    "    else:\n",
    "        number_squared = number**2\n",
    "        listofsquared.append(number_squared)\n"
   ]
  },
  {
   "cell_type": "code",
   "execution_count": 4,
   "id": "b5cb68c5-d589-4ad1-ae75-4c0f73e31733",
   "metadata": {},
   "outputs": [
    {
     "name": "stdout",
     "output_type": "stream",
     "text": [
      "673 ns ± 1.07 ns per loop (mean ± std. dev. of 7 runs, 1,000,000 loops each)\n"
     ]
    }
   ],
   "source": [
    "%%timeit\n",
    "[number**2 for number in range(10) if number % 2 == 1]"
   ]
  },
  {
   "cell_type": "markdown",
   "id": "47547e4a-1608-432d-8431-f5cc7e052915",
   "metadata": {},
   "source": [
    "Using list comprehension is faster than using a loop due to its efficiency in iteration as compared to using loop, which must handle the overhead Python interpreter with each iteration. "
   ]
  },
  {
   "cell_type": "markdown",
   "id": "80e27bcc-0833-4ac9-aab7-c9658d1e4747",
   "metadata": {},
   "source": [
    "**Exercise 4**"
   ]
  },
  {
   "cell_type": "code",
   "execution_count": 4,
   "id": "e193d80b-b804-4532-b80e-70662c5dc09f",
   "metadata": {},
   "outputs": [
    {
     "data": {
      "text/plain": [
       "14"
      ]
     },
     "execution_count": 4,
     "metadata": {},
     "output_type": "execute_result"
    }
   ],
   "source": [
    "# Initial quantity of the radioactive substance\n",
    "initial_quantity = 100\n",
    "\n",
    "# Decay rate per year\n",
    "decay_rate = 0.05\n",
    "\n",
    "# Target quantity (half of initial amount)\n",
    "target_quantity = initial_quantity / 2\n",
    "\n",
    "# Initialize current quantity to initial quantity\n",
    "current_quantity = initial_quantity\n",
    "\n",
    "# Initialize years taken\n",
    "years_taken = 0\n",
    "\n",
    "# Loop until current quantity is reduced to half or below\n",
    "while current_quantity > target_quantity:\n",
    "    # Calculate the quantity after decay for this year\n",
    "    current_quantity = current_quantity * (1 - decay_rate)\n",
    "    # Increase the years taken by 1\n",
    "    years_taken = years_taken + 1\n",
    "\n",
    "years_taken"
   ]
  },
  {
   "cell_type": "markdown",
   "id": "1b05bc83-b5a6-48dc-8496-6301f0e08f11",
   "metadata": {},
   "source": [
    "**Exercise 5**"
   ]
  },
  {
   "cell_type": "code",
   "execution_count": 5,
   "id": "000925b9-8c29-4ed5-b8c5-a74cadb790c0",
   "metadata": {},
   "outputs": [],
   "source": [
    "co2_data = [\n",
    "    (2000, 369.55), (2001, 371.14), (2002, 373.28), \n",
    "    (2003, 375.80), (2004, 377.52), (2005, 379.80), \n",
    "    (2006, 381.90), (2007, 383.79), (2008, 385.60), \n",
    "    (2009, 387.43), (2010, 389.90), (2011, 391.65), \n",
    "    (2012, 393.85), (2013, 396.52), (2014, 398.65),\n",
    "    (2015, 400.83), (2016, 404.24), (2017, 406.55), \n",
    "    (2018, 408.52), (2019, 411.44), (2020, 414.24)\n",
    "]"
   ]
  },
  {
   "cell_type": "code",
   "execution_count": 27,
   "id": "c98fdafe-5a70-4071-8d4e-4b3491950fdd",
   "metadata": {},
   "outputs": [
    {
     "name": "stdout",
     "output_type": "stream",
     "text": [
      "2016 3.410000000000025\n"
     ]
    }
   ],
   "source": [
    "# started the range from 1 because comparison needs to be done\n",
    "# first element cannot be compared with anything\n",
    "for i in range(1, len(co2_data)):\n",
    "\n",
    "    # store previous year's CO2 levels\n",
    "    year1_co2_level = co2_data[i-1][1] \n",
    "    \n",
    "    # store current year's CO2 levels\n",
    "    year2_co2_level = co2_data[i][1]\n",
    "    \n",
    "    # store current year\n",
    "    year2 = co2_data[i][0]\n",
    "    \n",
    "    # store change between current and previous years' CO2 levels\n",
    "    change = year2_co2_level-year1_co2_level\n",
    "    \n",
    "    if change >=3:\n",
    "    \n",
    "        print(year2, change)"
   ]
  },
  {
   "cell_type": "markdown",
   "id": "9137ec9f-4a5f-4fea-9145-c056128ffb3f",
   "metadata": {},
   "source": [
    "The year that showed an increase of CO2 levels of 3 ppm or more compared to the previous year is 2016, with a change in concentration of 3.41 ppm."
   ]
  }
 ],
 "metadata": {
  "kernelspec": {
   "display_name": "Python 3 (ipykernel)",
   "language": "python",
   "name": "python3"
  },
  "language_info": {
   "codemirror_mode": {
    "name": "ipython",
    "version": 3
   },
   "file_extension": ".py",
   "mimetype": "text/x-python",
   "name": "python",
   "nbconvert_exporter": "python",
   "pygments_lexer": "ipython3",
   "version": "3.11.5"
  },
  "toc": {
   "base_numbering": 1,
   "nav_menu": {},
   "number_sections": true,
   "sideBar": true,
   "skip_h1_title": false,
   "title_cell": "Table of Contents",
   "title_sidebar": "Contents",
   "toc_cell": false,
   "toc_position": {},
   "toc_section_display": true,
   "toc_window_display": false
  },
  "vscode": {
   "interpreter": {
    "hash": "31f2aee4e71d21fbe5cf8b01ff0e069b9275f58929596ceb00d14d90e3e16cd6"
   }
  }
 },
 "nbformat": 4,
 "nbformat_minor": 5
}
