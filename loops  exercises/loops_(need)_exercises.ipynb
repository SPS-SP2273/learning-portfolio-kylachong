{
 "cells": [
  {
   "attachments": {},
   "cell_type": "markdown",
   "id": "123456",
   "metadata": {},
   "source": [
    "<div style=\"text-align:left;font-size:2em\"><span style=\"font-weight:bolder;font-size:1.25em\">SP2273 | Learning Portfolio</span><br><br><span style=\"font-weight:bold;color:darkred\">Loops (Need) Exercises</span></div>"
   ]
  },
  {
   "cell_type": "markdown",
   "id": "b82dd9cc-e61e-483b-955f-153f2b85d3ae",
   "metadata": {},
   "source": [
    "**Exercise 1**"
   ]
  },
  {
   "cell_type": "code",
   "execution_count": 5,
   "id": "df853392-c15f-4794-8cfd-1dac4ab4d396",
   "metadata": {},
   "outputs": [
    {
     "name": "stdout",
     "output_type": "stream",
     "text": [
      "The temperature in celsius is 0 and the temperature in Farenheit is 32.0\n",
      "The temperature in celsius is 5 and the temperature in Farenheit is 41.0\n",
      "The temperature in celsius is 10 and the temperature in Farenheit is 50.0\n",
      "The temperature in celsius is 15 and the temperature in Farenheit is 59.0\n",
      "The temperature in celsius is 20 and the temperature in Farenheit is 68.0\n",
      "The temperature in celsius is 25 and the temperature in Farenheit is 77.0\n",
      "The temperature in celsius is 30 and the temperature in Farenheit is 86.0\n",
      "The temperature in celsius is 35 and the temperature in Farenheit is 95.0\n",
      "The temperature in celsius is 40 and the temperature in Farenheit is 104.0\n",
      "The temperature in celsius is 45 and the temperature in Farenheit is 113.0\n",
      "The temperature in celsius is 50 and the temperature in Farenheit is 122.0\n"
     ]
    }
   ],
   "source": [
    "temperatures_celsius = [\n",
    "    0, 5, 10, 15, 20, 25,\n",
    "    30, 35, 40, 45, 50\n",
    "]\n",
    "\n",
    "for temperature in temperatures_celsius:\n",
    "    temperature_farenheit=(temperature*(9/5)+32)\n",
    "    print(f'The temperature in celsius is {temperature} and the temperature in Farenheit is {temperature_farenheit}')"
   ]
  },
  {
   "cell_type": "markdown",
   "id": "d9072771-46a3-472e-8c6b-3342e94dfa2c",
   "metadata": {},
   "source": [
    "**Example 2**"
   ]
  },
  {
   "cell_type": "code",
   "execution_count": 6,
   "id": "61aea7b3-0a75-436a-ac6a-60864c87c98c",
   "metadata": {},
   "outputs": [
    {
     "name": "stdout",
     "output_type": "stream",
     "text": [
      "A1\tA2\tA3\t\n",
      "\n",
      "B1\tB2\tB3\t\n",
      "\n",
      "C1\tC2\tC3\t\n",
      "\n"
     ]
    }
   ],
   "source": [
    "for letter in ['A', 'B', 'C']:\n",
    "    for number in [1, 2, 3]:\n",
    "        print(f'{letter}{number}', end='\\t')\n",
    "    print('\\n')"
   ]
  },
  {
   "cell_type": "markdown",
   "id": "b0eb0ed6-8649-4c51-bbc1-b6aeedb87145",
   "metadata": {},
   "source": [
    "***Task***"
   ]
  },
  {
   "cell_type": "code",
   "execution_count": 2,
   "id": "ae80a6c1-1fa7-48e0-9ee9-688a437fe0ef",
   "metadata": {},
   "outputs": [
    {
     "name": "stdout",
     "output_type": "stream",
     "text": [
      "1 : 1   2   3   4   5   \n",
      "2 : 2   4   6   8   10  \n",
      "3 : 3   6   9   12  15  \n",
      "4 : 4   8   12  16  20  \n",
      "5 : 5   10  15  20  25  \n"
     ]
    }
   ],
   "source": [
    "numbers = ['1', '2', '3', '4', '5']\n",
    "numbers_int = [int(number) for number in numbers]\n",
    "\n",
    "for i in numbers_int:\n",
    "    print(f'{i} :', end=' ')\n",
    "    for j in numbers_int:\n",
    "        multiplied_number = i * j\n",
    "        print(f'{multiplied_number:<4}', end = '')\n",
    "    print()"
   ]
  },
  {
   "cell_type": "code",
   "execution_count": null,
   "id": "2b9f4fa6-ca7d-4cd6-9fb1-0d7e112e50db",
   "metadata": {},
   "outputs": [],
   "source": []
  }
 ],
 "metadata": {
  "kernelspec": {
   "display_name": "Python 3 (ipykernel)",
   "language": "python",
   "name": "python3"
  },
  "language_info": {
   "codemirror_mode": {
    "name": "ipython",
    "version": 3
   },
   "file_extension": ".py",
   "mimetype": "text/x-python",
   "name": "python",
   "nbconvert_exporter": "python",
   "pygments_lexer": "ipython3",
   "version": "3.11.5"
  },
  "toc": {
   "base_numbering": 1,
   "nav_menu": {},
   "number_sections": true,
   "sideBar": true,
   "skip_h1_title": false,
   "title_cell": "Table of Contents",
   "title_sidebar": "Contents",
   "toc_cell": false,
   "toc_position": {},
   "toc_section_display": true,
   "toc_window_display": false
  },
  "vscode": {
   "interpreter": {
    "hash": "31f2aee4e71d21fbe5cf8b01ff0e069b9275f58929596ceb00d14d90e3e16cd6"
   }
  }
 },
 "nbformat": 4,
 "nbformat_minor": 5
}
