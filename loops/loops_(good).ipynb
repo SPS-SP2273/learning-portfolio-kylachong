{
 "cells": [
  {
   "attachments": {},
   "cell_type": "markdown",
   "id": "123456",
   "metadata": {},
   "source": [
    "<div style=\"text-align:left;font-size:2em\"><span style=\"font-weight:bolder;font-size:1.25em\">SP2273 | Learning Portfolio</span><br><br><span style=\"font-weight:bold;color:darkred\">Loops (Good)</span></div>"
   ]
  },
  {
   "attachments": {},
   "cell_type": "markdown",
   "id": "443b15fd",
   "metadata": {},
   "source": [
    "# What to expect in this chapter"
   ]
  },
  {
   "cell_type": "markdown",
   "id": "6185f72c-8ed9-46b1-9771-3ef59c7f9eb5",
   "metadata": {},
   "source": [
    "This chapter will show you how to exercise more control over what happens in loops by using the `continue` and `break` statements, and also introduce **list comprehension**, a super-optimised variant of the `for` a loop. You can use this to create list from other lists."
   ]
  },
  {
   "attachments": {},
   "cell_type": "markdown",
   "id": "f98f74f2",
   "metadata": {},
   "source": [
    "# Interrupting the flow"
   ]
  },
  {
   "cell_type": "markdown",
   "id": "62cfe01a-e4b4-4c5d-b4d1-b68b3fda593f",
   "metadata": {},
   "source": [
    "There are many instances when you want to change the flow of a loop from within. The two commands, `break` and `continue`, allow us to do just that. Here are a few examples of how to use them."
   ]
  },
  {
   "cell_type": "markdown",
   "id": "038e328d-274c-4fb6-8c7c-2263931d685f",
   "metadata": {},
   "source": [
    "**Example 1**"
   ]
  },
  {
   "cell_type": "code",
   "execution_count": 1,
   "id": "8608b24e-e37d-4b99-8cab-29d7220f258d",
   "metadata": {},
   "outputs": [
    {
     "name": "stdout",
     "output_type": "stream",
     "text": [
      "0 1\n",
      "1 10\n",
      "2 100\n",
      "3 1000\n"
     ]
    }
   ],
   "source": [
    "for power in range(5):\n",
    "    number = 10**power\n",
    "    if number > 5000:\n",
    "        break\n",
    "    print(power, number)"
   ]
  },
  {
   "cell_type": "markdown",
   "id": "19d82082-62bd-4669-a616-30ff129adcf0",
   "metadata": {},
   "source": [
    "We use `break` to break-out of the loop and terminate it.\n",
    "We typically use it with `if` so that we break out if a certain condition is met.\n",
    "This will also work with a `while` loop."
   ]
  },
  {
   "cell_type": "markdown",
   "id": "f11464c1-37d8-4307-b37f-e40f4e57fe41",
   "metadata": {},
   "source": [
    "**Example 2**"
   ]
  },
  {
   "cell_type": "code",
   "execution_count": 2,
   "id": "d7e17348-0faa-4368-88f0-4a5eecb6dadd",
   "metadata": {},
   "outputs": [
    {
     "name": "stdout",
     "output_type": "stream",
     "text": [
      "0 1\n",
      "1 10\n",
      "2 100\n",
      "4 10000\n"
     ]
    }
   ],
   "source": [
    "for power in range(5):\n",
    "    if power == 3:\n",
    "        continue        # Don't proceed further\n",
    "                        # IN THE CURRENT LOOP\n",
    "                        # if i == 3\n",
    "    number = 10**power\n",
    "    print(power, number)"
   ]
  },
  {
   "cell_type": "markdown",
   "id": "a3d0176a-5ffc-43b3-89f3-d7cfe09a2750",
   "metadata": {},
   "source": [
    "Sometimes we want to skip an iteration and just move on to the next. `continue` allows us to do this by skipping everything **after** it. \n",
    "\n",
    "Notice how there is no printout for `power = 3`. `continue` too is typically used with `if`.\n",
    "This will also work with a `while` loop."
   ]
  },
  {
   "cell_type": "markdown",
   "id": "b39a791c-4dc9-42d8-a2c7-56002043caa1",
   "metadata": {},
   "source": [
    "**Example 3**"
   ]
  },
  {
   "cell_type": "code",
   "execution_count": 3,
   "id": "df2e8c27-518a-4d93-91bf-861fc4a680a1",
   "metadata": {},
   "outputs": [
    {
     "name": "stdout",
     "output_type": "stream",
     "text": [
      "1\n",
      "3\n",
      "5\n",
      "7\n",
      "9\n"
     ]
    }
   ],
   "source": [
    "for number in range(10):\n",
    "    # Don't proceed if the remainder is zero\n",
    "    # I.e. if the number is even\n",
    "    if number % 2 == 0:\n",
    "        continue\n",
    "    print(number)"
   ]
  },
  {
   "cell_type": "markdown",
   "id": "77d76899-281d-40da-9ada-6e84fbc093ee",
   "metadata": {},
   "source": [
    "**Example 4**"
   ]
  },
  {
   "cell_type": "code",
   "execution_count": 4,
   "id": "68747c8b-8fed-4a83-9613-8953e856e348",
   "metadata": {},
   "outputs": [
    {
     "name": "stdout",
     "output_type": "stream",
     "text": [
      "0\n",
      "1\n",
      "2\n",
      "3\n",
      "4\n"
     ]
    }
   ],
   "source": [
    "number=0\n",
    "\n",
    "while True:\n",
    "    print(number)\n",
    "    number += 1\n",
    "    if number > 4: break"
   ]
  },
  {
   "cell_type": "markdown",
   "id": "40a01c18-7473-4f6a-bbb7-1ab5050596c4",
   "metadata": {},
   "source": [
    "Let me redo the `while` example from the past chapter using `break`.\n",
    "Notice that I setup the loop to run forever<sup>1</sup> and use `break` to stop it.\n",
    "\n",
    "**Remember**\n",
    "\n",
    "Use `break` and `continue` (with impunity) to interrupt the flow of loops."
   ]
  },
  {
   "attachments": {},
   "cell_type": "markdown",
   "id": "631f5ee7",
   "metadata": {},
   "source": [
    "# List comprehension!"
   ]
  },
  {
   "cell_type": "markdown",
   "id": "3eda615e-bc0c-4ad7-85da-4993c7d40662",
   "metadata": {},
   "source": [
    "The exercises of the previous chapter had you using loops to create lists. However, creating new lists from other lists is so common that Python has an optimised syntax called <font color='orange'>list comprehension</font> to do just that. Here is how it works."
   ]
  },
  {
   "attachments": {},
   "cell_type": "markdown",
   "id": "22ec554b",
   "metadata": {},
   "source": [
    "## Basic syntax"
   ]
  },
  {
   "cell_type": "code",
   "execution_count": 5,
   "id": "8229f62a-a039-449a-98d0-aed157c5777d",
   "metadata": {},
   "outputs": [
    {
     "data": {
      "text/plain": [
       "[0, 1, 2, 3, 4]"
      ]
     },
     "execution_count": 5,
     "metadata": {},
     "output_type": "execute_result"
    }
   ],
   "source": [
    "[number for number in range(5)]"
   ]
  },
  {
   "cell_type": "markdown",
   "id": "d7cd5575-dd08-40f8-947a-74e94b0008fe",
   "metadata": {},
   "source": [
    "The adjoining creates a simple list with numbers from 0 to 4.\n",
    "The syntax is very similar to that of a `for` loop. You just need to put the thing you want as an output at the front.\n",
    "\n",
    "If you want to create a list of squares, we just have to:"
   ]
  },
  {
   "cell_type": "code",
   "execution_count": 6,
   "id": "11f2bbbf-33be-477b-8036-221a44a09856",
   "metadata": {},
   "outputs": [
    {
     "data": {
      "text/plain": [
       "[0, 1, 4, 9, 16]"
      ]
     },
     "execution_count": 6,
     "metadata": {},
     "output_type": "execute_result"
    }
   ],
   "source": [
    "[number**2 for number in range(5)]"
   ]
  },
  {
   "attachments": {},
   "cell_type": "markdown",
   "id": "a8502029",
   "metadata": {},
   "source": [
    "## List comprehension with conditions"
   ]
  },
  {
   "cell_type": "markdown",
   "id": "5d8aa183-0c3f-4051-9bf3-971a58c38c5d",
   "metadata": {},
   "source": [
    "List comprehension has several useful features. One such allows us to specify a condition. Here is an example:"
   ]
  },
  {
   "cell_type": "code",
   "execution_count": 7,
   "id": "f6164f35-f96b-4f03-a8f7-e6da3ed2241f",
   "metadata": {},
   "outputs": [
    {
     "data": {
      "text/plain": [
       "[0, 2, 4, 6, 8]"
      ]
     },
     "execution_count": 7,
     "metadata": {},
     "output_type": "execute_result"
    }
   ],
   "source": [
    "[number for number in range(10) if number % 2 ==0]"
   ]
  },
  {
   "attachments": {},
   "cell_type": "markdown",
   "id": "03af394e",
   "metadata": {},
   "source": [
    "# Other useful stuff"
   ]
  },
  {
   "attachments": {},
   "cell_type": "markdown",
   "id": "74d4ab9a",
   "metadata": {},
   "source": [
    "## `for` with unpacking"
   ]
  },
  {
   "cell_type": "markdown",
   "id": "caa1cdea-2235-438b-bc83-460b5212f083",
   "metadata": {},
   "source": [
    "Python allows a neat trick called <font color='orange'>unpacking</font>, which works like this:"
   ]
  },
  {
   "cell_type": "code",
   "execution_count": 8,
   "id": "0af2edf8-c133-499f-bff1-41bd3639e60f",
   "metadata": {},
   "outputs": [
    {
     "name": "stdout",
     "output_type": "stream",
     "text": [
      "x = 1, y = 2, z = 3\n"
     ]
    }
   ],
   "source": [
    "x, y, z=[1, 2, 3]\n",
    "print(f'x = {x}, y = {y}, z = {z}')"
   ]
  },
  {
   "cell_type": "markdown",
   "id": "73774410-afc5-4485-a45f-cbdc2743db73",
   "metadata": {},
   "source": [
    "Unpacking can be put to good use (for example) when we are dealing with 2D list. We can combine unpacking with a `for` loop to extract elements as follows:"
   ]
  },
  {
   "cell_type": "code",
   "execution_count": 9,
   "id": "1053cf42-72c9-49fc-912e-a55580cf0da3",
   "metadata": {},
   "outputs": [
    {
     "name": "stdout",
     "output_type": "stream",
     "text": [
      "Natasha Romanoff is Marvel's Black Widow!\n",
      "Tony Stark is Marvel's Iron Man!\n",
      "Stephen Strange is Marvel's Doctor Strange!\n"
     ]
    }
   ],
   "source": [
    "py_superhero_info = [['Natasha Romanoff', 'Black Widow'],\n",
    "                     ['Tony Stark', 'Iron Man'],\n",
    "                     ['Stephen Strange', 'Doctor Strange']]\n",
    "\n",
    "for real_name, super_name in py_superhero_info:\n",
    "    print(f\"{real_name} is Marvel's {super_name}!\")"
   ]
  },
  {
   "attachments": {},
   "cell_type": "markdown",
   "id": "c06c7028",
   "metadata": {},
   "source": [
    "## `for` with `zip()`"
   ]
  },
  {
   "cell_type": "markdown",
   "id": "1810dea9-5f3c-454b-b2f4-f70cab9af94d",
   "metadata": {},
   "source": [
    "Let’s revisit the example from the previous chapter that had two lists of real and superhero names that we used to print. There is yet another way to solve this task using a function called `zip()`. `zip()` is a neat function that can do some cool things. Here is how to use` zip()` to **combine** two lists."
   ]
  },
  {
   "cell_type": "code",
   "execution_count": 10,
   "id": "358828c0-2cda-4605-b90e-9738feeb640a",
   "metadata": {},
   "outputs": [
    {
     "name": "stdout",
     "output_type": "stream",
     "text": [
      "Natasha Romanoff is Marvel's Black Widow!\n",
      "Tony Stark is Marvel's Iron Man!\n",
      "Stephen Strange is Marvel's Doctor Strange!\n"
     ]
    }
   ],
   "source": [
    "super_names = [\"Black Widow\", \"Iron Man\", \"Doctor Strange\"]\n",
    "real_names = [\"Natasha Romanoff\", \"Tony Stark\", \"Stephen Strange\"]\n",
    "\n",
    "for real_name, super_name in zip(real_names,super_names):\n",
    "    print(f\"{real_name} is Marvel's {super_name}!\")"
   ]
  },
  {
   "cell_type": "markdown",
   "id": "62f5f80d-dde5-4977-b8fc-fb1c9534c24d",
   "metadata": {},
   "source": [
    "This is by far the most elegant solution we have for using multiple lists with a `for` loop."
   ]
  },
  {
   "attachments": {},
   "cell_type": "markdown",
   "id": "27f4c05b",
   "metadata": {},
   "source": [
    "## `for` with dictionaries"
   ]
  },
  {
   "cell_type": "markdown",
   "id": "2e41e661-c17c-4e81-a18d-a1f790239937",
   "metadata": {},
   "source": [
    "You will invariably need to loop through dictionaries in your programming career. Here is how you can do it with a `for` loop."
   ]
  },
  {
   "cell_type": "code",
   "execution_count": 11,
   "id": "adeab169-cc92-4a47-8809-58c453a96335",
   "metadata": {},
   "outputs": [
    {
     "name": "stdout",
     "output_type": "stream",
     "text": [
      "Natasha Romanoff is Marvel's Black Widow!\n",
      "Tony Stark is Marvel's Iron Man!\n",
      "Stephen Strange is Marvel's Doctor Strange!\n"
     ]
    }
   ],
   "source": [
    "superhero_info={\"Natasha Romanoff\": \"Black Widow\",\n",
    "                \"Tony Stark\": \"Iron Man\",\n",
    "                \"Stephen Strange\": \"Doctor Strange\"}\n",
    "\n",
    "for key, value in superhero_info.items():\n",
    "    print(f\"{key} is Marvel's {value}!\")"
   ]
  },
  {
   "cell_type": "markdown",
   "id": "7179689d-efd1-411d-94ab-87484937dedf",
   "metadata": {},
   "source": [
    "The ‘hidden’ function `items()` spits out both the key and the corresponding value.\n",
    "\n",
    "You can directly access the keys as follows:"
   ]
  },
  {
   "cell_type": "code",
   "execution_count": 12,
   "id": "a755fbb8-5bf7-40d1-9b03-e5fa3ef9d82c",
   "metadata": {},
   "outputs": [
    {
     "name": "stdout",
     "output_type": "stream",
     "text": [
      "Natasha Romanoff is Marvel's Black Widow!\n",
      "Tony Stark is Marvel's Iron Man!\n",
      "Stephen Strange is Marvel's Doctor Strange!\n"
     ]
    }
   ],
   "source": [
    "for key in superhero_info.keys():\n",
    "    value=superhero_info[key]\n",
    "    print(f\"{key} is Marvel's {value}!\")"
   ]
  },
  {
   "cell_type": "markdown",
   "id": "07c82ff7-3335-464f-aa9a-8d21d3ad31a4",
   "metadata": {},
   "source": [
    "The variable names `key` and `value` are used to highlight their roles in the dictionary. You can use whatever you like. In fact, using `real_name` and `super_name` is preferred."
   ]
  },
  {
   "attachments": {},
   "cell_type": "markdown",
   "id": "f78ebd88",
   "metadata": {},
   "source": [
    "## Footnotes"
   ]
  },
  {
   "cell_type": "markdown",
   "id": "106bb8e6-7f84-4343-ba20-af00701cc15e",
   "metadata": {},
   "source": [
    "1. or the end of the Universe"
   ]
  }
 ],
 "metadata": {
  "kernelspec": {
   "display_name": "Python 3 (ipykernel)",
   "language": "python",
   "name": "python3"
  },
  "language_info": {
   "codemirror_mode": {
    "name": "ipython",
    "version": 3
   },
   "file_extension": ".py",
   "mimetype": "text/x-python",
   "name": "python",
   "nbconvert_exporter": "python",
   "pygments_lexer": "ipython3",
   "version": "3.11.5"
  },
  "toc": {
   "base_numbering": 1,
   "nav_menu": {},
   "number_sections": true,
   "sideBar": true,
   "skip_h1_title": false,
   "title_cell": "Table of Contents",
   "title_sidebar": "Contents",
   "toc_cell": false,
   "toc_position": {},
   "toc_section_display": true,
   "toc_window_display": false
  },
  "vscode": {
   "interpreter": {
    "hash": "31f2aee4e71d21fbe5cf8b01ff0e069b9275f58929596ceb00d14d90e3e16cd6"
   }
  }
 },
 "nbformat": 4,
 "nbformat_minor": 5
}
