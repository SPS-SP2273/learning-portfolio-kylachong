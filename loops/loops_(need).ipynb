{
 "cells": [
  {
   "attachments": {},
   "cell_type": "markdown",
   "id": "123456",
   "metadata": {},
   "source": [
    "<div style=\"text-align:left;font-size:2em\"><span style=\"font-weight:bolder;font-size:1.25em\">SP2273 | Learning Portfolio</span><br><br><span style=\"font-weight:bold;color:darkred\">Loops (Need)</span></div>"
   ]
  },
  {
   "attachments": {},
   "cell_type": "markdown",
   "id": "0a4c765f",
   "metadata": {},
   "source": [
    "# What to expect in this chapter"
   ]
  },
  {
   "cell_type": "markdown",
   "id": "d4378eb3-a346-4449-aed8-2447a126fb53",
   "metadata": {},
   "source": [
    "One of the most powerful features of programming is the ability to repeat a task over and over again. This can be as mundane as renaming a set of files or more involved, like running the same statistical analysis on many experimental data sets. While humans quickly become tired (and bored) with such tasks, computers excel at mindless repetitive tasks. This section will show you how to repeat things in Python. This topic is called <font color='orange'>loops</font> or <font color='orange'>iterations</font> and is one of the most valuable features of any programming language.\n",
    "\n",
    "Python offers two mechanisms for looping. One is the `for` statement, and the other is the `while` statement. We will spend more time on the former as it is the more used of the two."
   ]
  },
  {
   "attachments": {},
   "cell_type": "markdown",
   "id": "c3fa7c70",
   "metadata": {},
   "source": [
    "# The `for` iterator"
   ]
  },
  {
   "cell_type": "markdown",
   "id": "0508dc61-5527-468e-b493-a827842599d1",
   "metadata": {},
   "source": [
    "Let me quickly show you a few examples of using a `for` loop.\n",
    "\n",
    "Let’s say I want to print a message corresponding to every superhero in the following list."
   ]
  },
  {
   "cell_type": "code",
   "execution_count": 1,
   "id": "afb1efc3-f787-4b7d-8cc7-e1000a658f04",
   "metadata": {},
   "outputs": [],
   "source": [
    "real_names = [\"Natasha Romanoff\", \"Tony Stark\", \"Stephen Strange\"]"
   ]
  },
  {
   "cell_type": "markdown",
   "id": "aacad195-1d77-4780-b600-91c507968453",
   "metadata": {},
   "source": [
    "Here is one (poor) way of doing this."
   ]
  },
  {
   "cell_type": "code",
   "execution_count": 2,
   "id": "618f6edd-c207-4656-bac6-b8015e8637ac",
   "metadata": {},
   "outputs": [
    {
     "name": "stdout",
     "output_type": "stream",
     "text": [
      "Natasha Romanoff is a Marvel superhero!\n",
      "Tony Stark is a Marvel superhero!\n",
      "Stephen Strange is a Marvel superhero!\n"
     ]
    }
   ],
   "source": [
    "name=real_names[0]\n",
    "print(f\"{name} is a Marvel superhero!\")\n",
    "\n",
    "name=real_names[1]\n",
    "print(f\"{name} is a Marvel superhero!\")\n",
    "\n",
    "name=real_names[2]\n",
    "print(f\"{name} is a Marvel superhero!\")"
   ]
  },
  {
   "cell_type": "markdown",
   "id": "6bb02234-abea-4a7c-a188-68382f95743b",
   "metadata": {},
   "source": [
    "This way of programming is not very good because:\n",
    "\n",
    "1. it does not scale very well (imagine if you have a 100 names!),\n",
    "2. it is cumbersome to make changes, you have to do it three times.\n",
    "3. it is highly error prone, since you need to type something new (even if you are copying and pasting most of it).\n",
    "\n",
    "This is where a `for` loop can come in handy."
   ]
  },
  {
   "attachments": {},
   "cell_type": "markdown",
   "id": "ca159bb6",
   "metadata": {},
   "source": [
    "## `for` with a list"
   ]
  },
  {
   "cell_type": "markdown",
   "id": "2d075f40-7fed-495b-9306-665606f27061",
   "metadata": {},
   "source": [
    "I can achieve the same result using a `for` loop as follows:"
   ]
  },
  {
   "cell_type": "code",
   "execution_count": 3,
   "id": "529b3808-29ed-401a-b823-d9f226f3fe35",
   "metadata": {},
   "outputs": [
    {
     "name": "stdout",
     "output_type": "stream",
     "text": [
      "Natasha Romanoff is a Marvel superhero!\n",
      "Tony Stark is a Marvel superhero!\n",
      "Stephen Strange is a Marvel superhero!\n"
     ]
    }
   ],
   "source": [
    "for name in real_names:\n",
    "    print(f\"{name} is a Marvel superhero!\")"
   ]
  },
  {
   "cell_type": "markdown",
   "id": "167b6769-6fae-4b04-abeb-e9a817ff20c7",
   "metadata": {},
   "source": [
    "Notice the structure of the `for` loop;\n",
    "\n",
    "- it goes through the list and assigns `name` the value of each element of the list.\n",
    "- it then runs the code-block using this value of `name`.\n",
    "- the code block is designed by using `:` and tabs like with `if`.\n",
    "\n",
    "**Remember**\n",
    "\n",
    "`for` can be used to directly loop through a list.\n",
    "\n",
    "By the way, there is nothing special about the names of the variables I have used. The following will work too. However, it will not be very readable because `x` is a bit cryptic in this context."
   ]
  },
  {
   "cell_type": "code",
   "execution_count": 4,
   "id": "92fe4526-bff9-4404-affb-2597250e46a7",
   "metadata": {},
   "outputs": [
    {
     "name": "stdout",
     "output_type": "stream",
     "text": [
      "Natasha Romanoff is a Marvel superhero!\n",
      "Tony Stark is a Marvel superhero!\n",
      "Stephen Strange is a Marvel superhero!\n"
     ]
    }
   ],
   "source": [
    "for x in real_names:\n",
    "    print(f\"{x} is a Marvel superhero!\")"
   ]
  },
  {
   "attachments": {},
   "cell_type": "markdown",
   "id": "1647b570",
   "metadata": {},
   "source": [
    "## `for` with `enumerate`"
   ]
  },
  {
   "cell_type": "markdown",
   "id": "a5e9636f-4ee3-4599-8bfb-137a0e17cca0",
   "metadata": {},
   "source": [
    "Let’s say we want to do a bit more, like using the information in both of the following lists."
   ]
  },
  {
   "cell_type": "code",
   "execution_count": 5,
   "id": "630a4692-dbef-48d2-81e3-774e96fbebd3",
   "metadata": {},
   "outputs": [],
   "source": [
    "super_names = [\"Black Widow\", \"Iron Man\", \"Doctor Strange\"]\n",
    "real_names = [\"Natasha Romanoff\", \"Tony Stark\", \"Stephen Strange\"]"
   ]
  },
  {
   "cell_type": "markdown",
   "id": "d37ca608-9dac-4883-939a-0840379ff53d",
   "metadata": {},
   "source": [
    "Since the`for` loop only accepts one list, we need to do something else to access the data in both lists. One option is to use `enumerate()`. Let me first show you how `enumerate()` works."
   ]
  },
  {
   "cell_type": "code",
   "execution_count": 6,
   "id": "5dcf057e-93bd-4cb2-b2f3-1053838ef7c9",
   "metadata": {},
   "outputs": [
    {
     "name": "stdout",
     "output_type": "stream",
     "text": [
      "0: Natasha Romanoff is a Marvel superhero!\n",
      "1: Tony Stark is a Marvel superhero!\n",
      "2: Stephen Strange is a Marvel superhero!\n"
     ]
    }
   ],
   "source": [
    "for count, name in enumerate(real_names):\n",
    "    print(f'{count}: {name} is a Marvel superhero!')"
   ]
  },
  {
   "cell_type": "markdown",
   "id": "f832a6e3-7878-45a0-ab7f-3d195c4b6b38",
   "metadata": {},
   "source": [
    "You can think of `enumerate()` as something that keeps count. In the above example, `enumerate()` not only gives the elements of the list, it also gives you a number (that is stored in `count`).\n",
    "\n",
    "Other than counting, we can use the count given by `enumerate()` to index the other list!"
   ]
  },
  {
   "cell_type": "code",
   "execution_count": 7,
   "id": "5c5b2ad1-4aed-4f23-8814-236e92a649cc",
   "metadata": {},
   "outputs": [
    {
     "name": "stdout",
     "output_type": "stream",
     "text": [
      "Natasha Romanoff is Black Widow!\n",
      "Tony Stark is Iron Man!\n",
      "Stephen Strange is Doctor Strange!\n"
     ]
    }
   ],
   "source": [
    "for index, name in enumerate(real_names):\n",
    "    superhero_name = super_names[index]\n",
    "    print(f'{name} is {superhero_name}!')"
   ]
  },
  {
   "cell_type": "markdown",
   "id": "8f657da9-2fa0-436d-8f41-4da456fd9643",
   "metadata": {},
   "source": [
    "Before we move on, I would like to highlight two things:\n",
    "\n",
    "1. Notice how I changed the variable name used with `enumerate()` to (`count` and `index`) to match their logical use. This makes it easy to immediately see what you are doing (i.e., the intention) with the code. Python does not really care about this, but remember that we write programmes for humans!\n",
    "\n",
    "2. Although by default, `enumerate()` starts counting from 0, we can easily change it to start at another value, say 100."
   ]
  },
  {
   "cell_type": "code",
   "execution_count": 8,
   "id": "c6f99b92-0d38-4a53-a176-4bceca338591",
   "metadata": {},
   "outputs": [
    {
     "name": "stdout",
     "output_type": "stream",
     "text": [
      "100: Natasha Romanoff is a Marvel superhero!\n",
      "101: Tony Stark is a Marvel superhero!\n",
      "102: Stephen Strange is a Marvel superhero!\n"
     ]
    }
   ],
   "source": [
    "for count, name in enumerate(real_names, 100):\n",
    "    print(f'{count}: {name} is a Marvel superhero!')"
   ]
  },
  {
   "cell_type": "markdown",
   "id": "59bcb6b5-da69-4aca-ab75-e929fed83afd",
   "metadata": {},
   "source": [
    "**Remember**\n",
    "\n",
    "`for` can be combined with `enumerate()` to count while looping through a list."
   ]
  },
  {
   "attachments": {},
   "cell_type": "markdown",
   "id": "80bd8110",
   "metadata": {},
   "source": [
    "## for with range"
   ]
  },
  {
   "cell_type": "markdown",
   "id": "85db947e-7def-462f-9d54-f155b9b75fa0",
   "metadata": {},
   "source": [
    "Yet, another way to achieve the result above is by using the function `range()`. But, first lets see what `range()` can do."
   ]
  },
  {
   "cell_type": "markdown",
   "id": "98809769-e0ce-4071-ac40-4e905a681598",
   "metadata": {},
   "source": [
    "**Example 1**"
   ]
  },
  {
   "cell_type": "code",
   "execution_count": 9,
   "id": "a2e60d3b-e052-4d2a-8ee2-dc5a844f0741",
   "metadata": {},
   "outputs": [
    {
     "name": "stdout",
     "output_type": "stream",
     "text": [
      "0\n",
      "1\n",
      "2\n",
      "3\n",
      "4\n"
     ]
    }
   ],
   "source": [
    "for i in range(5):\n",
    "    print(i)"
   ]
  },
  {
   "cell_type": "markdown",
   "id": "08ff3fd1-3868-4016-a217-b282ab3552a9",
   "metadata": {},
   "source": [
    "We can use `range()` to get the `for` loop to run a given number of loops (5 in this example)."
   ]
  },
  {
   "cell_type": "markdown",
   "id": "b7a188df-1e89-4b31-9c46-dc16f293461f",
   "metadata": {},
   "source": [
    "**Example 2**"
   ]
  },
  {
   "cell_type": "code",
   "execution_count": 10,
   "id": "2dd2f696-e113-4cb1-b991-683a1673ab10",
   "metadata": {},
   "outputs": [
    {
     "name": "stdout",
     "output_type": "stream",
     "text": [
      "5\n",
      "6\n",
      "7\n",
      "8\n",
      "9\n"
     ]
    }
   ],
   "source": [
    "for i in range(5, 10):\n",
    "    print(i)"
   ]
  },
  {
   "cell_type": "markdown",
   "id": "7f0f588f-1415-48c6-8bcc-2bbd765b11e4",
   "metadata": {},
   "source": [
    "We can tailor the starting and ending values..."
   ]
  },
  {
   "cell_type": "markdown",
   "id": "78097d23-61c8-4f54-9859-14f148799d0b",
   "metadata": {},
   "source": [
    "**Example 3**"
   ]
  },
  {
   "cell_type": "code",
   "execution_count": 11,
   "id": "baaecbf9-3b1e-456b-92e2-1cb0fa78a07c",
   "metadata": {},
   "outputs": [
    {
     "name": "stdout",
     "output_type": "stream",
     "text": [
      "1\n",
      "4\n",
      "7\n"
     ]
    }
   ],
   "source": [
    "for i in range(1, 10, 3):\n",
    "    print(i)"
   ]
  },
  {
   "cell_type": "markdown",
   "id": "101e8104-5622-49c3-9b07-6743cf2e7087",
   "metadata": {},
   "source": [
    "We can even adjust the step size.\n",
    "\n",
    "Note:\n",
    "\n",
    "- Functions like `range()` and `enumerate()` only work with looping structures.\n",
    "- `range()` always ends one short of the ending number.\n",
    "\n",
    "Now, let’s return to our initial problem of printing superhero names. We can use `range()` as follows:"
   ]
  },
  {
   "cell_type": "code",
   "execution_count": 12,
   "id": "30632915-ecf8-4c8c-b506-2d57a944966c",
   "metadata": {},
   "outputs": [
    {
     "name": "stdout",
     "output_type": "stream",
     "text": [
      "Natasha Romanoff is Marvel's Black Widow!\n",
      "Tony Stark is Marvel's Iron Man!\n",
      "Stephen Strange is Marvel's Doctor Strange!\n"
     ]
    }
   ],
   "source": [
    "for i in range(len(real_names)):\n",
    "    real_name = real_names[i]\n",
    "    super_name = super_names[i]        \n",
    "    print(f\"{real_name} is Marvel's {super_name}!\")"
   ]
  },
  {
   "cell_type": "markdown",
   "id": "aab46ad5-84b0-439e-a350-ecc8456ea8bd",
   "metadata": {},
   "source": [
    "Notice that I have used the len(real_names) to get how many times the loop should run.\n",
    "\n",
    "**Remember**\n",
    "\n",
    "`for` can be run a given number of times using `range()`."
   ]
  },
  {
   "attachments": {},
   "cell_type": "markdown",
   "id": "8b25d32e",
   "metadata": {},
   "source": [
    "# 2 while"
   ]
  },
  {
   "cell_type": "code",
   "execution_count": 13,
   "id": "0780c29a-6312-4b2d-b736-41a330dfa3da",
   "metadata": {},
   "outputs": [
    {
     "name": "stdout",
     "output_type": "stream",
     "text": [
      "0\n",
      "1\n",
      "2\n",
      "3\n",
      "4\n"
     ]
    }
   ],
   "source": [
    "number = 0\n",
    "\n",
    "while number < 5:\n",
    "    print(number)\n",
    "    number += 1"
   ]
  },
  {
   "cell_type": "markdown",
   "id": "5bcce8be-4b13-4fa3-9adb-b4f686946465",
   "metadata": {},
   "source": [
    "Now let’s take a quick look at the `while` loop. A `while` loop is set up so that it keeps on running **while** a condition is `True`. So the `while` loop checks the condition at the start and begins another loop if it is `True`.\n",
    "\n",
    "In the adjoining example the loop keeps on going while the number is less than 5.\n",
    "\n",
    "A useful feature of the `while` loop is that you do not need to know beforehand how many iterations are needed."
   ]
  }
 ],
 "metadata": {
  "kernelspec": {
   "display_name": "Python 3 (ipykernel)",
   "language": "python",
   "name": "python3"
  },
  "language_info": {
   "codemirror_mode": {
    "name": "ipython",
    "version": 3
   },
   "file_extension": ".py",
   "mimetype": "text/x-python",
   "name": "python",
   "nbconvert_exporter": "python",
   "pygments_lexer": "ipython3",
   "version": "3.11.5"
  },
  "toc": {
   "base_numbering": 1,
   "nav_menu": {},
   "number_sections": true,
   "sideBar": true,
   "skip_h1_title": false,
   "title_cell": "Table of Contents",
   "title_sidebar": "Contents",
   "toc_cell": false,
   "toc_position": {},
   "toc_section_display": true,
   "toc_window_display": false
  },
  "vscode": {
   "interpreter": {
    "hash": "31f2aee4e71d21fbe5cf8b01ff0e069b9275f58929596ceb00d14d90e3e16cd6"
   }
  }
 },
 "nbformat": 4,
 "nbformat_minor": 5
}
