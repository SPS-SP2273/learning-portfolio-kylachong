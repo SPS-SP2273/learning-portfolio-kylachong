{
 "cells": [
  {
   "attachments": {},
   "cell_type": "markdown",
   "id": "123456",
   "metadata": {},
   "source": [
    "<div style=\"text-align:left;font-size:2em\"><span style=\"font-weight:bolder;font-size:1.25em\">SP2273 | Learning Portfolio</span><br><br><span style=\"font-weight:bold;color:darkred\">Using Jupyter (Need)</span></div>"
   ]
  },
  {
   "cell_type": "markdown",
   "id": "0c79e315-eecb-4a8d-a468-70f0f43cdec1",
   "metadata": {},
   "source": [
    "# **Getting ready**"
   ]
  },
  {
   "cell_type": "markdown",
   "id": "95d29b26-4685-4ba5-b5e9-50e65004f296",
   "metadata": {},
   "source": [
    "1. Use the terminal to navigate to the folder <font color='purple'>Using Jupyter</font> in your Learning Portfolio.\n",
    "2. Start Jupyter notebooks through the terminal.\n",
    "3. Use the button `New` to create a new <font color='purple'>Python 3 (ipykernel)</font> notebook.\n",
    "4. Click the <font color='purple'>Untitled</font> at the top (next to the Jupiter logo) and rename the file to <font color='purple'>using-jupyter_need</font>. "
   ]
  },
  {
   "cell_type": "markdown",
   "id": "255e52b4-a251-4f88-b16e-b70930a8c447",
   "metadata": {},
   "source": [
    "# **Getting started with Jupyter**"
   ]
  },
  {
   "cell_type": "markdown",
   "id": "9127fa0b-1119-40aa-bab5-2df751a7f89f",
   "metadata": {},
   "source": [
    "## It is all about running cells"
   ]
  },
  {
   "cell_type": "markdown",
   "id": "4b688054-4a2d-4a5e-b595-5e1dca924ffe",
   "metadata": {},
   "source": [
    "The basic unit of a Jupyter Notebook is a **cell**. A cell can either accept Python code or text in a format called <font color='orange'>Markdown</font>.\n",
    "\n",
    "A cell ready to accept Python is called a **code cell**, while one ready for Markdown is called a **Markdown cell**. To 'get things done', we **Run** a cell by using the Run button or the keyboard shortcut <font color='purple'>CTRL + ENTER</font> (or <font color='purple'>CMD + Enter</font>). \n",
    "\n",
    "![](https://problemsolvingwithpython.com/02-Jupyter-Notebooks/images/run_cell.png)\n",
    "\n",
    "Running a code cell invokes Python while running a Markdown cell **renders** (i.e., makes it look pretty) your Markdown text. "
   ]
  },
  {
   "cell_type": "markdown",
   "id": "d0ff9aa0-a1ed-4abd-a89a-2d22a249c9b8",
   "metadata": {},
   "source": [
    "## A Traditional Start"
   ]
  },
  {
   "cell_type": "markdown",
   "id": "d1e4ff32-fc00-493d-b9ab-e6a2d1c6953e",
   "metadata": {},
   "source": [
    "**How to use the print function**"
   ]
  },
  {
   "cell_type": "markdown",
   "id": "1ab42081-0bb1-4bc7-8e9c-c00b7b47c1eb",
   "metadata": {},
   "source": [
    "1. Select a cell and convert it into a code cell. By default, all new cells are code cells.\n",
    "\n",
    "![](https://problemsolvingwithpython.com/02-Jupyter-Notebooks/images/code_cell.png)\n",
    "\n",
    "2. Type the following and run the command (i.e., pass the instruction to Python) by pressing the run button or using the keyboard shortcut <font color='purple'>CTRL + ENTER</font> (or <font color='purple'>CMD + ENTER</font>)."
   ]
  },
  {
   "cell_type": "code",
   "execution_count": 4,
   "id": "c4e996f2-5b36-4e74-a7bd-34655758a29d",
   "metadata": {},
   "outputs": [
    {
     "name": "stdout",
     "output_type": "stream",
     "text": [
      "Hello World!\n"
     ]
    }
   ],
   "source": [
    "print('Hello World!')"
   ]
  },
  {
   "cell_type": "markdown",
   "id": "69c57d97-2d76-41ce-a6da-77063b3a640a",
   "metadata": {},
   "source": [
    "You will also see that the number before your code cell changes. This number is used to keep track of the history of the commands you have issued. It helps keep track of which input corresponds to which output."
   ]
  },
  {
   "attachments": {},
   "cell_type": "markdown",
   "id": "46a6664f",
   "metadata": {},
   "source": [
    "# **All About Markdown**"
   ]
  },
  {
   "cell_type": "markdown",
   "id": "f758b226-2cc9-4dbb-b871-a2c816835712",
   "metadata": {},
   "source": [
    "Markdown is a minimalist 'language' that helps you to format your writing. Despite being lightweight, it is very powerful and gives fantastic results. Using Markdown can help you to focus on the content as it is simple and distraction-free."
   ]
  },
  {
   "cell_type": "markdown",
   "id": "962c8298-fbef-42be-aa3a-bce2fb536d39",
   "metadata": {},
   "source": [
    "## Rendering Markdown cells"
   ]
  },
  {
   "cell_type": "markdown",
   "id": "cdcbdcf8-2ac2-4a20-afde-6f61c8800b6e",
   "metadata": {},
   "source": [
    "To render your text:\n",
    "1. Select a cell and convert it into a Markdown cell (you can use the keyboard shortcut <font color='purple'>ESC + M</font>),\n",
    "2. Input your text and\n",
    "3. Run.\n",
    "\n",
    "To start, copy and paste the following and run the cell:\n",
    "\n",
    "<font color='purple'>The ships hung in the sky in much the same way that bricks don't.</font>"
   ]
  },
  {
   "cell_type": "markdown",
   "id": "21898fe0-5b4f-4315-ab00-41f029a9f519",
   "metadata": {},
   "source": [
    "The ships hung in the sky in much the same way that bricks don’t."
   ]
  },
  {
   "cell_type": "markdown",
   "id": "b53bfefd-4917-4318-bdb0-d62e0d7ea3d3",
   "metadata": {},
   "source": [
    "## Some basic syntax"
   ]
  },
  {
   "cell_type": "markdown",
   "id": "632588f4-2dac-4cbe-98a8-a2a5a05e6b3f",
   "metadata": {},
   "source": [
    "The table shows some basic Markdown syntax to modify how some text is rendered.\n",
    "\n",
    "| **Style**   |  **Syntax**  |    \n",
    "| :--- | :--: | \n",
    "| Bold  |  `** **` or `__ __`  |   \n",
    "| Italic   |  `* *` or `_ _`  |   \n",
    "| All bold and italic   |  `*** ***`  |\n",
    "| Subscript | `<sub>` `</sub>` |\n",
    "| Superscript | `<sup>` `</sup>` |\n",
    "\n",
    "\n",
    "Example:\n",
    "\n",
    "`The ships *hung in the sky* in much the same way that **bricks don’t.**<sup>1</sup><sub>QUOTE</sub>`"
   ]
  },
  {
   "cell_type": "markdown",
   "id": "8b21a4f2-0f85-44a0-ac48-5becf469872e",
   "metadata": {},
   "source": [
    "This will be rendered as:\n",
    "\n",
    "The *ships hung in the sky* in much the same way that **bricks don’t**.<sup>1</sup><sub>QUOTE</sub>"
   ]
  },
  {
   "attachments": {},
   "cell_type": "markdown",
   "id": "eccf9072",
   "metadata": {},
   "source": [
    "## Headings"
   ]
  },
  {
   "cell_type": "markdown",
   "id": "c9eee236-9d06-4054-bf39-2da60c9e1bf2",
   "metadata": {},
   "source": [
    "Markdown uses `#` for headings as follows. \n",
    "\n",
    "`# The largest heading`\n",
    "\n",
    "`## The second-largest heading`\n",
    "\n",
    "`### The third-largest heading`\n",
    "\n",
    "`#### The smallest heading`"
   ]
  },
  {
   "cell_type": "markdown",
   "id": "ad1fa798-71d5-45c9-86b1-67f8001bc5a4",
   "metadata": {},
   "source": [
    "```\n",
    "# Top\n",
    "bglgadlcbashsfd\n",
    "\n",
    "## Lower\n",
    "xnlIOCcFNHF\n",
    "\n",
    "### Even Lower\n",
    "XNHiosdanhfshafdnhdsa\n",
    "\n",
    "#### Lowest\n",
    "gbocggasfhdc\n",
    "```"
   ]
  },
  {
   "cell_type": "markdown",
   "id": "ad6ba8f1-cc56-4829-8269-0a21c3be91a8",
   "metadata": {},
   "source": [
    "## Displaying Code"
   ]
  },
  {
   "cell_type": "markdown",
   "id": "64e95785-589d-4ec3-a37b-72c36b8c867c",
   "metadata": {},
   "source": [
    "If you want to mention code inline, you can enclose it between two backticks (``` ` ```), like ``` `print('Hello World!')` ```. This will be rendered as `print('Hello World!')`."
   ]
  },
  {
   "cell_type": "markdown",
   "id": "6ba0d651-3e2b-4610-aa75-34c0ce42680a",
   "metadata": {},
   "source": [
    "`This is code`"
   ]
  },
  {
   "cell_type": "markdown",
   "id": "6c4a31dd-5a20-4195-b4fe-90ac7c3fab75",
   "metadata": {},
   "source": [
    "You can also have a block of code by using the following syntax.\n",
    "\n",
    "````\n",
    "```python\n",
    "print('Hello World!')\n",
    "```"
   ]
  },
  {
   "cell_type": "markdown",
   "id": "e825ffa3-48c1-478a-9353-cb8cd625bf15",
   "metadata": {},
   "source": [
    "This will be rendered as:\n",
    "\n",
    "```python\n",
    "print('Hello World!')\n",
    "```"
   ]
  },
  {
   "attachments": {},
   "cell_type": "markdown",
   "id": "8bc8fb9e",
   "metadata": {},
   "source": [
    "## Links"
   ]
  },
  {
   "cell_type": "markdown",
   "id": "5240e5c4-6299-4cc2-82d1-657f978d5aa6",
   "metadata": {},
   "source": [
    "Creating links with Markdown is trivial. Enclose the display text in `[ ]` followed by the link-address in `( )` like\n",
    "\n",
    "`[SP2273 Website](https://sps.nus.edu.sg/sp2273)`\n",
    "\n",
    "This will be rendered as <u>[SP2273 Website](https://sps.nus.edu.sg/sp2273)</u>. Things won't work if you don't include the `https://` part. "
   ]
  },
  {
   "cell_type": "markdown",
   "id": "9d606429-981f-4b19-a294-1cee3cf29385",
   "metadata": {},
   "source": [
    "Example: [THIS IS LINK TEXT](https://sps.nus.edu.sg)"
   ]
  },
  {
   "cell_type": "markdown",
   "id": "8cb71e5c-d0e7-4b50-8645-307609c2dfc9",
   "metadata": {},
   "source": [
    "## Inserting Images"
   ]
  },
  {
   "cell_type": "markdown",
   "id": "6f19dcd4-5e70-4590-a15a-849097c5f089",
   "metadata": {},
   "source": [
    "Markdown also lets you easily include images from your computer on the web. The syntax is similar to links, except there is a `!` in front. "
   ]
  },
  {
   "cell_type": "markdown",
   "id": "86bb3676-fd00-45b6-b6ea-adf25f15bb20",
   "metadata": {},
   "source": [
    "The syntax is:\n",
    "\n",
    "`![](link-of-image)`"
   ]
  },
  {
   "cell_type": "markdown",
   "id": "d562868e-cc96-43e5-8fb9-11c9c07ca1be",
   "metadata": {},
   "source": [
    "Example:\n",
    "\n",
    "`![](https://nus.edu.sg/images/default-source/base/logo.png)`"
   ]
  },
  {
   "cell_type": "markdown",
   "id": "2f02c121-7410-44c4-bc8b-ba56e00c0556",
   "metadata": {},
   "source": [
    "This will give you:\n",
    "\n",
    "![](https://nus.edu.sg/images/default-source/base/logo.png)\n",
    "\n",
    "You can also similarly include images on your computer. Just put the filename instead of the address. Again, you need to give enough information (full or relative path, see chapter os) for Jupyter to be able to find the file.\n",
    "\n",
    "Sometimes, you might have to copy the image file to the folder/directory containing the `.ipynb` to successfully include local images. (This happens mainly for Windows users.)"
   ]
  },
  {
   "attachments": {},
   "cell_type": "markdown",
   "id": "78fa5e3f",
   "metadata": {},
   "source": [
    "## Tables"
   ]
  },
  {
   "cell_type": "markdown",
   "id": "d2670bd5-8183-45d0-83ee-6f340eed8453",
   "metadata": {},
   "source": [
    "Markdown following syntax to create tables:\n",
    "\n",
    "```\n",
    "| A    |  B   |    C |\n",
    "| :--- | :--: | ---: |\n",
    "| a1   |  b1  |   c1 |\n",
    "| a2   |  b2  |   c2 |\n",
    "| a3   |  b3  |   c3 |\n",
    "```\n",
    "While will be rendered as:\n",
    "\n",
    "| A    |  B   |    C |\n",
    "| :--- | :--: | ---: |\n",
    "| a1   |  b1  |   c1 |\n",
    "| a2   |  b2  |   c2 |\n",
    "| a3   |  b3  |   c3 |\n",
    "\n",
    "It can be easier to organise the information in Excel or Sheets and then use a web tool like <u>[Table Generator](https://www.tablesgenerator.com/)</u> to create the tables."
   ]
  },
  {
   "attachments": {},
   "cell_type": "markdown",
   "id": "7f7fbe0e",
   "metadata": {},
   "source": [
    "## Lists"
   ]
  },
  {
   "cell_type": "markdown",
   "id": "6c186850-ac2f-4fc9-9b4a-5a9e4da8b3c0",
   "metadata": {},
   "source": [
    "You can have numbered or unnumbered lists in Markdown. Below are a few examples. I have shown the code first and then what it will look like when rendered.\n",
    "\n",
    "**Numbered**\n",
    "```\n",
    "1. Master Yoda\n",
    "1. Luke Skywalker\n",
    "1. Anakin Skywalker\n",
    "```\n",
    "1. Master Yoda\n",
    "1. Luke Skywalker\n",
    "1. Anakin Skywalker\n",
    "\n",
    "**Unnumbered**\n",
    "```\n",
    "- Master Yoda\n",
    "- Luke Skywalker\n",
    "- Anakin Skywalker\n",
    "```\n",
    "- Master Yoda\n",
    "- Luke Skywalker\n",
    "- Anakin Skywalker\n",
    "\n",
    "**Numbered-numbered**\n",
    "```\n",
    "1. Master Yoda\n",
    "   1. Was a Jedi\n",
    "   1. Was a bit green\n",
    "1. Luke Skywalker\n",
    "   1. Was a Jedi\n",
    "   1. Is Anakin's son.\n",
    "1. Anakin Skywalker\n",
    "   1. Was a Jedi then became a baddie\n",
    "   1. Is famous for saying 'Luke, I am your father'\n",
    "```\n",
    "1. Master Yoda\n",
    "   1. Was a Jedi\n",
    "   1. Was a bit green\n",
    "1. Luke Skywalker\n",
    "   1. Was a Jedi\n",
    "   1. Is Anakin's son.\n",
    "1. Anakin Skywalker\n",
    "   1. Was a Jedi then became a baddie\n",
    "   1. Is famous for saying 'Luke, I am your father'\n",
    "\n",
    "**Numbered-unnumbered**\n",
    "```\n",
    "1. Master Yoda\n",
    "   - Was a Jedi\n",
    "   - Was a bit green\n",
    "1. Luke Skywalker\n",
    "   - Was a Jedi\n",
    "   - Is Anakin's son.\n",
    "1. Anakin Skywalker\n",
    "   - Was a Jedi then, became a baddie\n",
    "   - Is famous for saying, _'Luke, I am your father'_.\n",
    "```\n",
    "1. Master Yoda\n",
    "   - Was a Jedi\n",
    "   - Was a bit green\n",
    "1. Luke Skywalker\n",
    "   - Was a Jedi\n",
    "   - Is Anakin's son.\n",
    "1. Anakin Skywalker\n",
    "   - Was a Jedi then, became a baddie\n",
    "   - Is famous for saying, _'Luke, I am your father'_."
   ]
  },
  {
   "cell_type": "markdown",
   "id": "841d8d62-8204-4ad8-88d2-9863bcb56672",
   "metadata": {},
   "source": [
    "***Numberer***"
   ]
  },
  {
   "cell_type": "markdown",
   "id": "d27bf730-119a-4c35-9507-28945885dcf8",
   "metadata": {},
   "source": [
    "1. hggg\n",
    "   1. small\n",
    "   2. glbsildvsdhg \n",
    "1. aaaa\n",
    "    - gghdgsdjk\n",
    "    - nhsichgdjk \n",
    "1. dddd\n"
   ]
  },
  {
   "attachments": {},
   "cell_type": "markdown",
   "id": "c3bd6cd5",
   "metadata": {},
   "source": [
    "## Equations"
   ]
  },
  {
   "cell_type": "markdown",
   "id": "d2670225-fcbf-4b72-9faa-1ccedc6772ee",
   "metadata": {},
   "source": [
    "Markdown can produce phenomenal math equations. \n",
    "\n",
    "- If you want to have inline math use two \\$ signs like `$\\sqrt{b^2-4ac}$`, which will be rendered as $\\sqrt{b^2-4ac}$.\n",
    "- If you want a math block, you can use the following:\n",
    "```\n",
    "$$\n",
    "x = \\dfrac{-b \\pm \\sqrt{b^2-4ac}}{2a}\n",
    "$$\n",
    "\n",
    "```\n",
    "Which will be rendered as:\n",
    "\n",
    "$$\n",
    "x = \\dfrac{-b \\pm \\sqrt{b^2-4ac}}{2a}\n",
    "$$\n",
    "\n",
    "Here are some helpful math commands that you can use. For more details, refer to the <u>[mathematical documentation at Overleaf](https://www.overleaf.com/learn/latex/Mathematical_expressions)</u>."
   ]
  },
  {
   "cell_type": "markdown",
   "id": "e7f328e8-1092-4d4e-9420-ef2200bb8eea",
   "metadata": {},
   "source": [
    "|                     |Input                                    | Rendered      |\n",
    "|---------------------|------------------------------------------|----------------------|\n",
    "| Fraction            | `$\\dfrac{y}{x}$`                       |    $\\dfrac{y}{x}$ |\n",
    "| Subscript           | `$x_{a}$`                              | $x_{a}$          |\n",
    "| Power               | `$x^{(y+z)}$`                          | $x^{(y+z)}$      |\n",
    "| Square root         | `$\\sqrt{a+b+c}$`                      | $\\sqrt{a+b+c}$   |\n",
    "| Sum                 | `$\\sum_{n=1}^{n=\\infty}x_n$`        | $\\sum_{n=1}^{n=\\infty}x_n$ |\n",
    "| Integral            | `$\\int_{x=1}^{x=\\infty}f(x)dx$`     | $\\int_{x=1}^{x=\\infty}f(x)dx$ |\n",
    "| Not equal           | `$a \\ne b$`                           | $a \\ne b$    |\n",
    "| Less than           | `$a \\lt b$`                           | $a \\lt b$         |\n",
    "| Less than or equal to | `$a \\leq b$`                          | $a \\leq b$       |\n",
    "| Greater than        | `$a \\gt b$`                           | $a \\gt b$        |\n",
    "| Greater than or equal to | `$a \\geq b$`                        | $a \\geq b$       |\n",
    "| Greek letters       | `$\\alpha, \\beta, \\gamma, \\pi, \\lambda$` | $\\alpha, \\beta, \\gamma, \\pi, \\lambda$ |\n"
   ]
  },
  {
   "cell_type": "markdown",
   "id": "f6701099-cf62-4825-8c6b-2aa29225b52a",
   "metadata": {},
   "source": [
    "This is a square $\\int x^2$."
   ]
  },
  {
   "cell_type": "markdown",
   "id": "94984f2d-d040-4eed-9380-33b2495aba68",
   "metadata": {},
   "source": [
    "$$\n",
    "x = \\dfrac{-b \\pm \\sqrt{b^2-4ac}}{2a}\r\n",
    "$$"
   ]
  },
  {
   "attachments": {},
   "cell_type": "markdown",
   "id": "c4a2e6ef",
   "metadata": {},
   "source": [
    "# Footnotes"
   ]
  },
  {
   "cell_type": "markdown",
   "id": "49cad59a-d0c3-4e3e-930c-09e343e7c0ec",
   "metadata": {},
   "source": [
    "This is a ggadklas^[footnote]"
   ]
  },
  {
   "cell_type": "markdown",
   "id": "ac3255fc-0188-4c40-bfa0-9284134abc2e",
   "metadata": {},
   "source": [
    "1. Know about **The Hitchhiker's Guide to the Galaxy**"
   ]
  }
 ],
 "metadata": {
  "kernelspec": {
   "display_name": "Python 3 (ipykernel)",
   "language": "python",
   "name": "python3"
  },
  "language_info": {
   "codemirror_mode": {
    "name": "ipython",
    "version": 3
   },
   "file_extension": ".py",
   "mimetype": "text/x-python",
   "name": "python",
   "nbconvert_exporter": "python",
   "pygments_lexer": "ipython3",
   "version": "3.11.5"
  },
  "toc": {
   "base_numbering": 1,
   "nav_menu": {},
   "number_sections": true,
   "sideBar": true,
   "skip_h1_title": false,
   "title_cell": "Table of Contents",
   "title_sidebar": "Contents",
   "toc_cell": false,
   "toc_position": {},
   "toc_section_display": true,
   "toc_window_display": false
  },
  "vscode": {
   "interpreter": {
    "hash": "31f2aee4e71d21fbe5cf8b01ff0e069b9275f58929596ceb00d14d90e3e16cd6"
   }
  }
 },
 "nbformat": 4,
 "nbformat_minor": 5
}
