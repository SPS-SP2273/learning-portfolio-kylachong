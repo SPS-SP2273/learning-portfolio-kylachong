{
 "cells": [
  {
   "cell_type": "raw",
   "id": "807abc98-cbc3-47e2-b87d-a4a86831a0e6",
   "metadata": {},
   "source": [
    "This is a test \n",
    "Second para\n",
    "Third para"
   ]
  },
  {
   "cell_type": "code",
   "execution_count": 1,
   "id": "e3f2010a-faf0-496e-ad14-b6eea8b21ca2",
   "metadata": {},
   "outputs": [
    {
     "name": "stdout",
     "output_type": "stream",
     "text": [
      "Hello World\n"
     ]
    }
   ],
   "source": [
    "print(\"Hello World\")"
   ]
  },
  {
   "cell_type": "markdown",
   "id": "37a428f6-cec1-4380-973f-1a70781ebc09",
   "metadata": {},
   "source": [
    "# **Quadratic Equation**\n",
    "\n",
    "## **Introduction**\n",
    "\n",
    "![](https://upload.wikimedia.org/wikipedia/commons/thumb/f/f8/Polynomialdeg2.svg/600px-Polynomialdeg2.svg.png)\n",
    "\n",
    "(*Image from the* [<u>*Wikipedia page on Quadratic equations*</u>](https://en.wikipedia.org/wiki/Quadratic_equation))"
   ]
  },
  {
   "cell_type": "code",
   "execution_count": 9,
   "id": "b1a8a3ac-64dd-4fdb-bbda-7107fde036f3",
   "metadata": {},
   "outputs": [
    {
     "name": "stdout",
     "output_type": "stream",
     "text": [
      "Kyla Chong\n",
      "Kyla Chong braden\n",
      "Kyla Chong braden\n"
     ]
    }
   ],
   "source": [
    "#I am assigning a=kyla's name\n",
    "a = 'Kyla Chong'\n",
    "print(a)\n",
    "#Then i will assign b to braden's name \n",
    "b = 'braden'\n",
    "print(a+ \" \" + b)\n",
    "#Lets assign space to c \n",
    "c = \" \"\n",
    "print(a+c+b)"
   ]
  },
  {
   "cell_type": "markdown",
   "id": "d1fa7bd2-070c-4344-b41e-aa1a2fd93821",
   "metadata": {},
   "source": [
    "hellooo"
   ]
  },
  {
   "cell_type": "code",
   "execution_count": null,
   "id": "950fdcdf-3414-480d-9797-8471409f1777",
   "metadata": {},
   "outputs": [],
   "source": []
  }
 ],
 "metadata": {
  "kernelspec": {
   "display_name": "Python 3 (ipykernel)",
   "language": "python",
   "name": "python3"
  },
  "language_info": {
   "codemirror_mode": {
    "name": "ipython",
    "version": 3
   },
   "file_extension": ".py",
   "mimetype": "text/x-python",
   "name": "python",
   "nbconvert_exporter": "python",
   "pygments_lexer": "ipython3",
   "version": "3.11.5"
  }
 },
 "nbformat": 4,
 "nbformat_minor": 5
}
