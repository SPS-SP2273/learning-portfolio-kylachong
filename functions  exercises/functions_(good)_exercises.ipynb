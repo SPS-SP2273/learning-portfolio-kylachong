{
 "cells": [
  {
   "attachments": {},
   "cell_type": "markdown",
   "id": "123456",
   "metadata": {},
   "source": [
    "<div style=\"text-align:left;font-size:2em\"><span style=\"font-weight:bolder;font-size:1.25em\">SP2273 | Learning Portfolio</span><br><br><span style=\"font-weight:bold;color:darkred\">Functions (Good) Exercises</span></div>"
   ]
  },
  {
   "cell_type": "markdown",
   "id": "2ca99d2c-32d6-48e8-a028-e873cb31da00",
   "metadata": {},
   "source": [
    "**Exercise 1**"
   ]
  },
  {
   "cell_type": "code",
   "execution_count": 1,
   "id": "dd15e13b-c245-4bb9-80fb-303c7fde74ec",
   "metadata": {},
   "outputs": [],
   "source": [
    "def convert_celsius(temperature_celsius, target_scale='Fahrenheit'):\n",
    "    if target_scale == 'Kelvin':\n",
    "       return temperature_celsius + 273.15\n",
    "    else:\n",
    "        return (temperature_celsius * 9/5) + 32\n",
    "        "
   ]
  },
  {
   "cell_type": "code",
   "execution_count": 2,
   "id": "524dca7e-59f0-4480-a39e-dd258cd4024c",
   "metadata": {},
   "outputs": [
    {
     "data": {
      "text/plain": [
       "298.15"
      ]
     },
     "execution_count": 2,
     "metadata": {},
     "output_type": "execute_result"
    }
   ],
   "source": [
    "convert_celsius(25, 'Kelvin')"
   ]
  },
  {
   "cell_type": "code",
   "execution_count": 3,
   "id": "3447f111-add4-418e-9069-879f7b3d530a",
   "metadata": {},
   "outputs": [
    {
     "data": {
      "text/plain": [
       "77.0"
      ]
     },
     "execution_count": 3,
     "metadata": {},
     "output_type": "execute_result"
    }
   ],
   "source": [
    "convert_celsius(25)"
   ]
  },
  {
   "cell_type": "markdown",
   "id": "80f2e762-159f-4437-ba14-d885e423bf72",
   "metadata": {},
   "source": [
    "**Exercise 2**"
   ]
  },
  {
   "cell_type": "code",
   "execution_count": 4,
   "id": "843b5d00-981d-4098-9cc6-9beb813f5821",
   "metadata": {},
   "outputs": [],
   "source": [
    "def convert_fahrenheit(temperature_fahrenheit, target_scale='Celsius'):\n",
    "    if target_scale == 'Kelvin':\n",
    "        return (temperature_fahrenheit - 32) * 5/9 + 273.15\n",
    "    else:\n",
    "        return (temperature_fahrenheit - 32) * 5/9"
   ]
  },
  {
   "cell_type": "code",
   "execution_count": 5,
   "id": "bc2361ca-a8b3-4458-83f2-334ed4f0028f",
   "metadata": {},
   "outputs": [
    {
     "data": {
      "text/plain": [
       "280.3722222222222"
      ]
     },
     "execution_count": 5,
     "metadata": {},
     "output_type": "execute_result"
    }
   ],
   "source": [
    "convert_fahrenheit(45, 'Kelvin')"
   ]
  },
  {
   "cell_type": "code",
   "execution_count": 6,
   "id": "a63c8e8d-7c2d-40d1-8f34-8bfb12dde153",
   "metadata": {},
   "outputs": [
    {
     "data": {
      "text/plain": [
       "7.222222222222222"
      ]
     },
     "execution_count": 6,
     "metadata": {},
     "output_type": "execute_result"
    }
   ],
   "source": [
    "convert_fahrenheit(45)"
   ]
  },
  {
   "cell_type": "markdown",
   "id": "298c28fb-8442-4370-9aaf-dafb00dfa1e8",
   "metadata": {},
   "source": [
    "**Exercise 3**"
   ]
  },
  {
   "cell_type": "code",
   "execution_count": 53,
   "id": "581af6bf-dacf-4510-ac1b-e5d84b8ce8e7",
   "metadata": {},
   "outputs": [],
   "source": [
    "def convert_temperature(temperature, source_scale, target_scale):\n",
    "\n",
    "    try:\n",
    "\n",
    "        source_scale = source_scale.capitalize()\n",
    "      \n",
    "        if source_scale == 'Celsius':\n",
    "            if target_scale == 'Fahrenheit':\n",
    "                return str(convert_celsius(temperature)) + \" °F\"\n",
    "            \n",
    "            return str(convert_celsius(temperature, target_scale)) + \" K\"\n",
    "       \n",
    "        elif source_scale == 'Fahrenheit':\n",
    "            if target_scale == 'Celsius':\n",
    "                return str(convert_fahrenheit(temperature)) + \" °C\"\n",
    "            \n",
    "            return str(convert_fahrenheit(temperature, target_scale)) + \" K\"\n",
    "       \n",
    "        else:\n",
    "            if target_scale == 'Celsius':\n",
    "                return str((temperature - 273.15)) + \" °C\"\n",
    "            \n",
    "            return str((temperature - 273.15) * 9/5 + 32) + \" °F\"\n",
    "\n",
    "    except:\n",
    "        print(\"There is an invalid input\")"
   ]
  },
  {
   "cell_type": "code",
   "execution_count": 58,
   "id": "3668e31d-5ea4-4426-9540-ba7d091c987e",
   "metadata": {},
   "outputs": [
    {
     "data": {
      "text/plain": [
       "'77.0 °F'"
      ]
     },
     "execution_count": 58,
     "metadata": {},
     "output_type": "execute_result"
    }
   ],
   "source": [
    "convert_temperature(25, 'celSius', 'Fahrenheit')"
   ]
  },
  {
   "cell_type": "code",
   "execution_count": 44,
   "id": "c80cff37-14b5-4be9-891c-fd1f58f06348",
   "metadata": {},
   "outputs": [
    {
     "data": {
      "text/plain": [
       "'298.15 K'"
      ]
     },
     "execution_count": 44,
     "metadata": {},
     "output_type": "execute_result"
    }
   ],
   "source": [
    "convert_temperature(25, 'Celsius', 'Kelvin')"
   ]
  },
  {
   "cell_type": "code",
   "execution_count": 45,
   "id": "60b082a3-ef6e-4001-b43e-a72296a6b827",
   "metadata": {},
   "outputs": [
    {
     "data": {
      "text/plain": [
       "'280.3722222222222 K'"
      ]
     },
     "execution_count": 45,
     "metadata": {},
     "output_type": "execute_result"
    }
   ],
   "source": [
    "convert_temperature(45, 'Fahrenheit', 'Kelvin')"
   ]
  },
  {
   "cell_type": "code",
   "execution_count": 46,
   "id": "a25764b1-1573-4b55-84f0-fb92bce08340",
   "metadata": {},
   "outputs": [
    {
     "data": {
      "text/plain": [
       "'7.222222222222222 °C'"
      ]
     },
     "execution_count": 46,
     "metadata": {},
     "output_type": "execute_result"
    }
   ],
   "source": [
    "convert_temperature(45, 'Fahrenheit', 'Celsius')"
   ]
  },
  {
   "cell_type": "code",
   "execution_count": 47,
   "id": "ed6976e6-93c5-41cd-8b5e-be790e9542fb",
   "metadata": {},
   "outputs": [
    {
     "data": {
      "text/plain": [
       "'-213.14999999999998 °C'"
      ]
     },
     "execution_count": 47,
     "metadata": {},
     "output_type": "execute_result"
    }
   ],
   "source": [
    "convert_temperature(60, 'Kelvin', 'Celsius')"
   ]
  },
  {
   "cell_type": "code",
   "execution_count": 48,
   "id": "21a7fcf0-466f-42a7-a575-0dbf32012f04",
   "metadata": {},
   "outputs": [
    {
     "data": {
      "text/plain": [
       "'-351.66999999999996 °F'"
      ]
     },
     "execution_count": 48,
     "metadata": {},
     "output_type": "execute_result"
    }
   ],
   "source": [
    "convert_temperature(60, 'Kelvin', 'Fahrenheit')"
   ]
  },
  {
   "cell_type": "code",
   "execution_count": 57,
   "id": "7c412048-d236-461e-b759-5cd3b91aaa6a",
   "metadata": {},
   "outputs": [
    {
     "name": "stdout",
     "output_type": "stream",
     "text": [
      "There is an invalid input\n"
     ]
    }
   ],
   "source": [
    "convert_temperature('60', 'stupid', 298)"
   ]
  }
 ],
 "metadata": {
  "kernelspec": {
   "display_name": "Python 3 (ipykernel)",
   "language": "python",
   "name": "python3"
  },
  "language_info": {
   "codemirror_mode": {
    "name": "ipython",
    "version": 3
   },
   "file_extension": ".py",
   "mimetype": "text/x-python",
   "name": "python",
   "nbconvert_exporter": "python",
   "pygments_lexer": "ipython3",
   "version": "3.11.5"
  },
  "toc": {
   "base_numbering": 1,
   "nav_menu": {},
   "number_sections": true,
   "sideBar": true,
   "skip_h1_title": false,
   "title_cell": "Table of Contents",
   "title_sidebar": "Contents",
   "toc_cell": false,
   "toc_position": {},
   "toc_section_display": true,
   "toc_window_display": false
  },
  "vscode": {
   "interpreter": {
    "hash": "31f2aee4e71d21fbe5cf8b01ff0e069b9275f58929596ceb00d14d90e3e16cd6"
   }
  }
 },
 "nbformat": 4,
 "nbformat_minor": 5
}
